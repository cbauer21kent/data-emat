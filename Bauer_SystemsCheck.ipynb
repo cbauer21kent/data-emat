{
 "cells": [
  {
   "cell_type": "markdown",
   "id": "3cb57da6-3a3b-4323-99ec-7adc573a16ea",
   "metadata": {},
   "source": [
    "# Systems Check\n",
    "## Carson Bauer\n",
    "## 8/22/2024\n",
    "\n",
    "In this class I want to become confident using __data scrapers__ to conduct my own research, mainly for _personal projects_ but _also_ for a career. I will do these things:\n",
    "1. Explore data visualization techniques\n",
    "2. Learn cool stuff\n",
    "\n",
    "![screenshot from seinfeld of george saying \"i've been suffering for the past 30 years up to and including yesterday\"](https://64.media.tumblr.com/23d55c50454bbe4b213a8262875a087e/74dd760ec0200a9a-aa/s1280x1920/fe83f6b8896bf9871ce43fa99711edd03cdc0290.jpg)"
   ]
  },
  {
   "cell_type": "code",
   "execution_count": 31,
   "id": "f8d77605-6ee5-4e3b-8d01-6735db18f35f",
   "metadata": {},
   "outputs": [
    {
     "name": "stdout",
     "output_type": "stream",
     "text": [
      "1\n",
      "2\n",
      "3\n"
     ]
    }
   ],
   "source": [
    "x = 0\n",
    "\n",
    "def add(y):\n",
    "    y += 1\n",
    "    return y\n",
    "\n",
    "for z in range(0,3):\n",
    "    x = add(x)\n",
    "    print(x)\n",
    "\n",
    "    "
   ]
  }
 ],
 "metadata": {
  "kernelspec": {
   "display_name": "Python 3 (ipykernel)",
   "language": "python",
   "name": "python3"
  },
  "language_info": {
   "codemirror_mode": {
    "name": "ipython",
    "version": 3
   },
   "file_extension": ".py",
   "mimetype": "text/x-python",
   "name": "python",
   "nbconvert_exporter": "python",
   "pygments_lexer": "ipython3",
   "version": "3.12.4"
  }
 },
 "nbformat": 4,
 "nbformat_minor": 5
}
