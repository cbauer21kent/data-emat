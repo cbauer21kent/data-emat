{
 "cells": [
  {
   "cell_type": "code",
   "execution_count": 339,
   "id": "c7114923-3a1c-422a-82ae-c0211cc37b4e",
   "metadata": {},
   "outputs": [],
   "source": [
    "import pandas as pd\n",
    "import json as js\n",
    "import requests\n",
    "from io import StringIO\n",
    "from bs4 import BeautifulSoup\n",
    "from matplotlib import pyplot as plt\n",
    "import numpy as np\n",
    "import re\n",
    "\n",
    "pd.set_option('display.float_format', '{:.0f}'.format) "
   ]
  },
  {
   "cell_type": "markdown",
   "id": "a72f3469-6e0c-443a-88fb-b3da6514d1cd",
   "metadata": {},
   "source": [
    "This section is what I tried in order to get the Billboard tables scraped. Because it's a complicated HTML structure (at least compared to Wikipedia) I had some trouble targeting it. I was getting errors until I spent an hour watching Beautifulsoup tutorials to try and target it, but decided it's worth it to explore other options first. If I end up needing this data I could give it another shot."
   ]
  },
  {
   "cell_type": "markdown",
   "id": "4c30d74d-b3af-4103-912a-53495b7b2b9e",
   "metadata": {},
   "source": [
    "My (rough) idea now is to look at the number of times the top tours (maybe top five or so?) visited different cities and find which ones are the most visited. I think I would limit my analysis to cities in the US for the sake of brevity and also to ensure I have the right financial data. Something to consider would be the populations of the states as well, and how that could affect the number of times a city is visited. "
   ]
  },
  {
   "cell_type": "markdown",
   "id": "33c9384f-15e1-4db1-a73e-50a451e4c1d7",
   "metadata": {},
   "source": [
    "I'd also like to look into some kind of way to map the region of a city/venue. In my experience, artists will have two shows in California (North and South) and then a show in Chicago and Philidelphia and nothing in-between. Because of the population density, Chicago is like the bastion for concerts in the Midwest. It would be interesting to see region (and population) taken into account too to see how many are in each region."
   ]
  },
  {
   "cell_type": "code",
   "execution_count": 340,
   "id": "9ee9083e-65c6-4ceb-9367-1e1597973622",
   "metadata": {},
   "outputs": [],
   "source": [
    "url_wiki = 'https://www.billboard.com/2023-year-end-boxscore-charts/#pmc-protected-embed-2'"
   ]
  },
  {
   "cell_type": "code",
   "execution_count": 341,
   "id": "e194a02f-45ab-4dc0-b6ae-1182c3184623",
   "metadata": {},
   "outputs": [
    {
     "data": {
      "text/plain": [
       "200"
      ]
     },
     "execution_count": 341,
     "metadata": {},
     "output_type": "execute_result"
    }
   ],
   "source": [
    "response1 = requests.get(url_wiki)\n",
    "response1.status_code"
   ]
  },
  {
   "cell_type": "code",
   "execution_count": 342,
   "id": "9003659d-7256-4319-927e-80d1396a726d",
   "metadata": {},
   "outputs": [
    {
     "name": "stdout",
     "output_type": "stream",
     "text": [
      "None\n"
     ]
    }
   ],
   "source": [
    "soup = BeautifulSoup(response1.text, \"html.parser\")\n",
    "the_table = soup.find('table',{'class':\"medium datawrapper-OPu6B-sqmikr svelte-1smti70 striped compact resortable\"})\n",
    "print(the_table)"
   ]
  },
  {
   "cell_type": "code",
   "execution_count": 343,
   "id": "711e37ef-f1c7-49e1-927e-8990ccf214e4",
   "metadata": {},
   "outputs": [],
   "source": [
    "eras_tour = 'https://en.wikipedia.org/wiki/The_Eras_Tour#:~:text=Long%20Story%20Short%22-,Tour%20dates,-List%20of%202023'"
   ]
  },
  {
   "cell_type": "code",
   "execution_count": 344,
   "id": "f2b5fa14-900b-4a58-867e-7093051cd3c5",
   "metadata": {},
   "outputs": [
    {
     "data": {
      "text/plain": [
       "200"
      ]
     },
     "execution_count": 344,
     "metadata": {},
     "output_type": "execute_result"
    }
   ],
   "source": [
    "response2 = requests.get(eras_tour)\n",
    "response2.status_code"
   ]
  },
  {
   "cell_type": "code",
   "execution_count": 345,
   "id": "e31a5d6e-a71c-43a5-b148-d1940e0ccab6",
   "metadata": {},
   "outputs": [
    {
     "data": {
      "text/plain": [
       "list"
      ]
     },
     "execution_count": 345,
     "metadata": {},
     "output_type": "execute_result"
    }
   ],
   "source": [
    "eras_tour_list = pd.read_html(StringIO(response2.text))\n",
    "type(eras_tour_list)"
   ]
  },
  {
   "cell_type": "markdown",
   "id": "22299af4-468a-4f7a-b8de-f7a97d71a4c7",
   "metadata": {},
   "source": [
    "I was a little surprised by how many things on Wikipedia pages are coded as tabled so it was mostly trial and error in terms of the index number to get the one I needed."
   ]
  },
  {
   "cell_type": "markdown",
   "id": "656c8a14-d18c-4807-a0cd-1bac9263d6f3",
   "metadata": {},
   "source": [
    "It was mentioned that the Wikipedia articles all cite data for their tables, but from my poking around it looks like they are once again citing Pollstar (paid) or an already put-together report, the same problems I've been running into. At least it's already concantenated for me though!"
   ]
  },
  {
   "cell_type": "code",
   "execution_count": 346,
   "id": "75e466d0-d418-4c2e-a51d-806cc49dc749",
   "metadata": {},
   "outputs": [
    {
     "data": {
      "text/html": [
       "<div>\n",
       "<style scoped>\n",
       "    .dataframe tbody tr th:only-of-type {\n",
       "        vertical-align: middle;\n",
       "    }\n",
       "\n",
       "    .dataframe tbody tr th {\n",
       "        vertical-align: top;\n",
       "    }\n",
       "\n",
       "    .dataframe thead th {\n",
       "        text-align: right;\n",
       "    }\n",
       "</style>\n",
       "<table border=\"1\" class=\"dataframe\">\n",
       "  <thead>\n",
       "    <tr style=\"text-align: right;\">\n",
       "      <th></th>\n",
       "      <th>Date (2023)</th>\n",
       "      <th>City</th>\n",
       "      <th>Country</th>\n",
       "      <th>Venue</th>\n",
       "      <th>Opening acts</th>\n",
       "      <th>Attendance</th>\n",
       "      <th>Revenue</th>\n",
       "    </tr>\n",
       "  </thead>\n",
       "  <tbody>\n",
       "    <tr>\n",
       "      <th>0</th>\n",
       "      <td>March 17</td>\n",
       "      <td>Glendale</td>\n",
       "      <td>United States</td>\n",
       "      <td>State Farm Stadium</td>\n",
       "      <td>Paramore Gayle</td>\n",
       "      <td>—</td>\n",
       "      <td>—</td>\n",
       "    </tr>\n",
       "    <tr>\n",
       "      <th>1</th>\n",
       "      <td>March 18</td>\n",
       "      <td>Glendale</td>\n",
       "      <td>United States</td>\n",
       "      <td>State Farm Stadium</td>\n",
       "      <td>Paramore Gayle</td>\n",
       "      <td>—</td>\n",
       "      <td>—</td>\n",
       "    </tr>\n",
       "    <tr>\n",
       "      <th>2</th>\n",
       "      <td>March 24</td>\n",
       "      <td>Paradise[i]</td>\n",
       "      <td>United States</td>\n",
       "      <td>Allegiant Stadium</td>\n",
       "      <td>Beabadoobee Gayle</td>\n",
       "      <td>—</td>\n",
       "      <td>—</td>\n",
       "    </tr>\n",
       "    <tr>\n",
       "      <th>3</th>\n",
       "      <td>March 25</td>\n",
       "      <td>Paradise[i]</td>\n",
       "      <td>United States</td>\n",
       "      <td>Allegiant Stadium</td>\n",
       "      <td>Beabadoobee Gayle</td>\n",
       "      <td>—</td>\n",
       "      <td>—</td>\n",
       "    </tr>\n",
       "    <tr>\n",
       "      <th>4</th>\n",
       "      <td>March 31</td>\n",
       "      <td>Arlington</td>\n",
       "      <td>United States</td>\n",
       "      <td>AT&amp;T Stadium</td>\n",
       "      <td>Muna Gayle</td>\n",
       "      <td>—</td>\n",
       "      <td>—</td>\n",
       "    </tr>\n",
       "  </tbody>\n",
       "</table>\n",
       "</div>"
      ],
      "text/plain": [
       "  Date (2023)         City        Country               Venue  \\\n",
       "0    March 17     Glendale  United States  State Farm Stadium   \n",
       "1    March 18     Glendale  United States  State Farm Stadium   \n",
       "2    March 24  Paradise[i]  United States   Allegiant Stadium   \n",
       "3    March 25  Paradise[i]  United States   Allegiant Stadium   \n",
       "4    March 31    Arlington  United States        AT&T Stadium   \n",
       "\n",
       "        Opening acts Attendance Revenue  \n",
       "0     Paramore Gayle          —       —  \n",
       "1     Paramore Gayle          —       —  \n",
       "2  Beabadoobee Gayle          —       —  \n",
       "3  Beabadoobee Gayle          —       —  \n",
       "4         Muna Gayle          —       —  "
      ]
     },
     "execution_count": 346,
     "metadata": {},
     "output_type": "execute_result"
    }
   ],
   "source": [
    "eras_2023 = eras_tour_list[5]\n",
    "eras_2024 = eras_tour_list[6]\n",
    "\n",
    "eras_2023.head()"
   ]
  },
  {
   "cell_type": "code",
   "execution_count": 347,
   "id": "d62fbbf9-5145-4d79-9f62-7dcde2b2b70a",
   "metadata": {},
   "outputs": [],
   "source": [
    "eras_2023['Date (2023)'] = eras_2023['Date (2023)'].astype(str) + ' 2023'\n",
    "eras_2024['Date (2024)'] = eras_2024['Date (2024)'].astype(str) + ' 2024'\n",
    "\n",
    "eras_2023.rename(columns={'Date (2023)': 'Date'}, inplace=True)\n",
    "eras_2024.rename(columns={'Date (2024)': 'Date'}, inplace=True)"
   ]
  },
  {
   "cell_type": "code",
   "execution_count": 348,
   "id": "b77351f6-e8aa-4c67-b907-7a797f99d960",
   "metadata": {},
   "outputs": [],
   "source": [
    "eras_tour_merged = pd.concat([eras_2023, eras_2024], axis = 0)\n",
    "# eras_tour_merged.head()"
   ]
  },
  {
   "cell_type": "markdown",
   "id": "3f349794-f11a-485b-bdb6-061a50cbf79c",
   "metadata": {},
   "source": [
    "Something I noticed with the Eras tour here as well is that very few dates are in the US (comparatively). Just skimming the Wikipedia article it looked a lot more global than it actually was, but nearly half of the dates were in the US. Glad I checked the numbers first before worrying about the results."
   ]
  },
  {
   "cell_type": "code",
   "execution_count": 349,
   "id": "713dbd21-5595-42c2-9c6f-08a9e234b8e6",
   "metadata": {},
   "outputs": [
    {
     "name": "stdout",
     "output_type": "stream",
     "text": [
      "Times in US: 62\n",
      "Times Abroad: 88\n"
     ]
    }
   ],
   "source": [
    "count_us_eras = (eras_tour_merged['Country'] == 'United States').sum()\n",
    "print(\"Times in US:\", count_us_eras)\n",
    "\n",
    "count_global_eras = eras_tour_merged['Country'].ne('United States').sum()\n",
    "print(\"Times Abroad:\", count_global_eras)"
   ]
  },
  {
   "cell_type": "code",
   "execution_count": 350,
   "id": "64506a96-ed9c-4ed9-a043-d973d3c2e0aa",
   "metadata": {},
   "outputs": [],
   "source": [
    "ej = 'https://en.wikipedia.org/wiki/Farewell_Yellow_Brick_Road'"
   ]
  },
  {
   "cell_type": "code",
   "execution_count": 351,
   "id": "4c2fc041-568d-4fae-80e6-ddd8a051ba2d",
   "metadata": {},
   "outputs": [
    {
     "data": {
      "text/plain": [
       "200"
      ]
     },
     "execution_count": 351,
     "metadata": {},
     "output_type": "execute_result"
    }
   ],
   "source": [
    "response3 = requests.get(ej)\n",
    "response3.status_code"
   ]
  },
  {
   "cell_type": "code",
   "execution_count": 352,
   "id": "2a406464-36f8-417e-8022-691b35296494",
   "metadata": {},
   "outputs": [
    {
     "data": {
      "text/plain": [
       "list"
      ]
     },
     "execution_count": 352,
     "metadata": {},
     "output_type": "execute_result"
    }
   ],
   "source": [
    "ej_list = pd.read_html(StringIO(response3.text))\n",
    "type(ej_list)"
   ]
  },
  {
   "cell_type": "code",
   "execution_count": 353,
   "id": "53c83076-cbed-4cc7-8210-96f90a17acd8",
   "metadata": {},
   "outputs": [
    {
     "data": {
      "text/html": [
       "<div>\n",
       "<style scoped>\n",
       "    .dataframe tbody tr th:only-of-type {\n",
       "        vertical-align: middle;\n",
       "    }\n",
       "\n",
       "    .dataframe tbody tr th {\n",
       "        vertical-align: top;\n",
       "    }\n",
       "\n",
       "    .dataframe thead tr th {\n",
       "        text-align: left;\n",
       "    }\n",
       "</style>\n",
       "<table border=\"1\" class=\"dataframe\">\n",
       "  <thead>\n",
       "    <tr>\n",
       "      <th></th>\n",
       "      <th>Date</th>\n",
       "      <th>City</th>\n",
       "      <th>Country</th>\n",
       "      <th>Venue</th>\n",
       "      <th>Attendance</th>\n",
       "      <th>Revenue</th>\n",
       "    </tr>\n",
       "    <tr>\n",
       "      <th></th>\n",
       "      <th>North America[32][33][34]</th>\n",
       "      <th>North America[32][33][34]</th>\n",
       "      <th>North America[32][33][34]</th>\n",
       "      <th>North America[32][33][34]</th>\n",
       "      <th>North America[32][33][34]</th>\n",
       "      <th>North America[32][33][34]</th>\n",
       "    </tr>\n",
       "  </thead>\n",
       "  <tbody>\n",
       "    <tr>\n",
       "      <th>0</th>\n",
       "      <td>8 September 2018</td>\n",
       "      <td>Allentown</td>\n",
       "      <td>United States</td>\n",
       "      <td>PPL Center</td>\n",
       "      <td>8,983 / 8,983</td>\n",
       "      <td>$1,492,859</td>\n",
       "    </tr>\n",
       "    <tr>\n",
       "      <th>1</th>\n",
       "      <td>11 September 2018</td>\n",
       "      <td>Philadelphia</td>\n",
       "      <td>United States</td>\n",
       "      <td>Wells Fargo Center</td>\n",
       "      <td>29,531 / 29,531</td>\n",
       "      <td>$4,273,021</td>\n",
       "    </tr>\n",
       "    <tr>\n",
       "      <th>2</th>\n",
       "      <td>12 September 2018</td>\n",
       "      <td>Philadelphia</td>\n",
       "      <td>United States</td>\n",
       "      <td>Wells Fargo Center</td>\n",
       "      <td>29,531 / 29,531</td>\n",
       "      <td>$4,273,021</td>\n",
       "    </tr>\n",
       "    <tr>\n",
       "      <th>3</th>\n",
       "      <td>15 September 2018</td>\n",
       "      <td>Buffalo</td>\n",
       "      <td>United States</td>\n",
       "      <td>KeyBank Center</td>\n",
       "      <td>15,581 / 15,641</td>\n",
       "      <td>$2,033,001</td>\n",
       "    </tr>\n",
       "    <tr>\n",
       "      <th>4</th>\n",
       "      <td>16 September 2018</td>\n",
       "      <td>University Park</td>\n",
       "      <td>United States</td>\n",
       "      <td>Bryce Jordan Center</td>\n",
       "      <td>12,421 / 12,421</td>\n",
       "      <td>$1,662,468</td>\n",
       "    </tr>\n",
       "  </tbody>\n",
       "</table>\n",
       "</div>"
      ],
      "text/plain": [
       "                       Date                      City  \\\n",
       "  North America[32][33][34] North America[32][33][34]   \n",
       "0          8 September 2018                 Allentown   \n",
       "1         11 September 2018              Philadelphia   \n",
       "2         12 September 2018              Philadelphia   \n",
       "3         15 September 2018                   Buffalo   \n",
       "4         16 September 2018           University Park   \n",
       "\n",
       "                    Country                     Venue  \\\n",
       "  North America[32][33][34] North America[32][33][34]   \n",
       "0             United States                PPL Center   \n",
       "1             United States        Wells Fargo Center   \n",
       "2             United States        Wells Fargo Center   \n",
       "3             United States            KeyBank Center   \n",
       "4             United States       Bryce Jordan Center   \n",
       "\n",
       "                 Attendance                   Revenue  \n",
       "  North America[32][33][34] North America[32][33][34]  \n",
       "0             8,983 / 8,983                $1,492,859  \n",
       "1           29,531 / 29,531                $4,273,021  \n",
       "2           29,531 / 29,531                $4,273,021  \n",
       "3           15,581 / 15,641                $2,033,001  \n",
       "4           12,421 / 12,421                $1,662,468  "
      ]
     },
     "execution_count": 353,
     "metadata": {},
     "output_type": "execute_result"
    }
   ],
   "source": [
    "ej_tours = ej_list[1]\n",
    "ej_tours.head()"
   ]
  },
  {
   "cell_type": "markdown",
   "id": "a0e90bde-9e99-4df7-8ae9-dec7fb0a61f0",
   "metadata": {},
   "source": [
    "So I'd have to do some work to see if this table is busted (I don't think so, but the North America being included in the header is weirding me out. It's a subheader on the page, I just don't know if it would mess up any of the other data), but this seemed a lot more US-heavy looking at the page."
   ]
  },
  {
   "cell_type": "markdown",
   "id": "4193619b-0e44-40a0-9f9e-a498c7494b99",
   "metadata": {},
   "source": [
    "Something I'm concerned about is that this tour ended in the first half of 2023. Would I use the data from 2018-2022 if I was using financial data from 2023? Most of the 2023 dates are outside of the US, anyways. There's a chance I may not use financial data anyways and instead use regional and financial, but still something to think about."
   ]
  },
  {
   "cell_type": "code",
   "execution_count": 354,
   "id": "0243d518-4ad5-4c7d-b815-e5dc73078584",
   "metadata": {},
   "outputs": [
    {
     "name": "stdout",
     "output_type": "stream",
     "text": [
      "Times in US: North America[32][33][34]    163\n",
      "dtype: int64\n",
      "Times Abroad: North America[32][33][34]    176\n",
      "dtype: int64\n"
     ]
    }
   ],
   "source": [
    "count_us_ej = (ej_tours['Country'] == 'United States').sum()\n",
    "print(\"Times in US:\", count_us_ej)\n",
    "\n",
    "count_global_ej = ej_tours['Country'].ne('United States').sum()\n",
    "print(\"Times Abroad:\", count_global_ej)"
   ]
  },
  {
   "cell_type": "markdown",
   "id": "9a96eafd-38ba-4886-8511-56ef5b80ba98",
   "metadata": {},
   "source": [
    "The Eras is #1 on the list of top-grossing tours and Elton John is #3. Since all of the other pages follow the same format I'll skip adding them for now, but as of writing I'm planning on doing the top 5 or maybe top 10 of these datasets."
   ]
  },
  {
   "cell_type": "code",
   "execution_count": 355,
   "id": "97a48548-11b6-43c2-bfcf-f8e198fba897",
   "metadata": {},
   "outputs": [],
   "source": [
    "df = pd.read_excel(r'C:\\Users\\gamec\\Downloads\\q3t3.xlsx')\n",
    "# df.head()"
   ]
  },
  {
   "cell_type": "markdown",
   "id": "e6172f3a-48ce-473c-a0e9-7db625a6779d",
   "metadata": {},
   "source": [
    "Ughh, for readibility (I think) the excel sheet has blank cells on either side of the numbers. Unsure how to remove that logically but I'm sure there's an easy way."
   ]
  },
  {
   "cell_type": "markdown",
   "id": "bb39bb01-29e8-43b2-bbff-2391ced3737f",
   "metadata": {},
   "source": [
    "So, now the idea is to get all of the dataframes in, add the artists/tour to each one, concantenate them into one big dataset(?), remove all the tour stops that aren't from the United States, group them by city, manually add the states for each city (scripted since there are duplicates), and then begin running some data from there. The verdict is out on whether I want to add the region too. We'll see :)"
   ]
  },
  {
   "cell_type": "markdown",
   "id": "00514704-2b01-4617-b496-b704f3b30bfa",
   "metadata": {},
   "source": [
    "Maybe worth noting I haven't paid more than $20 for a concert ticket in 10 years. This is a foreign world to me lol"
   ]
  },
  {
   "cell_type": "markdown",
   "id": "86140834-b294-4713-9146-c506b464746a",
   "metadata": {},
   "source": [
    "# ANALYSIS PLAN"
   ]
  },
  {
   "cell_type": "markdown",
   "id": "8a4ddc22-930c-4051-bc8e-f0375e1df2ff",
   "metadata": {},
   "source": [
    "First, I removed the opening acts from the eras tour chart since we won't need that information and I needed the number of columns to match the rest of the datasets. If you look back, I changed the code for the merged eras tour to not have the years in separate columns by appending the year to each cell and then renaming the column before merging into the merged table. The dates are in different format (Elton John is British), but as of now I'm not planning on using dates so I'm choosing not to worry."
   ]
  },
  {
   "cell_type": "code",
   "execution_count": 356,
   "id": "b1f37d7b-da22-40dc-903c-eadfbb0ffeab",
   "metadata": {},
   "outputs": [
    {
     "data": {
      "text/html": [
       "<div>\n",
       "<style scoped>\n",
       "    .dataframe tbody tr th:only-of-type {\n",
       "        vertical-align: middle;\n",
       "    }\n",
       "\n",
       "    .dataframe tbody tr th {\n",
       "        vertical-align: top;\n",
       "    }\n",
       "\n",
       "    .dataframe thead th {\n",
       "        text-align: right;\n",
       "    }\n",
       "</style>\n",
       "<table border=\"1\" class=\"dataframe\">\n",
       "  <thead>\n",
       "    <tr style=\"text-align: right;\">\n",
       "      <th></th>\n",
       "      <th>Date</th>\n",
       "      <th>City</th>\n",
       "      <th>Country</th>\n",
       "      <th>Venue</th>\n",
       "      <th>Attendance</th>\n",
       "      <th>Revenue</th>\n",
       "    </tr>\n",
       "  </thead>\n",
       "  <tbody>\n",
       "    <tr>\n",
       "      <th>0</th>\n",
       "      <td>March 17 2023</td>\n",
       "      <td>Glendale</td>\n",
       "      <td>United States</td>\n",
       "      <td>State Farm Stadium</td>\n",
       "      <td>—</td>\n",
       "      <td>—</td>\n",
       "    </tr>\n",
       "    <tr>\n",
       "      <th>1</th>\n",
       "      <td>March 18 2023</td>\n",
       "      <td>Glendale</td>\n",
       "      <td>United States</td>\n",
       "      <td>State Farm Stadium</td>\n",
       "      <td>—</td>\n",
       "      <td>—</td>\n",
       "    </tr>\n",
       "    <tr>\n",
       "      <th>2</th>\n",
       "      <td>March 24 2023</td>\n",
       "      <td>Paradise[i]</td>\n",
       "      <td>United States</td>\n",
       "      <td>Allegiant Stadium</td>\n",
       "      <td>—</td>\n",
       "      <td>—</td>\n",
       "    </tr>\n",
       "    <tr>\n",
       "      <th>3</th>\n",
       "      <td>March 25 2023</td>\n",
       "      <td>Paradise[i]</td>\n",
       "      <td>United States</td>\n",
       "      <td>Allegiant Stadium</td>\n",
       "      <td>—</td>\n",
       "      <td>—</td>\n",
       "    </tr>\n",
       "    <tr>\n",
       "      <th>4</th>\n",
       "      <td>March 31 2023</td>\n",
       "      <td>Arlington</td>\n",
       "      <td>United States</td>\n",
       "      <td>AT&amp;T Stadium</td>\n",
       "      <td>—</td>\n",
       "      <td>—</td>\n",
       "    </tr>\n",
       "  </tbody>\n",
       "</table>\n",
       "</div>"
      ],
      "text/plain": [
       "            Date         City        Country               Venue Attendance  \\\n",
       "0  March 17 2023     Glendale  United States  State Farm Stadium          —   \n",
       "1  March 18 2023     Glendale  United States  State Farm Stadium          —   \n",
       "2  March 24 2023  Paradise[i]  United States   Allegiant Stadium          —   \n",
       "3  March 25 2023  Paradise[i]  United States   Allegiant Stadium          —   \n",
       "4  March 31 2023    Arlington  United States        AT&T Stadium          —   \n",
       "\n",
       "  Revenue  \n",
       "0       —  \n",
       "1       —  \n",
       "2       —  \n",
       "3       —  \n",
       "4       —  "
      ]
     },
     "execution_count": 356,
     "metadata": {},
     "output_type": "execute_result"
    }
   ],
   "source": [
    "eras_tour_merged.drop(['Opening acts'], axis=1, inplace=True)\n",
    "eras_tour_merged.head()"
   ]
  },
  {
   "cell_type": "markdown",
   "id": "0462b8c1-60dc-4920-b691-06326383e9d4",
   "metadata": {},
   "source": [
    "I tried a couple different scripts to do this but I kept removing the date and keeping the North America part, so I just did it manually"
   ]
  },
  {
   "cell_type": "code",
   "execution_count": 357,
   "id": "fca3d126-dfb3-41e7-81d9-caeeee4530d7",
   "metadata": {},
   "outputs": [
    {
     "data": {
      "text/html": [
       "<div>\n",
       "<style scoped>\n",
       "    .dataframe tbody tr th:only-of-type {\n",
       "        vertical-align: middle;\n",
       "    }\n",
       "\n",
       "    .dataframe tbody tr th {\n",
       "        vertical-align: top;\n",
       "    }\n",
       "\n",
       "    .dataframe thead th {\n",
       "        text-align: right;\n",
       "    }\n",
       "</style>\n",
       "<table border=\"1\" class=\"dataframe\">\n",
       "  <thead>\n",
       "    <tr style=\"text-align: right;\">\n",
       "      <th></th>\n",
       "      <th>Date</th>\n",
       "      <th>City</th>\n",
       "      <th>Country</th>\n",
       "      <th>Venue</th>\n",
       "      <th>Attendance</th>\n",
       "      <th>Revenue</th>\n",
       "    </tr>\n",
       "  </thead>\n",
       "  <tbody>\n",
       "    <tr>\n",
       "      <th>0</th>\n",
       "      <td>8 September 2018</td>\n",
       "      <td>Allentown</td>\n",
       "      <td>United States</td>\n",
       "      <td>PPL Center</td>\n",
       "      <td>8,983 / 8,983</td>\n",
       "      <td>$1,492,859</td>\n",
       "    </tr>\n",
       "    <tr>\n",
       "      <th>1</th>\n",
       "      <td>11 September 2018</td>\n",
       "      <td>Philadelphia</td>\n",
       "      <td>United States</td>\n",
       "      <td>Wells Fargo Center</td>\n",
       "      <td>29,531 / 29,531</td>\n",
       "      <td>$4,273,021</td>\n",
       "    </tr>\n",
       "    <tr>\n",
       "      <th>2</th>\n",
       "      <td>12 September 2018</td>\n",
       "      <td>Philadelphia</td>\n",
       "      <td>United States</td>\n",
       "      <td>Wells Fargo Center</td>\n",
       "      <td>29,531 / 29,531</td>\n",
       "      <td>$4,273,021</td>\n",
       "    </tr>\n",
       "    <tr>\n",
       "      <th>3</th>\n",
       "      <td>15 September 2018</td>\n",
       "      <td>Buffalo</td>\n",
       "      <td>United States</td>\n",
       "      <td>KeyBank Center</td>\n",
       "      <td>15,581 / 15,641</td>\n",
       "      <td>$2,033,001</td>\n",
       "    </tr>\n",
       "    <tr>\n",
       "      <th>4</th>\n",
       "      <td>16 September 2018</td>\n",
       "      <td>University Park</td>\n",
       "      <td>United States</td>\n",
       "      <td>Bryce Jordan Center</td>\n",
       "      <td>12,421 / 12,421</td>\n",
       "      <td>$1,662,468</td>\n",
       "    </tr>\n",
       "  </tbody>\n",
       "</table>\n",
       "</div>"
      ],
      "text/plain": [
       "                Date             City        Country                Venue  \\\n",
       "0   8 September 2018        Allentown  United States           PPL Center   \n",
       "1  11 September 2018     Philadelphia  United States   Wells Fargo Center   \n",
       "2  12 September 2018     Philadelphia  United States   Wells Fargo Center   \n",
       "3  15 September 2018          Buffalo  United States       KeyBank Center   \n",
       "4  16 September 2018  University Park  United States  Bryce Jordan Center   \n",
       "\n",
       "        Attendance     Revenue  \n",
       "0    8,983 / 8,983  $1,492,859  \n",
       "1  29,531 / 29,531  $4,273,021  \n",
       "2  29,531 / 29,531  $4,273,021  \n",
       "3  15,581 / 15,641  $2,033,001  \n",
       "4  12,421 / 12,421  $1,662,468  "
      ]
     },
     "execution_count": 357,
     "metadata": {},
     "output_type": "execute_result"
    }
   ],
   "source": [
    "ej_tours.columns = ['Date', 'City', 'Country', 'Venue', 'Attendance', 'Revenue']\n",
    "ej_tours.head()"
   ]
  },
  {
   "cell_type": "markdown",
   "id": "5c994a8b-477b-40ea-a97a-015b75dde874",
   "metadata": {},
   "source": [
    "Adding the artist so I can reference it later if needed"
   ]
  },
  {
   "cell_type": "code",
   "execution_count": 358,
   "id": "f4c5a1e3-91d1-4bb8-9167-b77ef528e252",
   "metadata": {},
   "outputs": [],
   "source": [
    "eras_tour_merged['Artist'] = \"Taylor Swift\"\n",
    "ej_tours['Artist'] = \"Elton John\""
   ]
  },
  {
   "cell_type": "markdown",
   "id": "e6165305-53e0-4c11-8c41-8eb7db5be658",
   "metadata": {},
   "source": [
    "(Finally) merging the tables. 'inner' didn't work as a keyword so I used outer, as 'inner' was returning a blank table but I still need columns from both tables (please tell me if this is messing something up haha)"
   ]
  },
  {
   "cell_type": "code",
   "execution_count": 359,
   "id": "c232832b-ed9e-4dc9-93ea-f96d16846340",
   "metadata": {},
   "outputs": [
    {
     "data": {
      "text/html": [
       "<div>\n",
       "<style scoped>\n",
       "    .dataframe tbody tr th:only-of-type {\n",
       "        vertical-align: middle;\n",
       "    }\n",
       "\n",
       "    .dataframe tbody tr th {\n",
       "        vertical-align: top;\n",
       "    }\n",
       "\n",
       "    .dataframe thead th {\n",
       "        text-align: right;\n",
       "    }\n",
       "</style>\n",
       "<table border=\"1\" class=\"dataframe\">\n",
       "  <thead>\n",
       "    <tr style=\"text-align: right;\">\n",
       "      <th></th>\n",
       "      <th>Date</th>\n",
       "      <th>City</th>\n",
       "      <th>Country</th>\n",
       "      <th>Venue</th>\n",
       "      <th>Attendance</th>\n",
       "      <th>Revenue</th>\n",
       "      <th>Artist</th>\n",
       "    </tr>\n",
       "  </thead>\n",
       "  <tbody>\n",
       "    <tr>\n",
       "      <th>0</th>\n",
       "      <td>1 April 2022[s]</td>\n",
       "      <td>Indianapolis</td>\n",
       "      <td>United States</td>\n",
       "      <td>Gainbridge Fieldhouse</td>\n",
       "      <td>14,789 / 14,789</td>\n",
       "      <td>$2,312,462</td>\n",
       "      <td>Elton John</td>\n",
       "    </tr>\n",
       "    <tr>\n",
       "      <th>1</th>\n",
       "      <td>1 December 2018</td>\n",
       "      <td>Atlanta</td>\n",
       "      <td>United States</td>\n",
       "      <td>State Farm Arena</td>\n",
       "      <td>24,920 / 24,920</td>\n",
       "      <td>$3,310,272</td>\n",
       "      <td>Elton John</td>\n",
       "    </tr>\n",
       "    <tr>\n",
       "      <th>2</th>\n",
       "      <td>1 December 2019</td>\n",
       "      <td>Perth</td>\n",
       "      <td>Australia</td>\n",
       "      <td>Perth Oval</td>\n",
       "      <td>44,079 / 45,415</td>\n",
       "      <td>$5,965,750</td>\n",
       "      <td>Elton John</td>\n",
       "    </tr>\n",
       "    <tr>\n",
       "      <th>3</th>\n",
       "      <td>1 February 2019</td>\n",
       "      <td>Inglewood</td>\n",
       "      <td>United States</td>\n",
       "      <td>The Forum</td>\n",
       "      <td>29,408 / 29,408</td>\n",
       "      <td>$3,973,836</td>\n",
       "      <td>Elton John</td>\n",
       "    </tr>\n",
       "    <tr>\n",
       "      <th>4</th>\n",
       "      <td>1 February 2020[j]</td>\n",
       "      <td>Coldstream</td>\n",
       "      <td>Australia</td>\n",
       "      <td>Rochford Winery Yarra Valley</td>\n",
       "      <td>24,440 / 24,440</td>\n",
       "      <td>$2,699,520</td>\n",
       "      <td>Elton John</td>\n",
       "    </tr>\n",
       "  </tbody>\n",
       "</table>\n",
       "</div>"
      ],
      "text/plain": [
       "                 Date          City        Country  \\\n",
       "0     1 April 2022[s]  Indianapolis  United States   \n",
       "1     1 December 2018       Atlanta  United States   \n",
       "2     1 December 2019         Perth      Australia   \n",
       "3     1 February 2019     Inglewood  United States   \n",
       "4  1 February 2020[j]    Coldstream      Australia   \n",
       "\n",
       "                          Venue       Attendance     Revenue      Artist  \n",
       "0         Gainbridge Fieldhouse  14,789 / 14,789  $2,312,462  Elton John  \n",
       "1              State Farm Arena  24,920 / 24,920  $3,310,272  Elton John  \n",
       "2                    Perth Oval  44,079 / 45,415  $5,965,750  Elton John  \n",
       "3                     The Forum  29,408 / 29,408  $3,973,836  Elton John  \n",
       "4  Rochford Winery Yarra Valley  24,440 / 24,440  $2,699,520  Elton John  "
      ]
     },
     "execution_count": 359,
     "metadata": {},
     "output_type": "execute_result"
    }
   ],
   "source": [
    "tours_merged = pd.merge(eras_tour_merged, ej_tours, how = 'outer')\n",
    "tours_merged.head()"
   ]
  },
  {
   "cell_type": "markdown",
   "id": "f824e428-b4bb-4710-81d9-f8ade6e78756",
   "metadata": {},
   "source": [
    "I only wanted to look at locations in the United States, and planned on using the .value_counts() function. I couldn't find a way to use that function with a conditional, so I just removed all the values that aren't from the US."
   ]
  },
  {
   "cell_type": "code",
   "execution_count": 360,
   "id": "0ce2c196-e1d1-49a8-9851-1f1ec15ca0d6",
   "metadata": {},
   "outputs": [],
   "source": [
    "tours_merged = tours_merged[tours_merged['Country'] == 'United States']"
   ]
  },
  {
   "cell_type": "markdown",
   "id": "b788d26d-6d0d-49ed-9470-ba3d7079ee7a",
   "metadata": {},
   "source": [
    "Here is where I took the count of the # of times each venue appeared, and then converted that into a dataframe to be mapped. I know the proper way to do this and get rid of international venues would be through masking, but I was having trouble getting the mask to work in tandem with the bar plot, so this is temporary.\n",
    "\n",
    "In the final, I will have assigned states to each city, and will likely be going by state. I don't think it will be necessary to not graph states that were only visited once, but due to the sheer # of titles at the bottom, this time I'm only including cities that have been visited more than three times."
   ]
  },
  {
   "cell_type": "markdown",
   "id": "e9c15c27-3770-4489-ae40-1f97449bfd8e",
   "metadata": {},
   "source": [
    "I am not currently sure if I am going to continue with the venue name or the city name. I am not sure how I could append the city name to this dataframe in order to keep both. I plan on using some kind of script, so I could just append it like I added '2023' to the end of the cells for the Eras tour dates."
   ]
  },
  {
   "cell_type": "code",
   "execution_count": 361,
   "id": "47ebc806-7328-4984-8212-5e72e36a921f",
   "metadata": {},
   "outputs": [],
   "source": [
    "venue_counts = tours_merged['Venue'].value_counts()\n",
    "venue_counts_df = venue_counts.reset_index()\n",
    "\n",
    "venue_counts_df = venue_counts_df[venue_counts_df['count'] > 3]\n",
    "# venue_counts_df"
   ]
  },
  {
   "cell_type": "code",
   "execution_count": 362,
   "id": "809f7cdc-c107-4c8f-a90f-44b262ef2894",
   "metadata": {},
   "outputs": [
    {
     "data": {
      "text/plain": [
       "Index(['Venue', 'count'], dtype='object')"
      ]
     },
     "execution_count": 362,
     "metadata": {},
     "output_type": "execute_result"
    }
   ],
   "source": [
    "venue_counts_df.columns"
   ]
  },
  {
   "cell_type": "code",
   "execution_count": 363,
   "id": "57a0e955-bf2f-4450-9c03-598bea9ac1d9",
   "metadata": {},
   "outputs": [
    {
     "data": {
      "image/png": "[encoded data removed]",
      "text/plain": [
       "<Figure size 3500x500 with 1 Axes>"
      ]
     },
     "metadata": {},
     "output_type": "display_data"
    }
   ],
   "source": [
    "fig1, ax1 = plt.subplots(figsize = (35,5))\n",
    "ax1.bar(venue_counts_df['Venue'], venue_counts_df['count'])\n",
    "\n",
    "plt.show()"
   ]
  },
  {
   "cell_type": "markdown",
   "id": "d4674608-40e1-40d6-8766-00b382d47f03",
   "metadata": {},
   "source": [
    "I think continuing my analysis I will look at the population of each city as well as the arts spending. Of the top five, I was not shocked to see MSG, SoFi, and MetLife (NYC (and New Jersey) and LA) but I was a little shocked to see Gillette stadium - if I was planning a major stadium tour, I would just assume NYC is close enough for people in Boston to take a bus."
   ]
  },
  {
   "cell_type": "markdown",
   "id": "3dc03938-6c5a-43ba-8b8a-d0da640663c9",
   "metadata": {},
   "source": [
    "Once again, for my final project I plan on adding states to each stadium. I will work on that, I just didn't have time for this checkpoint since I have to travel home for Thanksgiving. It would be really cool if I had time to implement a kind of heat map of the cities in my final project, to see where even within the states they are, but the current vision is a chart that graphs the income of a state alongside the # of times a state has been visited."
   ]
  },
  {
   "cell_type": "markdown",
   "id": "1bf323bb-87be-4e2d-a994-f853610e4b32",
   "metadata": {},
   "source": [
    "# DATA ANALYSIS"
   ]
  },
  {
   "cell_type": "markdown",
   "id": "9635f45a-2b97-4929-8059-a3ccb7dec4f9",
   "metadata": {},
   "source": [
    "Here I am adding the final three tours, to bring it up to five. It could certainly benefit by adding more, but that's past the scope of this project."
   ]
  },
  {
   "cell_type": "code",
   "execution_count": 364,
   "id": "1b5959a9-22fa-4e09-a8d5-5ee525f46a74",
   "metadata": {},
   "outputs": [],
   "source": [
    "c_tour = 'https://en.wikipedia.org/wiki/Music_of_the_Spheres_World_Tour'"
   ]
  },
  {
   "cell_type": "code",
   "execution_count": 365,
   "id": "038a718e-3834-43b5-8aee-f6e7954a9925",
   "metadata": {},
   "outputs": [
    {
     "data": {
      "text/plain": [
       "200"
      ]
     },
     "execution_count": 365,
     "metadata": {},
     "output_type": "execute_result"
    }
   ],
   "source": [
    "response4 = requests.get(c_tour)\n",
    "response4.status_code"
   ]
  },
  {
   "cell_type": "code",
   "execution_count": 366,
   "id": "2c157d96-4742-494f-96fd-141af1c7cf66",
   "metadata": {},
   "outputs": [
    {
     "data": {
      "text/plain": [
       "list"
      ]
     },
     "execution_count": 366,
     "metadata": {},
     "output_type": "execute_result"
    }
   ],
   "source": [
    "coldplay = pd.read_html(StringIO(response4.text))\n",
    "type(coldplay)"
   ]
  },
  {
   "cell_type": "code",
   "execution_count": 367,
   "id": "2f931ea2-8ccf-419b-9c62-142a9a573481",
   "metadata": {},
   "outputs": [],
   "source": [
    "coldplay_tour_22 = coldplay[2]\n",
    "coldplay_tour_23 = coldplay[3]\n",
    "coldplay_tour_24 = coldplay[4]\n",
    "coldplay_tour_25 = coldplay[5]"
   ]
  },
  {
   "cell_type": "code",
   "execution_count": 368,
   "id": "9a610499-0aaa-486e-ba04-398d66ec5cbd",
   "metadata": {},
   "outputs": [],
   "source": [
    "coldplay_tour_22['Date (2022)'] = coldplay_tour_22['Date (2022)'].astype(str) + ' 2022'\n",
    "coldplay_tour_22.rename(columns={'Date (2022)': 'Date'}, inplace=True)\n",
    "\n",
    "coldplay_tour_23['Date (2023)'] = coldplay_tour_23['Date (2023)'].astype(str) + ' 2023'\n",
    "coldplay_tour_23.rename(columns={'Date (2023)': 'Date'}, inplace=True)\n",
    "\n",
    "coldplay_tour_24['Date (2024)'] = coldplay_tour_24['Date (2024)'].astype(str) + ' 2024'\n",
    "coldplay_tour_24.rename(columns={'Date (2024)': 'Date'}, inplace=True)\n",
    "\n",
    "coldplay_tour_25['Date (2025)'] = coldplay_tour_25['Date (2025)'].astype(str) + ' 2025'\n",
    "coldplay_tour_25.rename(columns={'Date (2025)': 'Date'}, inplace=True)"
   ]
  },
  {
   "cell_type": "code",
   "execution_count": 369,
   "id": "2f0a9efe-922a-4381-b983-d5d0615f08aa",
   "metadata": {},
   "outputs": [
    {
     "data": {
      "text/html": [
       "<div>\n",
       "<style scoped>\n",
       "    .dataframe tbody tr th:only-of-type {\n",
       "        vertical-align: middle;\n",
       "    }\n",
       "\n",
       "    .dataframe tbody tr th {\n",
       "        vertical-align: top;\n",
       "    }\n",
       "\n",
       "    .dataframe thead th {\n",
       "        text-align: right;\n",
       "    }\n",
       "</style>\n",
       "<table border=\"1\" class=\"dataframe\">\n",
       "  <thead>\n",
       "    <tr style=\"text-align: right;\">\n",
       "      <th></th>\n",
       "      <th>Date</th>\n",
       "      <th>City</th>\n",
       "      <th>Country</th>\n",
       "      <th>Venue</th>\n",
       "      <th>Attendance</th>\n",
       "      <th>Revenue</th>\n",
       "      <th>Artist</th>\n",
       "    </tr>\n",
       "  </thead>\n",
       "  <tbody>\n",
       "    <tr>\n",
       "      <th>0</th>\n",
       "      <td>18 March 2022</td>\n",
       "      <td>San José</td>\n",
       "      <td>Costa Rica</td>\n",
       "      <td>Estadio Nacional de Costa Rica</td>\n",
       "      <td>86,199 / 86,199</td>\n",
       "      <td>$5,687,127</td>\n",
       "      <td>Coldplay</td>\n",
       "    </tr>\n",
       "    <tr>\n",
       "      <th>1</th>\n",
       "      <td>19 March 2022</td>\n",
       "      <td>San José</td>\n",
       "      <td>Costa Rica</td>\n",
       "      <td>Estadio Nacional de Costa Rica</td>\n",
       "      <td>86,199 / 86,199</td>\n",
       "      <td>$5,687,127</td>\n",
       "      <td>Coldplay</td>\n",
       "    </tr>\n",
       "    <tr>\n",
       "      <th>2</th>\n",
       "      <td>22 March 2022</td>\n",
       "      <td>Santo Domingo</td>\n",
       "      <td>Dominican Republic</td>\n",
       "      <td>Estadio Olímpico Félix Sánchez</td>\n",
       "      <td>30,524 / 30,524</td>\n",
       "      <td>$2,571,873</td>\n",
       "      <td>Coldplay</td>\n",
       "    </tr>\n",
       "    <tr>\n",
       "      <th>3</th>\n",
       "      <td>25 March 2022</td>\n",
       "      <td>Guadalupe[i]</td>\n",
       "      <td>Mexico</td>\n",
       "      <td>Estadio BBVA</td>\n",
       "      <td>112,262 / 112,262</td>\n",
       "      <td>$8,996,432</td>\n",
       "      <td>Coldplay</td>\n",
       "    </tr>\n",
       "    <tr>\n",
       "      <th>4</th>\n",
       "      <td>26 March 2022</td>\n",
       "      <td>Guadalupe[i]</td>\n",
       "      <td>Mexico</td>\n",
       "      <td>Estadio BBVA</td>\n",
       "      <td>112,262 / 112,262</td>\n",
       "      <td>$8,996,432</td>\n",
       "      <td>Coldplay</td>\n",
       "    </tr>\n",
       "  </tbody>\n",
       "</table>\n",
       "</div>"
      ],
      "text/plain": [
       "            Date           City             Country  \\\n",
       "0  18 March 2022       San José          Costa Rica   \n",
       "1  19 March 2022       San José          Costa Rica   \n",
       "2  22 March 2022  Santo Domingo  Dominican Republic   \n",
       "3  25 March 2022   Guadalupe[i]              Mexico   \n",
       "4  26 March 2022   Guadalupe[i]              Mexico   \n",
       "\n",
       "                            Venue         Attendance     Revenue    Artist  \n",
       "0  Estadio Nacional de Costa Rica    86,199 / 86,199  $5,687,127  Coldplay  \n",
       "1  Estadio Nacional de Costa Rica    86,199 / 86,199  $5,687,127  Coldplay  \n",
       "2  Estadio Olímpico Félix Sánchez    30,524 / 30,524  $2,571,873  Coldplay  \n",
       "3                    Estadio BBVA  112,262 / 112,262  $8,996,432  Coldplay  \n",
       "4                    Estadio BBVA  112,262 / 112,262  $8,996,432  Coldplay  "
      ]
     },
     "execution_count": 369,
     "metadata": {},
     "output_type": "execute_result"
    }
   ],
   "source": [
    "coldplay_merged = pd.concat([coldplay_tour_22, coldplay_tour_23, coldplay_tour_24, coldplay_tour_25], axis = 0)\n",
    "\n",
    "coldplay_merged.drop(['Opening acts'], axis=1, inplace=True)\n",
    "coldplay_merged['Artist'] = \"Coldplay\"\n",
    "\n",
    "coldplay_merged.head()"
   ]
  },
  {
   "cell_type": "code",
   "execution_count": 370,
   "id": "52925a61-aa09-48b9-832a-216189ea2246",
   "metadata": {},
   "outputs": [],
   "source": [
    "es_tour = 'https://en.wikipedia.org/wiki/%C3%B7_Tour'"
   ]
  },
  {
   "cell_type": "code",
   "execution_count": 371,
   "id": "93f599e2-3ddb-40b2-9a8b-9b0f70a25109",
   "metadata": {},
   "outputs": [
    {
     "data": {
      "text/plain": [
       "200"
      ]
     },
     "execution_count": 371,
     "metadata": {},
     "output_type": "execute_result"
    }
   ],
   "source": [
    "response5 = requests.get(es_tour)\n",
    "response5.status_code"
   ]
  },
  {
   "cell_type": "code",
   "execution_count": 372,
   "id": "f945f426-c90e-4462-b6d3-cce10be5ebd8",
   "metadata": {},
   "outputs": [],
   "source": [
    "sheeran = pd.read_html(StringIO(response5.text))"
   ]
  },
  {
   "cell_type": "code",
   "execution_count": 373,
   "id": "6e0094a9-aa0c-4796-81f6-428b52751e43",
   "metadata": {},
   "outputs": [],
   "source": [
    "divide_tour_1 = sheeran[1]\n",
    "divide_tour_2 = sheeran[2]\n",
    "\n",
    "# divide_tour_1.head()"
   ]
  },
  {
   "cell_type": "code",
   "execution_count": 374,
   "id": "ac0cd33f-5453-4b38-9d30-f5408d8de17a",
   "metadata": {},
   "outputs": [],
   "source": [
    "divide_tour_2.columns = ['Date', 'City', 'Country', 'Venue', 'Opening acts', 'Attendance', 'Revenue']\n",
    "\n",
    "divide_tour_1['Dates (2017)'] = divide_tour_1['Dates (2017)'].astype(str) + ' 2017'\n",
    "divide_tour_1.rename(columns={'Dates (2017)': 'Date'}, inplace=True)\n",
    "\n",
    "divide_tour_2['Date'] = divide_tour_2['Date'].astype(str) + ' 2018'\n",
    "\n",
    "# divide_tour_1.head()"
   ]
  },
  {
   "cell_type": "code",
   "execution_count": 375,
   "id": "64e5340a-b41d-46ce-9001-e76a14ae6574",
   "metadata": {},
   "outputs": [
    {
     "data": {
      "text/html": [
       "<div>\n",
       "<style scoped>\n",
       "    .dataframe tbody tr th:only-of-type {\n",
       "        vertical-align: middle;\n",
       "    }\n",
       "\n",
       "    .dataframe tbody tr th {\n",
       "        vertical-align: top;\n",
       "    }\n",
       "\n",
       "    .dataframe thead th {\n",
       "        text-align: right;\n",
       "    }\n",
       "</style>\n",
       "<table border=\"1\" class=\"dataframe\">\n",
       "  <thead>\n",
       "    <tr style=\"text-align: right;\">\n",
       "      <th></th>\n",
       "      <th>Date</th>\n",
       "      <th>City</th>\n",
       "      <th>Country</th>\n",
       "      <th>Venue</th>\n",
       "      <th>Attendance</th>\n",
       "      <th>Revenue</th>\n",
       "      <th>Artist</th>\n",
       "    </tr>\n",
       "  </thead>\n",
       "  <tbody>\n",
       "    <tr>\n",
       "      <th>0</th>\n",
       "      <td>16 March 2017</td>\n",
       "      <td>Turin</td>\n",
       "      <td>Italy</td>\n",
       "      <td>Pala Alpitour</td>\n",
       "      <td>23,256 / 23,256</td>\n",
       "      <td>$1,219,480</td>\n",
       "      <td>Ed Sheeran</td>\n",
       "    </tr>\n",
       "    <tr>\n",
       "      <th>1</th>\n",
       "      <td>17 March 2017</td>\n",
       "      <td>Turin</td>\n",
       "      <td>Italy</td>\n",
       "      <td>Pala Alpitour</td>\n",
       "      <td>23,256 / 23,256</td>\n",
       "      <td>$1,219,480</td>\n",
       "      <td>Ed Sheeran</td>\n",
       "    </tr>\n",
       "    <tr>\n",
       "      <th>2</th>\n",
       "      <td>19 March 2017</td>\n",
       "      <td>Zürich</td>\n",
       "      <td>Switzerland</td>\n",
       "      <td>Hallenstadion</td>\n",
       "      <td>14,444 / 14,444</td>\n",
       "      <td>$1,148,585</td>\n",
       "      <td>Ed Sheeran</td>\n",
       "    </tr>\n",
       "    <tr>\n",
       "      <th>3</th>\n",
       "      <td>20 March 2017</td>\n",
       "      <td>Munich</td>\n",
       "      <td>Germany</td>\n",
       "      <td>Olympiahalle</td>\n",
       "      <td>12,076 / 12,108</td>\n",
       "      <td>$919,768</td>\n",
       "      <td>Ed Sheeran</td>\n",
       "    </tr>\n",
       "    <tr>\n",
       "      <th>4</th>\n",
       "      <td>22 March 2017</td>\n",
       "      <td>Mannheim</td>\n",
       "      <td>Germany</td>\n",
       "      <td>SAP Arena</td>\n",
       "      <td>10,843 / 10,848</td>\n",
       "      <td>$740,662</td>\n",
       "      <td>Ed Sheeran</td>\n",
       "    </tr>\n",
       "  </tbody>\n",
       "</table>\n",
       "</div>"
      ],
      "text/plain": [
       "            Date      City      Country          Venue       Attendance  \\\n",
       "0  16 March 2017     Turin        Italy  Pala Alpitour  23,256 / 23,256   \n",
       "1  17 March 2017     Turin        Italy  Pala Alpitour  23,256 / 23,256   \n",
       "2  19 March 2017    Zürich  Switzerland  Hallenstadion  14,444 / 14,444   \n",
       "3  20 March 2017    Munich      Germany   Olympiahalle  12,076 / 12,108   \n",
       "4  22 March 2017  Mannheim      Germany      SAP Arena  10,843 / 10,848   \n",
       "\n",
       "      Revenue      Artist  \n",
       "0  $1,219,480  Ed Sheeran  \n",
       "1  $1,219,480  Ed Sheeran  \n",
       "2  $1,148,585  Ed Sheeran  \n",
       "3    $919,768  Ed Sheeran  \n",
       "4    $740,662  Ed Sheeran  "
      ]
     },
     "execution_count": 375,
     "metadata": {},
     "output_type": "execute_result"
    }
   ],
   "source": [
    "divide_merged = pd.concat([divide_tour_1, divide_tour_2], axis = 0)\n",
    "\n",
    "divide_merged.drop(['Opening acts'], axis=1, inplace=True)\n",
    "divide_merged.drop(['Opening act(s)'], axis=1, inplace=True)\n",
    "divide_merged['Artist'] = \"Ed Sheeran\"\n",
    "\n",
    "divide_merged.head()"
   ]
  },
  {
   "cell_type": "code",
   "execution_count": 376,
   "id": "02c648b4-7858-4668-8d6e-38b2f2ad1f17",
   "metadata": {},
   "outputs": [],
   "source": [
    "u2 = 'https://en.wikipedia.org/wiki/U2_360%C2%B0_Tour'"
   ]
  },
  {
   "cell_type": "code",
   "execution_count": 377,
   "id": "6064bb28-c75d-4d56-aeae-ef3e151008bf",
   "metadata": {},
   "outputs": [
    {
     "data": {
      "text/plain": [
       "200"
      ]
     },
     "execution_count": 377,
     "metadata": {},
     "output_type": "execute_result"
    }
   ],
   "source": [
    "response6 = requests.get(u2)\n",
    "response6.status_code"
   ]
  },
  {
   "cell_type": "code",
   "execution_count": 378,
   "id": "d9ed9e5f-c30c-48cb-b68c-d08900ce8533",
   "metadata": {},
   "outputs": [],
   "source": [
    "u2_tour = pd.read_html(StringIO(response6.text))"
   ]
  },
  {
   "cell_type": "code",
   "execution_count": 379,
   "id": "6a1c54a1-63d6-45e6-a68e-8a22edb13a55",
   "metadata": {},
   "outputs": [
    {
     "data": {
      "text/html": [
       "<div>\n",
       "<style scoped>\n",
       "    .dataframe tbody tr th:only-of-type {\n",
       "        vertical-align: middle;\n",
       "    }\n",
       "\n",
       "    .dataframe tbody tr th {\n",
       "        vertical-align: top;\n",
       "    }\n",
       "\n",
       "    .dataframe thead tr th {\n",
       "        text-align: left;\n",
       "    }\n",
       "</style>\n",
       "<table border=\"1\" class=\"dataframe\">\n",
       "  <thead>\n",
       "    <tr>\n",
       "      <th></th>\n",
       "      <th>Date</th>\n",
       "      <th>City</th>\n",
       "      <th>Country</th>\n",
       "      <th>Venue</th>\n",
       "      <th>Opening act</th>\n",
       "      <th>Attendance</th>\n",
       "      <th>Revenue</th>\n",
       "    </tr>\n",
       "    <tr>\n",
       "      <th></th>\n",
       "      <th>Leg 1 — Europe[121][122]</th>\n",
       "      <th>Leg 1 — Europe[121][122]</th>\n",
       "      <th>Leg 1 — Europe[121][122]</th>\n",
       "      <th>Leg 1 — Europe[121][122]</th>\n",
       "      <th>Leg 1 — Europe[121][122]</th>\n",
       "      <th>Leg 1 — Europe[121][122]</th>\n",
       "      <th>Leg 1 — Europe[121][122]</th>\n",
       "    </tr>\n",
       "  </thead>\n",
       "  <tbody>\n",
       "    <tr>\n",
       "      <th>0</th>\n",
       "      <td>30 June 2009</td>\n",
       "      <td>Barcelona</td>\n",
       "      <td>Spain</td>\n",
       "      <td>Camp Nou</td>\n",
       "      <td>Snow Patrol</td>\n",
       "      <td>182,055 / 182,055</td>\n",
       "      <td>$19,825,497</td>\n",
       "    </tr>\n",
       "    <tr>\n",
       "      <th>1</th>\n",
       "      <td>2 July 2009</td>\n",
       "      <td>Barcelona</td>\n",
       "      <td>Spain</td>\n",
       "      <td>Camp Nou</td>\n",
       "      <td>Snow Patrol</td>\n",
       "      <td>182,055 / 182,055</td>\n",
       "      <td>$19,825,497</td>\n",
       "    </tr>\n",
       "    <tr>\n",
       "      <th>2</th>\n",
       "      <td>7 July 2009</td>\n",
       "      <td>Milan</td>\n",
       "      <td>Italy</td>\n",
       "      <td>San Siro</td>\n",
       "      <td>Snow Patrol</td>\n",
       "      <td>153,806 / 153,806</td>\n",
       "      <td>$15,168,799</td>\n",
       "    </tr>\n",
       "    <tr>\n",
       "      <th>3</th>\n",
       "      <td>8 July 2009</td>\n",
       "      <td>Milan</td>\n",
       "      <td>Italy</td>\n",
       "      <td>San Siro</td>\n",
       "      <td>Snow Patrol</td>\n",
       "      <td>153,806 / 153,806</td>\n",
       "      <td>$15,168,799</td>\n",
       "    </tr>\n",
       "    <tr>\n",
       "      <th>4</th>\n",
       "      <td>11 July 2009</td>\n",
       "      <td>Saint-Denis</td>\n",
       "      <td>France</td>\n",
       "      <td>Stade de France</td>\n",
       "      <td>Kaiser Chiefs</td>\n",
       "      <td>186,544 / 186,544</td>\n",
       "      <td>$20,902,760</td>\n",
       "    </tr>\n",
       "  </tbody>\n",
       "</table>\n",
       "</div>"
      ],
      "text/plain": [
       "                      Date                     City                  Country  \\\n",
       "  Leg 1 — Europe[121][122] Leg 1 — Europe[121][122] Leg 1 — Europe[121][122]   \n",
       "0             30 June 2009                Barcelona                    Spain   \n",
       "1              2 July 2009                Barcelona                    Spain   \n",
       "2              7 July 2009                    Milan                    Italy   \n",
       "3              8 July 2009                    Milan                    Italy   \n",
       "4             11 July 2009              Saint-Denis                   France   \n",
       "\n",
       "                     Venue              Opening act               Attendance  \\\n",
       "  Leg 1 — Europe[121][122] Leg 1 — Europe[121][122] Leg 1 — Europe[121][122]   \n",
       "0                 Camp Nou              Snow Patrol        182,055 / 182,055   \n",
       "1                 Camp Nou              Snow Patrol        182,055 / 182,055   \n",
       "2                 San Siro              Snow Patrol        153,806 / 153,806   \n",
       "3                 San Siro              Snow Patrol        153,806 / 153,806   \n",
       "4          Stade de France            Kaiser Chiefs        186,544 / 186,544   \n",
       "\n",
       "                   Revenue  \n",
       "  Leg 1 — Europe[121][122]  \n",
       "0              $19,825,497  \n",
       "1              $19,825,497  \n",
       "2              $15,168,799  \n",
       "3              $15,168,799  \n",
       "4              $20,902,760  "
      ]
     },
     "execution_count": 379,
     "metadata": {},
     "output_type": "execute_result"
    }
   ],
   "source": [
    "u2_tour_df = u2_tour[1]\n",
    "u2_tour_df.head()"
   ]
  },
  {
   "cell_type": "code",
   "execution_count": 380,
   "id": "8009d010-979c-4ccd-88ac-73c045d34ba4",
   "metadata": {},
   "outputs": [],
   "source": [
    "u2_tour_df.columns = ['Date', 'City', 'Country', 'Venue', 'Opening acts', 'Attendance', 'Revenue']\n",
    "\n",
    "u2_tour_df.drop(['Opening acts'], axis=1, inplace=True)\n",
    "u2_tour_df['Artist'] = \"U2\""
   ]
  },
  {
   "cell_type": "markdown",
   "id": "b2335531-f538-4382-92a7-51cfaf210884",
   "metadata": {},
   "source": [
    "Love On Tour is actually the sixth tour added. The Eras Tour does not have data for the attendance or revenue broken down by show, so I felt a lot of data would be missing. Initially I planned on getting rid of the Eras Tour, but could use it's data for the states."
   ]
  },
  {
   "cell_type": "code",
   "execution_count": 381,
   "id": "d9299e0e-d077-421e-ae7d-e7acb8617d03",
   "metadata": {},
   "outputs": [],
   "source": [
    "hs = 'https://en.wikipedia.org/wiki/Love_On_Tour'"
   ]
  },
  {
   "cell_type": "code",
   "execution_count": 382,
   "id": "a5ffb484-5c44-4319-ab21-f894cd548867",
   "metadata": {},
   "outputs": [
    {
     "data": {
      "text/plain": [
       "200"
      ]
     },
     "execution_count": 382,
     "metadata": {},
     "output_type": "execute_result"
    }
   ],
   "source": [
    "response7 = requests.get(hs)\n",
    "response7.status_code"
   ]
  },
  {
   "cell_type": "code",
   "execution_count": 383,
   "id": "d5679965-89e8-4d8b-a60d-3884828e0846",
   "metadata": {},
   "outputs": [],
   "source": [
    "hs_tour = pd.read_html(StringIO(response7.text))"
   ]
  },
  {
   "cell_type": "code",
   "execution_count": 384,
   "id": "c22cef25-643e-4ca6-a511-ca447a0191ef",
   "metadata": {},
   "outputs": [],
   "source": [
    "hs_tour_21 = hs_tour[2]\n",
    "hs_tour_22 = hs_tour[3]\n",
    "hs_tour_23 = hs_tour[4]"
   ]
  },
  {
   "cell_type": "code",
   "execution_count": 385,
   "id": "9f5f32ac-2791-4df7-92eb-80d8692cf9f3",
   "metadata": {},
   "outputs": [],
   "source": [
    "hs_tour_21['Date (2021)'] = hs_tour_21['Date (2021)'].astype(str) + ' 2021'\n",
    "hs_tour_21.rename(columns={'Date (2021)': 'Date'}, inplace=True)\n",
    "\n",
    "hs_tour_22['Date (2022)'] = hs_tour_22['Date (2022)'].astype(str) + ' 2022'\n",
    "hs_tour_22.rename(columns={'Date (2022)': 'Date'}, inplace=True)\n",
    "\n",
    "hs_tour_23['Date (2023)'] = hs_tour_23['Date (2023)'].astype(str) + ' 2023'\n",
    "hs_tour_23.rename(columns={'Date (2023)': 'Date'}, inplace=True)"
   ]
  },
  {
   "cell_type": "code",
   "execution_count": 386,
   "id": "5fff0ee7-5e7a-4554-b912-0cf27ad43816",
   "metadata": {},
   "outputs": [],
   "source": [
    "hs_merged = pd.concat([hs_tour_21, hs_tour_22, hs_tour_23], axis = 0)\n",
    "\n",
    "hs_merged.drop(['Opening acts'], axis=1, inplace=True)\n",
    "hs_merged['Artist'] = \"Harry Styles\""
   ]
  },
  {
   "cell_type": "markdown",
   "id": "e5f38846-c5b3-493e-93ed-b5f84f866e50",
   "metadata": {},
   "source": [
    "Really funky way of finally merging all of the dataframes together"
   ]
  },
  {
   "cell_type": "code",
   "execution_count": 387,
   "id": "94772e53-6f86-4eb2-a020-60faa6b11fc8",
   "metadata": {},
   "outputs": [
    {
     "data": {
      "text/html": [
       "<div>\n",
       "<style scoped>\n",
       "    .dataframe tbody tr th:only-of-type {\n",
       "        vertical-align: middle;\n",
       "    }\n",
       "\n",
       "    .dataframe tbody tr th {\n",
       "        vertical-align: top;\n",
       "    }\n",
       "\n",
       "    .dataframe thead th {\n",
       "        text-align: right;\n",
       "    }\n",
       "</style>\n",
       "<table border=\"1\" class=\"dataframe\">\n",
       "  <thead>\n",
       "    <tr style=\"text-align: right;\">\n",
       "      <th></th>\n",
       "      <th>Date</th>\n",
       "      <th>City</th>\n",
       "      <th>Country</th>\n",
       "      <th>Venue</th>\n",
       "      <th>Attendance</th>\n",
       "      <th>Revenue</th>\n",
       "      <th>Artist</th>\n",
       "    </tr>\n",
       "  </thead>\n",
       "  <tbody>\n",
       "    <tr>\n",
       "      <th>0</th>\n",
       "      <td>1 April 2017</td>\n",
       "      <td>Herning</td>\n",
       "      <td>Denmark</td>\n",
       "      <td>Jyske Bank Boxen</td>\n",
       "      <td>14,996 / 14,996</td>\n",
       "      <td>$1,268,365</td>\n",
       "      <td>Ed Sheeran</td>\n",
       "    </tr>\n",
       "    <tr>\n",
       "      <th>1</th>\n",
       "      <td>1 April 2018</td>\n",
       "      <td>Dunedin</td>\n",
       "      <td>New Zealand</td>\n",
       "      <td>Forsyth Barr Stadium</td>\n",
       "      <td>105,014 / 105,014</td>\n",
       "      <td>$8,475,218</td>\n",
       "      <td>Ed Sheeran</td>\n",
       "    </tr>\n",
       "    <tr>\n",
       "      <th>2</th>\n",
       "      <td>1 April 2022[s]</td>\n",
       "      <td>Indianapolis</td>\n",
       "      <td>United States</td>\n",
       "      <td>Gainbridge Fieldhouse</td>\n",
       "      <td>14,789 / 14,789</td>\n",
       "      <td>$2,312,462</td>\n",
       "      <td>Elton John</td>\n",
       "    </tr>\n",
       "    <tr>\n",
       "      <th>3</th>\n",
       "      <td>1 August 2009</td>\n",
       "      <td>Gothenburg</td>\n",
       "      <td>Sweden</td>\n",
       "      <td>Ullevi</td>\n",
       "      <td>119,297 / 119,297</td>\n",
       "      <td>$11,047,995</td>\n",
       "      <td>U2</td>\n",
       "    </tr>\n",
       "    <tr>\n",
       "      <th>4</th>\n",
       "      <td>1 August 2017</td>\n",
       "      <td>Sacramento</td>\n",
       "      <td>United States</td>\n",
       "      <td>Golden 1 Center</td>\n",
       "      <td>13,424 / 13,424</td>\n",
       "      <td>$1,220,937</td>\n",
       "      <td>Ed Sheeran</td>\n",
       "    </tr>\n",
       "  </tbody>\n",
       "</table>\n",
       "</div>"
      ],
      "text/plain": [
       "              Date          City        Country                  Venue  \\\n",
       "0     1 April 2017       Herning        Denmark       Jyske Bank Boxen   \n",
       "1     1 April 2018       Dunedin    New Zealand   Forsyth Barr Stadium   \n",
       "2  1 April 2022[s]  Indianapolis  United States  Gainbridge Fieldhouse   \n",
       "3    1 August 2009    Gothenburg         Sweden                 Ullevi   \n",
       "4    1 August 2017    Sacramento  United States        Golden 1 Center   \n",
       "\n",
       "          Attendance      Revenue      Artist  \n",
       "0    14,996 / 14,996   $1,268,365  Ed Sheeran  \n",
       "1  105,014 / 105,014   $8,475,218  Ed Sheeran  \n",
       "2    14,789 / 14,789   $2,312,462  Elton John  \n",
       "3  119,297 / 119,297  $11,047,995          U2  \n",
       "4    13,424 / 13,424   $1,220,937  Ed Sheeran  "
      ]
     },
     "execution_count": 387,
     "metadata": {},
     "output_type": "execute_result"
    }
   ],
   "source": [
    "tours_merged_df = pd.merge(pd.merge(pd.merge(pd.merge(pd.merge(hs_merged, ej_tours, how = 'outer'), divide_merged, how='outer'), coldplay_merged, how = 'outer'), u2_tour_df, how = 'outer'), eras_tour_merged, how = 'outer')\n",
    "tours_merged_df.head()"
   ]
  },
  {
   "cell_type": "markdown",
   "id": "0b1abc0a-53eb-4a69-b6d2-2040fd4a5f40",
   "metadata": {},
   "source": [
    "Getting rid of all dates that aren't in the US"
   ]
  },
  {
   "cell_type": "code",
   "execution_count": 388,
   "id": "cb420e12-64a2-468b-a3b8-20cff1bcb037",
   "metadata": {},
   "outputs": [],
   "source": [
    "tours_merged_df = tours_merged_df[tours_merged_df['Country'] == 'United States']"
   ]
  },
  {
   "cell_type": "markdown",
   "id": "36beaf7f-c129-4af8-ae06-f65e194b985d",
   "metadata": {},
   "source": [
    "Some of the cities had citations like [i] so they weren't registering as being the same, so got rid of all of those"
   ]
  },
  {
   "cell_type": "code",
   "execution_count": 389,
   "id": "6de4ce84-f2d3-4ba8-b0f8-fe8a67199acc",
   "metadata": {},
   "outputs": [],
   "source": [
    "tours_merged_df['City'] = tours_merged_df['City'].str.replace(r'\\[.*?\\]', '', regex=True)"
   ]
  },
  {
   "cell_type": "markdown",
   "id": "0f193719-36c1-4615-bfb6-f65db3db3be1",
   "metadata": {},
   "source": [
    "Again, getting rid of all the extra characters and then converting it to numeric. I might have been able to keep the '$' but I wasn't sure so I just cut it."
   ]
  },
  {
   "cell_type": "code",
   "execution_count": 390,
   "id": "fb3101b9-ead4-4dfd-a307-dde2788d8f47",
   "metadata": {},
   "outputs": [],
   "source": [
    "tours_merged_df['Revenue'] = tours_merged_df['Revenue'].str.replace('$', '')\n",
    "tours_merged_df['Revenue'] = tours_merged_df['Revenue'].str.replace(',', '')\n",
    "tours_merged_df['Revenue'] = tours_merged_df['Revenue'].str.replace('—', '')\n",
    "tours_merged_df['Revenue'] = tours_merged_df['Revenue'].str.replace(r'\\[.*?\\]', '', regex=True)"
   ]
  },
  {
   "cell_type": "code",
   "execution_count": 391,
   "id": "527559bb-2624-44ed-9e68-0a5e3060f0c0",
   "metadata": {},
   "outputs": [],
   "source": [
    "tours_merged_df['Revenue'] = pd.to_numeric(tours_merged_df['Revenue'])"
   ]
  },
  {
   "cell_type": "markdown",
   "id": "eb9de803-e931-47a7-a7a4-0077c030b69d",
   "metadata": {},
   "source": [
    "Here is where I messed with the idea of separating attendance and capacity. I don't think I see a need since a large large majority would be sold out."
   ]
  },
  {
   "cell_type": "code",
   "execution_count": 392,
   "id": "f6d886b9-6f05-49b1-a2bd-960a8c7f7d48",
   "metadata": {},
   "outputs": [
    {
     "data": {
      "text/plain": [
       "\"tours_merged_df[['Attendees', 'Capacity']] = tours_merged_df['Attendance'].str.split(' / ', expand = True)\\ntours_merged_df.head()\""
      ]
     },
     "execution_count": 392,
     "metadata": {},
     "output_type": "execute_result"
    }
   ],
   "source": [
    "'''tours_merged_df[['Attendees', 'Capacity']] = tours_merged_df['Attendance'].str.split(' / ', expand = True)\n",
    "tours_merged_df.head()'''"
   ]
  },
  {
   "cell_type": "markdown",
   "id": "94955277-d0d7-424c-8e1d-714114a03c74",
   "metadata": {},
   "source": [
    "Same as the revenue, making it numerical"
   ]
  },
  {
   "cell_type": "code",
   "execution_count": 393,
   "id": "08dd562f-7fcb-464e-bfa1-6b3d9657d1d1",
   "metadata": {},
   "outputs": [],
   "source": [
    "tours_merged_df['Attendance'] = tours_merged_df['Attendance'].str.split(' ').str[0]\n",
    "tours_merged_df['Attendance'] = tours_merged_df['Attendance'].str.replace(',', '')\n",
    "tours_merged_df['Attendance'] = tours_merged_df['Attendance'].str.replace('—', '')\n",
    "tours_merged_df['Attendance'] = tours_merged_df['Attendance'].str.replace(r'\\[.*?\\]', '', regex=True)"
   ]
  },
  {
   "cell_type": "code",
   "execution_count": 394,
   "id": "29a9b460-965a-4305-aee2-53e1369f90c6",
   "metadata": {},
   "outputs": [],
   "source": [
    "tours_merged_df['Attendance'] = pd.to_numeric(tours_merged_df['Attendance'])"
   ]
  },
  {
   "cell_type": "markdown",
   "id": "ab8b808c-aa81-4140-a1f3-ff3775c4a419",
   "metadata": {},
   "source": [
    "Getting all of the unique cities so I can manually build a city dictionary"
   ]
  },
  {
   "cell_type": "code",
   "execution_count": 454,
   "id": "77c7d82d-4ea0-4415-b969-5eddb7a837e6",
   "metadata": {},
   "outputs": [],
   "source": [
    "unique_values = tours_merged_df['City'].unique()\n",
    "unique_values = unique_values.tolist()\n",
    "\n",
    "unique_values.sort()\n",
    "\n",
    "# print(unique_values)"
   ]
  },
  {
   "cell_type": "markdown",
   "id": "45c14ea7-6f80-4577-ae63-bc3e0bc3fdbc",
   "metadata": {},
   "source": [
    "Here is where I got worried that there might be venues in Portland, Oregon as well as Portland, Maine, but I guess the city in Maine is not as big as I thought. Most of the cities I knew only had one (i.e. Hollywood) and I knew the state immediately, but for the handful I wasn't sure about I would plug the city in here and then Google the venue to confirm the state."
   ]
  },
  {
   "cell_type": "code",
   "execution_count": 396,
   "id": "555ccef8-bca3-4fd3-a59b-50feb9d07406",
   "metadata": {},
   "outputs": [
    {
     "data": {
      "text/html": [
       "<div>\n",
       "<style scoped>\n",
       "    .dataframe tbody tr th:only-of-type {\n",
       "        vertical-align: middle;\n",
       "    }\n",
       "\n",
       "    .dataframe tbody tr th {\n",
       "        vertical-align: top;\n",
       "    }\n",
       "\n",
       "    .dataframe thead th {\n",
       "        text-align: right;\n",
       "    }\n",
       "</style>\n",
       "<table border=\"1\" class=\"dataframe\">\n",
       "  <thead>\n",
       "    <tr style=\"text-align: right;\">\n",
       "      <th></th>\n",
       "      <th>Date</th>\n",
       "      <th>City</th>\n",
       "      <th>Country</th>\n",
       "      <th>Venue</th>\n",
       "      <th>Attendance</th>\n",
       "      <th>Revenue</th>\n",
       "      <th>Artist</th>\n",
       "    </tr>\n",
       "  </thead>\n",
       "  <tbody>\n",
       "    <tr>\n",
       "      <th>114</th>\n",
       "      <td>12 January 2019</td>\n",
       "      <td>Portland</td>\n",
       "      <td>United States</td>\n",
       "      <td>Moda Center</td>\n",
       "      <td>14584</td>\n",
       "      <td>1843608</td>\n",
       "      <td>Elton John</td>\n",
       "    </tr>\n",
       "    <tr>\n",
       "      <th>797</th>\n",
       "      <td>30 July 2017</td>\n",
       "      <td>Portland</td>\n",
       "      <td>United States</td>\n",
       "      <td>Moda Center</td>\n",
       "      <td>13420</td>\n",
       "      <td>1074959</td>\n",
       "      <td>Ed Sheeran</td>\n",
       "    </tr>\n",
       "    <tr>\n",
       "      <th>993</th>\n",
       "      <td>8 November 2021</td>\n",
       "      <td>Portland</td>\n",
       "      <td>United States</td>\n",
       "      <td>Moda Center</td>\n",
       "      <td>17890</td>\n",
       "      <td>2125697</td>\n",
       "      <td>Harry Styles</td>\n",
       "    </tr>\n",
       "  </tbody>\n",
       "</table>\n",
       "</div>"
      ],
      "text/plain": [
       "                Date      City        Country        Venue  Attendance  \\\n",
       "114  12 January 2019  Portland  United States  Moda Center       14584   \n",
       "797     30 July 2017  Portland  United States  Moda Center       13420   \n",
       "993  8 November 2021  Portland  United States  Moda Center       17890   \n",
       "\n",
       "     Revenue        Artist  \n",
       "114  1843608    Elton John  \n",
       "797  1074959    Ed Sheeran  \n",
       "993  2125697  Harry Styles  "
      ]
     },
     "execution_count": 396,
     "metadata": {},
     "output_type": "execute_result"
    }
   ],
   "source": [
    "tours_merged_df.loc[tours_merged_df['City'] == 'Portland']"
   ]
  },
  {
   "cell_type": "markdown",
   "id": "62514022-736e-498f-b2ad-1f3c06c0fb1b",
   "metadata": {},
   "source": [
    "Defining the function for assigning each city a state."
   ]
  },
  {
   "cell_type": "code",
   "execution_count": 397,
   "id": "32778ca8-de5f-4964-b8c6-b367b9e0f14a",
   "metadata": {},
   "outputs": [],
   "source": [
    "def set_value(row_number, assigned_value):\n",
    "    return assigned_value[row_number]"
   ]
  },
  {
   "cell_type": "code",
   "execution_count": 398,
   "id": "0e2b6018-db7f-4073-be07-143d43f3dcad",
   "metadata": {},
   "outputs": [],
   "source": [
    "states_dictionary = pd.read_csv(r\"C:\\Users\\gamec\\Desktop\\School\\Data in Emat\\states-dictionary.txt\")"
   ]
  },
  {
   "cell_type": "markdown",
   "id": "70c89a1c-d622-4bd0-b6c2-1a209d5fa015",
   "metadata": {},
   "source": [
    "PLEASE forgive me for this awful dictionary - I know. I loaded it in as a text file but I keep getting an error code that I can't deal with right now, by the time you see it I will have discussed it with you and fixed the problem for the final."
   ]
  },
  {
   "cell_type": "code",
   "execution_count": 399,
   "id": "b84ff56e-ffcc-44f7-9299-7d212c90a0ef",
   "metadata": {},
   "outputs": [],
   "source": [
    "cities_dictionary = {'Albany' : 'New York',\n",
    "'Allentown' : 'Pennsylvania',\n",
    "'Anaheim' : 'California',\n",
    "'Arlington' : 'Texas',\n",
    "'Atlanta' : 'Georgia',\n",
    "'Austin' : 'Texas',                     \n",
    "'Baltimore' : 'Maryland',\n",
    "'Birmingham' : 'Alabama',\n",
    "'Boise' : 'Idaho',\n",
    "'Boston' : 'Massachusetts',\n",
    "'Brooklyn' : 'New York',\n",
    "'Buffalo' : 'New York',\n",
    "'Charleston' : 'North Carolina',\n",
    "'Charlotte' : 'North Carolina',\n",
    "'Charlottesville': 'Virginia',\n",
    "'Chicago' : 'Illinois',\n",
    "'Cincinnati' : 'Ohio',\n",
    "'Cleveland' : 'Ohio',\n",
    "'Columbia' : 'South Carolina',\n",
    "'Columbus': 'Ohio',\n",
    "'Dallas' : 'Texas',\n",
    "'Denver' : 'Colorado',\n",
    "'Des Moines' : 'Iowa',\n",
    "'Detroit' : 'Michigan',\n",
    "'Duluth' : 'Georgia',\n",
    "'East Lansing' : 'Michigan',\n",
    "'East Rutherford' : 'New Jersey',\n",
    "'Elmont' : 'New York',                     \n",
    "'El Paso' : 'Texas',\n",
    "'Fargo' : 'North Dakota',\n",
    "'Foxborough' : 'Massachussets',\n",
    "'Fresno' : 'California',\n",
    "'Glendale' : 'California',\n",
    "'Grand Rapids' : 'Michigan',\n",
    "'Greensboro' : 'North Carolina',\n",
    "'Hartford' : 'Connecticut',\n",
    "'Hershey' : 'Pennsylvania',\n",
    "'Hollywood' : 'California',\n",
    "'Houston' : 'Texas',\n",
    "'Indianapolis' : 'Indiana',\n",
    "'Inglewood' : 'California',\n",
    "'Jacksonville' : 'Florida',\n",
    "'Kansas City' : 'Missouri',\n",
    "'Knoxville' : 'Tennessee',\n",
    "'Landover' : 'Maryland',\n",
    "'Las Vegas' : 'Nevada',\n",
    "'Lexington' : 'Kentucky',\n",
    "'Lincoln' : 'Nebraska',\n",
    "'Los Angeles' : 'California',\n",
    "'Louisville' : 'Kentucky',\n",
    "'Madison' : 'Wisconsin',\n",
    "'Memphis' : 'Tennessee',\n",
    "'Miami' : 'Florida',\n",
    "'Miami Gardens' : 'Florida',\n",
    "'Milwaukee' : 'Wisconsin',\n",
    "'Minneapolis' : 'Minnesota',\n",
    "'Nashville' : 'Tennessee',\n",
    "'New Orleans' : 'Louisiana',\n",
    "'New York City' : 'New York',\n",
    "'Newark' : 'New Jersey',\n",
    "'Norman' : 'Oklahoma',\n",
    "'North Charleston' : 'South Carolina',\n",
    "'North Little Rock' : 'Arkansas',\n",
    "'Oakland' : 'California',\n",
    "'Oklahoma City' : 'Oklahoma',\n",
    "'Omaha' : 'Nebraska',\n",
    "'Orlando' : 'Florida',\n",
    "'Paradise' : 'Nevada',\n",
    "'Pasadena' : 'California',\n",
    "'Philadelphia' : 'Pennsylvania',\n",
    "'Phoenix' : 'Arizona',\n",
    "'Pittsburgh' : 'Pennsylvania',\n",
    "'Portland' : 'Oregon',\n",
    "'Raleigh' : 'North Carolina',\n",
    "'Rosemont' : 'Illinois',\n",
    "'Sacramento' : 'California',\n",
    "'Saint Paul' : 'Minnesota',\n",
    "'Salt Lake City' : 'Utah',\n",
    "'San Antonio' : 'Texas',\n",
    "'San Diego' : 'California',\n",
    "'San Francisco' : 'California',\n",
    "'San Jose' : 'California',\n",
    "'Santa Clara' : 'California',\n",
    "'Seattle' : 'Washington',\n",
    "'St. Louis' : 'Missouri',\n",
    "'Stanford' : 'California',\n",
    "'Sunrise' : 'Florida',\n",
    "'Syracuse' : 'New York',\n",
    "'Tacoma' : 'Washington',\n",
    "'Tampa' : 'Florida',\n",
    "'Thousand Palms' : 'California',                     \n",
    "'Tulsa' : 'Oklahoma',\n",
    "'Uncasville': 'Connecticut',\n",
    "'Uniondale' : 'New York',\n",
    "'University Park' : 'Pennsylvania',\n",
    "'Washington, D.C.' : 'Washington, D.C.',\n",
    "'Whitney' : 'Nevada'}"
   ]
  },
  {
   "cell_type": "markdown",
   "id": "7d2e85c5-a5d2-4845-a1c1-c4ada6dc98ed",
   "metadata": {},
   "source": [
    "Applying the dictionary. Building the dictionary honestly only took about 10 minutes of active work since I knew most of the information off-hand. Maybe a more sophisticated data scientist with a larger set (top 100 tours or something) would be able to compare a table of all music venues that contains states or something and automatically assign it. I don't know. Oh well."
   ]
  },
  {
   "cell_type": "code",
   "execution_count": 400,
   "id": "2391bf45-87de-492f-a9c0-4563ddd8aa60",
   "metadata": {},
   "outputs": [],
   "source": [
    "tours_merged_df['State'] = tours_merged_df['City'].apply(set_value, args=(cities_dictionary, ))"
   ]
  },
  {
   "cell_type": "markdown",
   "id": "b811c1eb-ea86-4c6b-8ab3-63a3dcf56d08",
   "metadata": {},
   "source": [
    "Here is where I start to get into the actual graphing portion."
   ]
  },
  {
   "cell_type": "markdown",
   "id": "743212c6-a75d-41f5-ab4c-61ebaf118df3",
   "metadata": {},
   "source": [
    "Creating a dataframe that counts the instances of each state appearing in the dataframe and includes the name of the state with how many times it was visited by artists."
   ]
  },
  {
   "cell_type": "code",
   "execution_count": 401,
   "id": "3746180f-c38b-48e0-af60-83bda6378ba3",
   "metadata": {},
   "outputs": [],
   "source": [
    "state_count_df = tours_merged_df['State'].value_counts().rename_axis('State').reset_index(name='Count')\n",
    "# state_count_df"
   ]
  },
  {
   "cell_type": "markdown",
   "id": "bdd4fbe4-0c06-4b0e-9190-3b33253d6c42",
   "metadata": {},
   "source": [
    "Because the dataset is so huge, I couldn't get a histogram to work with all of them. So I split it into two. Probably won't be a histogram in the future but I'm not sure what else to do in order to keep the states neatly labeled. Would the states with lower numbers even be relevant?"
   ]
  },
  {
   "cell_type": "code",
   "execution_count": 402,
   "id": "388cb4f8-c02c-4dad-acae-1d59a3a49a24",
   "metadata": {},
   "outputs": [],
   "source": [
    "less_than_ten = state_count_df[state_count_df['Count'] < 10]\n",
    "more_than_ten = state_count_df[state_count_df['Count'] > 10]"
   ]
  },
  {
   "cell_type": "markdown",
   "id": "3748358f-ae04-4539-af90-e19546e0d928",
   "metadata": {},
   "source": [
    "As I assumed, California had the most visits to the state. Unsurprising. Hypothesis would be that's because it has so many cities."
   ]
  },
  {
   "cell_type": "code",
   "execution_count": 453,
   "id": "1fa36946-348a-495d-b16c-6ee7cf990c48",
   "metadata": {},
   "outputs": [
    {
     "data": {
      "text/plain": [
       "Text(0.5, 0.98, 'Times each state was visited')"
      ]
     },
     "execution_count": 453,
     "metadata": {},
     "output_type": "execute_result"
    },
    {
     "data": {
      "image/png": "[encoded data removed]",
      "text/plain": [
       "<Figure size 3000x1000 with 2 Axes>"
      ]
     },
     "metadata": {},
     "output_type": "display_data"
    }
   ],
   "source": [
    "fig1, ax1 = plt.subplots(2,1, figsize = (30,10), sharey = True, layout='constrained')\n",
    "ax1[0].bar(more_than_ten['State'], more_than_ten['Count'], color ='red', width = 0.4)\n",
    "\n",
    "ax1[1].bar(less_than_ten['State'], less_than_ten['Count'], color ='red', width = 0.4)\n",
    "fig1.supylabel('# of visits')\n",
    "fig1.suptitle('Times each state was visited')"
   ]
  },
  {
   "cell_type": "markdown",
   "id": "b4c54cce-2ffb-4b5b-8d70-a1fd5fe12402",
   "metadata": {},
   "source": [
    "Rather than just creating a list of unique cities, this creates a dataframe that includes the state as well."
   ]
  },
  {
   "cell_type": "code",
   "execution_count": 404,
   "id": "32a7cf8a-cdd9-491d-90b6-e33e91e07473",
   "metadata": {},
   "outputs": [],
   "source": [
    "unique_cities = pd.DataFrame.from_dict(cities_dictionary, orient='index', columns=['State'])\n",
    "unique_cities = unique_cities.reset_index(names='City')\n",
    "\n",
    "# unique_cities"
   ]
  },
  {
   "cell_type": "code",
   "execution_count": null,
   "id": "49b80374-2e38-491b-9bb3-497822d5d4da",
   "metadata": {},
   "outputs": [],
   "source": [
    "Using that dataframe, we count the number of times that each state appears, thereby getting the number of different cities the artist visits within each state."
   ]
  },
  {
   "cell_type": "code",
   "execution_count": 405,
   "id": "102baa3f-cf75-40c5-9062-bcd92be48870",
   "metadata": {},
   "outputs": [],
   "source": [
    "num_cities_count_df = unique_cities['State'].value_counts().rename_axis('State').reset_index(name='Count')\n",
    "# num_cities_count_df"
   ]
  },
  {
   "cell_type": "markdown",
   "id": "ae669086-7ee6-441f-907f-6cbed1ba37b2",
   "metadata": {},
   "source": [
    "Masking out states with less than three cities or else the dataset would be huge again"
   ]
  },
  {
   "cell_type": "code",
   "execution_count": 406,
   "id": "b8a9fb2f-024a-4e52-82fd-651662aff9db",
   "metadata": {},
   "outputs": [],
   "source": [
    "two_cities = num_cities_count_df[num_cities_count_df['Count'] > 2]"
   ]
  },
  {
   "cell_type": "markdown",
   "id": "f7b47f36-c180-4ead-9eff-e2e787b7efff",
   "metadata": {},
   "source": [
    "As I thought, California has almost double the cities as the next largest amount. New York is kind of a copout because in my research to build the dictionary, they were mostly NYC just *technically* not NYC, but it made sense."
   ]
  },
  {
   "cell_type": "code",
   "execution_count": 451,
   "id": "0891b0d6-6881-4eab-9315-3f312e353e08",
   "metadata": {},
   "outputs": [
    {
     "data": {
      "text/plain": [
       "Text(0.5, 1.0, 'Cities per state (w/ more than two cities)')"
      ]
     },
     "execution_count": 451,
     "metadata": {},
     "output_type": "execute_result"
    },
    {
     "data": {
      "image/png": "[encoded data removed]",
      "text/plain": [
       "<Figure size 3000x1000 with 1 Axes>"
      ]
     },
     "metadata": {},
     "output_type": "display_data"
    }
   ],
   "source": [
    "fig2, ax2 = plt.subplots(figsize = (30,10), layout='constrained')\n",
    "ax2.bar(two_cities['State'], two_cities['Count'], color ='blue', width = 0.4,)\n",
    "ax2.set_xlabel('State')\n",
    "ax2.set_ylabel('Cities')\n",
    "ax2.set_title('Cities per state (w/ more than two cities)')"
   ]
  },
  {
   "cell_type": "markdown",
   "id": "69bf1236-b4fb-47c0-8fab-c456548f47b7",
   "metadata": {},
   "source": [
    "So, this is nearly unreadable because of how large it is. But trying to mask the data was giving me inaccurate results, and adding .head(15) was giving the top 15 for each - but since they were ordered differently, this meant nothing. I will come back to this problem later."
   ]
  },
  {
   "cell_type": "markdown",
   "id": "41e5d685-da22-483f-8371-c722332c07a6",
   "metadata": {},
   "source": [
    "But, this is the two graphs overlapped. I think it's interesting how there isn't as strict of a correlation between # of cities and times the state is visited. This is something I would run smf.ols on, but it's 11:30."
   ]
  },
  {
   "cell_type": "code",
   "execution_count": 424,
   "id": "acc7a184-d583-465e-92e4-70b0ebc476a6",
   "metadata": {},
   "outputs": [
    {
     "data": {
      "text/plain": [
       "Text(0, 0.5, 'Instances')"
      ]
     },
     "execution_count": 424,
     "metadata": {},
     "output_type": "execute_result"
    },
    {
     "data": {
      "image/png": "[encoded data removed]",
      "text/plain": [
       "<Figure size 3000x1000 with 1 Axes>"
      ]
     },
     "metadata": {},
     "output_type": "display_data"
    }
   ],
   "source": [
    "fig3, ax3 = plt.subplots(figsize = (30,10), layout='constrained')\n",
    "g1 = ax3.bar(state_count_df['State'], state_count_df['Count'], color = 'red', width = 0.4, label = \"Times states were visited\")\n",
    "g2 = ax3.bar(num_cities_count_df['State'], num_cities_count_df['Count'], alpha = 0.5, color = 'blue', width = 0.4, label = \"Cities visited per state\")\n",
    "\n",
    "ax3.legend(handles = [g1, g2])\n",
    "ax3.set_title(\"Times artists went to states vs. the amount of individual cities per state were visited\")\n",
    "ax3.set_xlabel(\"States\")\n",
    "ax3.set_ylabel(\"Instances\")"
   ]
  },
  {
   "cell_type": "markdown",
   "id": "b3eec4f8-5700-49ef-852d-ac6a71abe11d",
   "metadata": {},
   "source": [
    "This is not displaying correctly, there's less than 38 points. Also, it's a lot less interesting when everything is a solid number and there are no decimals. But I need to incorporate things other than just bar graphs. Not sure how to solve."
   ]
  },
  {
   "cell_type": "code",
   "execution_count": 443,
   "id": "793f149c-4ad5-499b-b525-1731b2442314",
   "metadata": {},
   "outputs": [
    {
     "data": {
      "text/plain": [
       "Text(0, 0.5, 'Cities')"
      ]
     },
     "execution_count": 443,
     "metadata": {},
     "output_type": "execute_result"
    },
    {
     "data": {
      "image/png": "[encoded data removed]",
      "text/plain": [
       "<Figure size 640x480 with 1 Axes>"
      ]
     },
     "metadata": {},
     "output_type": "display_data"
    }
   ],
   "source": [
    "fig3, ax3 = plt.subplots()\n",
    "ax3.scatter(num_cities_count_df['Count'], state_count_df['Count'], color = 'red', alpha = 0.1, label = \"Times states were visited\") \n",
    "ax3.set_title(\"Times artists went to states vs. the amount of individual cities per state were visited\")\n",
    "ax3.set_xlabel(\"States\")\n",
    "ax3.set_ylabel(\"Cities\")"
   ]
  },
  {
   "cell_type": "code",
   "execution_count": 413,
   "id": "e726e433-2cd2-4c9a-959e-cdd83e4ed31d",
   "metadata": {},
   "outputs": [],
   "source": [
    "state_rev = tours_merged_df.groupby('State')['Revenue'].sum()\n",
    "state_rev_df = state_rev.rename_axis('State').reset_index(name='Revenue')\n",
    "state_rev_df = state_rev_df.sort_values(by='Revenue', ascending = False)"
   ]
  },
  {
   "cell_type": "markdown",
   "id": "af9ea7d8-82cf-4812-8620-d801b9f15b7f",
   "metadata": {},
   "source": [
    "Need to look into how to get the actual numbers on the side rather than decimals - 1.0 is 10 billion, so need to properly label. But revenue per state still follows along with the trend we saw."
   ]
  },
  {
   "cell_type": "code",
   "execution_count": 444,
   "id": "600f6f89-d99a-4762-8532-48f416a65f0e",
   "metadata": {},
   "outputs": [
    {
     "data": {
      "text/plain": [
       "Text(0.5, 1.0, 'Revenue per state')"
      ]
     },
     "execution_count": 444,
     "metadata": {},
     "output_type": "execute_result"
    },
    {
     "data": {
      "image/png": "[encoded data removed]",
      "text/plain": [
       "<Figure size 2200x1000 with 1 Axes>"
      ]
     },
     "metadata": {},
     "output_type": "display_data"
    }
   ],
   "source": [
    "fig4, ax4 = plt.subplots(figsize = (22,10))\n",
    "ax4.bar(state_rev_df['State'].head(15), state_rev_df['Revenue'].head(15), color ='purple', width = 0.4)\n",
    "ax4.set_ylabel('Revenue (in $)')\n",
    "ax4.set_xlabel('State')\n",
    "ax4.set_title('Revenue per state')"
   ]
  },
  {
   "cell_type": "code",
   "execution_count": 430,
   "id": "89b91993-09f3-4a95-b92e-8285112333d4",
   "metadata": {},
   "outputs": [],
   "source": [
    "state_attendance = tours_merged_df.groupby('State')['Attendance'].sum()\n",
    "state_att_df = state_attendance.rename_axis('State').reset_index(name='Attendance')\n",
    "state_att_df = state_att_df.sort_values(by='Attendance', ascending = False)\n",
    "# state_att_df.head()"
   ]
  },
  {
   "cell_type": "markdown",
   "id": "d7e20fc0-52f4-47a2-ad0e-cf36fa8600f5",
   "metadata": {},
   "source": [
    "So, nearly the same order as the revenue. But there are a few noticeable changes. I'll overlay them for comparison."
   ]
  },
  {
   "cell_type": "code",
   "execution_count": 431,
   "id": "4b481943-1ccb-4dd3-bfe9-180260b05db0",
   "metadata": {},
   "outputs": [
    {
     "data": {
      "text/plain": [
       "Text(0.5, 1.0, 'Attendees per state')"
      ]
     },
     "execution_count": 431,
     "metadata": {},
     "output_type": "execute_result"
    },
    {
     "data": {
      "image/png": "[encoded data removed]",
      "text/plain": [
       "<Figure size 2200x1000 with 1 Axes>"
      ]
     },
     "metadata": {},
     "output_type": "display_data"
    }
   ],
   "source": [
    "fig5, ax5 = plt.subplots(figsize = (22,10))\n",
    "ax5.bar(state_att_df['State'].head(15), state_att_df['Attendance'].head(15), color ='green', width = 0.4)\n",
    "ax5.set_ylabel('Attendance (in millions)')\n",
    "ax5.set_xlabel('State')\n",
    "ax5.set_title(\"Attendees per state\")"
   ]
  },
  {
   "cell_type": "markdown",
   "id": "6053876f-273e-4d14-a831-e6d3c17a2868",
   "metadata": {},
   "source": [
    "Well, this is very interesting. Better than the stacked bar I was planning on doing initially. Not sure how to label each individual dot yet (tried it once or twice but I'm running out of time). But the two outliers New York and California make it really hard to read."
   ]
  },
  {
   "cell_type": "code",
   "execution_count": 450,
   "id": "df6fe9b3-ce7b-4d57-b4cf-81f3ccb80333",
   "metadata": {},
   "outputs": [
    {
     "data": {
      "image/png": "[encoded data removed]",
      "text/plain": [
       "<Figure size 3000x1000 with 1 Axes>"
      ]
     },
     "metadata": {},
     "output_type": "display_data"
    }
   ],
   "source": [
    "fig3, ax3 = plt.subplots(figsize = (30, 10))\n",
    "ax3.scatter(state_rev_df['Revenue'], state_att_df['Attendance'], alpha = 0.5, color = 'magenta')\n",
    "\n",
    "ax3.set_xlabel('Revenue (in billions)')\n",
    "ax3.set_ylabel('Attendance (in millions)')\n",
    "ax3.set_title ('Attendance vs. Revenue')\n",
    "plt.show()"
   ]
  },
  {
   "cell_type": "markdown",
   "id": "f4cda456-f7f2-4eda-861b-b05171b778c4",
   "metadata": {},
   "source": [
    "Some of these graphs I need to revisit the lecture on styling graphs (changing font size, making it bold, etc). I also need to think more about the kinds of plots I'm using. It makes sense I would use a lot of histograms, but I want to try and branch out a little (maybe a pie chart). Because there are such huge jumps in the data I am having trouble making visualizations that make sense."
   ]
  },
  {
   "cell_type": "markdown",
   "id": "a64d2f7b-8361-4d6c-8698-9d9389184935",
   "metadata": {},
   "source": [
    "One other chart I would like to compare is # of attendees compared to # of cities per state. Since there isn't a super strong correlation between # of cities and # of visits, I think the attendees might be interesting as well. As well as attendees vs visits to state, since some states are likely to have super big venues vs others. But it's at the point where I feel like I'm bogging this down with more and more graphs, I need help figuring out which ones are the most useful."
   ]
  }
 ],
 "metadata": {
  "kernelspec": {
   "display_name": "Python 3 (ipykernel)",
   "language": "python",
   "name": "python3"
  },
  "language_info": {
   "codemirror_mode": {
    "name": "ipython",
    "version": 3
   },
   "file_extension": ".py",
   "mimetype": "text/x-python",
   "name": "python",
   "nbconvert_exporter": "python",
   "pygments_lexer": "ipython3",
   "version": "3.12.4"
  }
 },
 "nbformat": 4,
 "nbformat_minor": 5
}
