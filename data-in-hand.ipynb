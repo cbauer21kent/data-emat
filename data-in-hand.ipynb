{
 "cells": [
  {
   "cell_type": "code",
   "execution_count": 209,
   "id": "c7114923-3a1c-422a-82ae-c0211cc37b4e",
   "metadata": {},
   "outputs": [],
   "source": [
    "import pandas as pd\n",
    "import json as js\n",
    "import requests\n",
    "from io import StringIO\n",
    "from bs4 import BeautifulSoup\n",
    "from matplotlib import pyplot as plt\n",
    "import numpy as np"
   ]
  },
  {
   "cell_type": "markdown",
   "id": "a72f3469-6e0c-443a-88fb-b3da6514d1cd",
   "metadata": {},
   "source": [
    "This section is what I tried in order to get the Billboard tables scraped. Because it's a complicated HTML structure (at least compared to Wikipedia) I had some trouble targeting it. I was getting errors until I spent an hour watching Beautifulsoup tutorials to try and target it, but decided it's worth it to explore other options first. If I end up needing this data I could give it another shot."
   ]
  },
  {
   "cell_type": "markdown",
   "id": "4c30d74d-b3af-4103-912a-53495b7b2b9e",
   "metadata": {},
   "source": [
    "My (rough) idea now is to look at the number of times the top tours (maybe top five or so?) visited different cities and find which ones are the most visited. I think I would limit my analysis to cities in the US for the sake of brevity and also to ensure I have the right financial data. Something to consider would be the populations of the states as well, and how that could affect the number of times a city is visited. "
   ]
  },
  {
   "cell_type": "markdown",
   "id": "33c9384f-15e1-4db1-a73e-50a451e4c1d7",
   "metadata": {},
   "source": [
    "I'd also like to look into some kind of way to map the region of a city/venue. In my experience, artists will have two shows in California (North and South) and then a show in Chicago and Philidelphia and nothing in-between. Because of the population density, Chicago is like the bastion for concerts in the Midwest. It would be interesting to see region (and population) taken into account too to see how many are in each region."
   ]
  },
  {
   "cell_type": "code",
   "execution_count": 135,
   "id": "9ee9083e-65c6-4ceb-9367-1e1597973622",
   "metadata": {},
   "outputs": [],
   "source": [
    "url_wiki = 'https://www.billboard.com/2023-year-end-boxscore-charts/#pmc-protected-embed-2'"
   ]
  },
  {
   "cell_type": "code",
   "execution_count": 136,
   "id": "e194a02f-45ab-4dc0-b6ae-1182c3184623",
   "metadata": {},
   "outputs": [
    {
     "data": {
      "text/plain": [
       "200"
      ]
     },
     "execution_count": 136,
     "metadata": {},
     "output_type": "execute_result"
    }
   ],
   "source": [
    "response1 = requests.get(url_wiki)\n",
    "response1.status_code"
   ]
  },
  {
   "cell_type": "code",
   "execution_count": 137,
   "id": "9003659d-7256-4319-927e-80d1396a726d",
   "metadata": {},
   "outputs": [
    {
     "name": "stdout",
     "output_type": "stream",
     "text": [
      "None\n"
     ]
    }
   ],
   "source": [
    "soup = BeautifulSoup(response1.text, \"html.parser\")\n",
    "the_table = soup.find('table',{'class':\"medium datawrapper-OPu6B-sqmikr svelte-1smti70 striped compact resortable\"})\n",
    "print(the_table)"
   ]
  },
  {
   "cell_type": "code",
   "execution_count": 138,
   "id": "711e37ef-f1c7-49e1-927e-8990ccf214e4",
   "metadata": {},
   "outputs": [],
   "source": [
    "eras_tour = 'https://en.wikipedia.org/wiki/The_Eras_Tour#:~:text=Long%20Story%20Short%22-,Tour%20dates,-List%20of%202023'"
   ]
  },
  {
   "cell_type": "code",
   "execution_count": 139,
   "id": "f2b5fa14-900b-4a58-867e-7093051cd3c5",
   "metadata": {},
   "outputs": [
    {
     "data": {
      "text/plain": [
       "200"
      ]
     },
     "execution_count": 139,
     "metadata": {},
     "output_type": "execute_result"
    }
   ],
   "source": [
    "response2 = requests.get(eras_tour)\n",
    "response2.status_code"
   ]
  },
  {
   "cell_type": "code",
   "execution_count": 140,
   "id": "e31a5d6e-a71c-43a5-b148-d1940e0ccab6",
   "metadata": {},
   "outputs": [
    {
     "data": {
      "text/plain": [
       "list"
      ]
     },
     "execution_count": 140,
     "metadata": {},
     "output_type": "execute_result"
    }
   ],
   "source": [
    "eras_tour_list = pd.read_html(StringIO(response2.text))\n",
    "type(eras_tour_list)"
   ]
  },
  {
   "cell_type": "markdown",
   "id": "22299af4-468a-4f7a-b8de-f7a97d71a4c7",
   "metadata": {},
   "source": [
    "I was a little surprised by how many things on Wikipedia pages are coded as tabled so it was mostly trial and error in terms of the index number to get the one I needed."
   ]
  },
  {
   "cell_type": "markdown",
   "id": "656c8a14-d18c-4807-a0cd-1bac9263d6f3",
   "metadata": {},
   "source": [
    "It was mentioned that the Wikipedia articles all cite data for their tables, but from my poking around it looks like they are once again citing Pollstar (paid) or an already put-together report, the same problems I've been running into. At least it's already concantenated for me though!"
   ]
  },
  {
   "cell_type": "code",
   "execution_count": 141,
   "id": "75e466d0-d418-4c2e-a51d-806cc49dc749",
   "metadata": {},
   "outputs": [
    {
     "data": {
      "text/html": [
       "<div>\n",
       "<style scoped>\n",
       "    .dataframe tbody tr th:only-of-type {\n",
       "        vertical-align: middle;\n",
       "    }\n",
       "\n",
       "    .dataframe tbody tr th {\n",
       "        vertical-align: top;\n",
       "    }\n",
       "\n",
       "    .dataframe thead th {\n",
       "        text-align: right;\n",
       "    }\n",
       "</style>\n",
       "<table border=\"1\" class=\"dataframe\">\n",
       "  <thead>\n",
       "    <tr style=\"text-align: right;\">\n",
       "      <th></th>\n",
       "      <th>Date (2023)</th>\n",
       "      <th>City</th>\n",
       "      <th>Country</th>\n",
       "      <th>Venue</th>\n",
       "      <th>Opening acts</th>\n",
       "      <th>Attendance</th>\n",
       "      <th>Revenue</th>\n",
       "    </tr>\n",
       "  </thead>\n",
       "  <tbody>\n",
       "    <tr>\n",
       "      <th>0</th>\n",
       "      <td>March 17</td>\n",
       "      <td>Glendale</td>\n",
       "      <td>United States</td>\n",
       "      <td>State Farm Stadium</td>\n",
       "      <td>Paramore Gayle</td>\n",
       "      <td>—</td>\n",
       "      <td>—</td>\n",
       "    </tr>\n",
       "    <tr>\n",
       "      <th>1</th>\n",
       "      <td>March 18</td>\n",
       "      <td>Glendale</td>\n",
       "      <td>United States</td>\n",
       "      <td>State Farm Stadium</td>\n",
       "      <td>Paramore Gayle</td>\n",
       "      <td>—</td>\n",
       "      <td>—</td>\n",
       "    </tr>\n",
       "    <tr>\n",
       "      <th>2</th>\n",
       "      <td>March 24</td>\n",
       "      <td>Paradise[i]</td>\n",
       "      <td>United States</td>\n",
       "      <td>Allegiant Stadium</td>\n",
       "      <td>Beabadoobee Gayle</td>\n",
       "      <td>—</td>\n",
       "      <td>—</td>\n",
       "    </tr>\n",
       "    <tr>\n",
       "      <th>3</th>\n",
       "      <td>March 25</td>\n",
       "      <td>Paradise[i]</td>\n",
       "      <td>United States</td>\n",
       "      <td>Allegiant Stadium</td>\n",
       "      <td>Beabadoobee Gayle</td>\n",
       "      <td>—</td>\n",
       "      <td>—</td>\n",
       "    </tr>\n",
       "    <tr>\n",
       "      <th>4</th>\n",
       "      <td>March 31</td>\n",
       "      <td>Arlington</td>\n",
       "      <td>United States</td>\n",
       "      <td>AT&amp;T Stadium</td>\n",
       "      <td>Muna Gayle</td>\n",
       "      <td>—</td>\n",
       "      <td>—</td>\n",
       "    </tr>\n",
       "  </tbody>\n",
       "</table>\n",
       "</div>"
      ],
      "text/plain": [
       "  Date (2023)         City        Country               Venue  \\\n",
       "0    March 17     Glendale  United States  State Farm Stadium   \n",
       "1    March 18     Glendale  United States  State Farm Stadium   \n",
       "2    March 24  Paradise[i]  United States   Allegiant Stadium   \n",
       "3    March 25  Paradise[i]  United States   Allegiant Stadium   \n",
       "4    March 31    Arlington  United States        AT&T Stadium   \n",
       "\n",
       "        Opening acts Attendance Revenue  \n",
       "0     Paramore Gayle          —       —  \n",
       "1     Paramore Gayle          —       —  \n",
       "2  Beabadoobee Gayle          —       —  \n",
       "3  Beabadoobee Gayle          —       —  \n",
       "4         Muna Gayle          —       —  "
      ]
     },
     "execution_count": 141,
     "metadata": {},
     "output_type": "execute_result"
    }
   ],
   "source": [
    "eras_2023 = eras_tour_list[5]\n",
    "eras_2024 = eras_tour_list[6]\n",
    "\n",
    "eras_2023.head()"
   ]
  },
  {
   "cell_type": "code",
   "execution_count": 142,
   "id": "d62fbbf9-5145-4d79-9f62-7dcde2b2b70a",
   "metadata": {},
   "outputs": [],
   "source": [
    "eras_2023['Date (2023)'] = eras_2023['Date (2023)'].astype(str) + ' 2023'\n",
    "eras_2024['Date (2024)'] = eras_2024['Date (2024)'].astype(str) + ' 2024'\n",
    "\n",
    "eras_2023.rename(columns={'Date (2023)': 'Date'}, inplace=True)\n",
    "eras_2024.rename(columns={'Date (2024)': 'Date'}, inplace=True)"
   ]
  },
  {
   "cell_type": "code",
   "execution_count": 143,
   "id": "b77351f6-e8aa-4c67-b907-7a797f99d960",
   "metadata": {},
   "outputs": [],
   "source": [
    "eras_tour_merged = pd.concat([eras_2023, eras_2024], axis = 0)\n",
    "# eras_tour_merged.head()"
   ]
  },
  {
   "cell_type": "markdown",
   "id": "3f349794-f11a-485b-bdb6-061a50cbf79c",
   "metadata": {},
   "source": [
    "Something I noticed with the Eras tour here as well is that very few dates are in the US (comparatively). Just skimming the Wikipedia article it looked a lot more global than it actually was, but nearly half of the dates were in the US. Glad I checked the numbers first before worrying about the results."
   ]
  },
  {
   "cell_type": "code",
   "execution_count": 144,
   "id": "713dbd21-5595-42c2-9c6f-08a9e234b8e6",
   "metadata": {},
   "outputs": [
    {
     "name": "stdout",
     "output_type": "stream",
     "text": [
      "Times in US: 62\n",
      "Times Abroad: 88\n"
     ]
    }
   ],
   "source": [
    "count_us_eras = (eras_tour_merged['Country'] == 'United States').sum()\n",
    "print(\"Times in US:\", count_us_eras)\n",
    "\n",
    "count_global_eras = eras_tour_merged['Country'].ne('United States').sum()\n",
    "print(\"Times Abroad:\", count_global_eras)"
   ]
  },
  {
   "cell_type": "code",
   "execution_count": 145,
   "id": "64506a96-ed9c-4ed9-a043-d973d3c2e0aa",
   "metadata": {},
   "outputs": [],
   "source": [
    "ej = 'https://en.wikipedia.org/wiki/Farewell_Yellow_Brick_Road'"
   ]
  },
  {
   "cell_type": "code",
   "execution_count": 146,
   "id": "4c2fc041-568d-4fae-80e6-ddd8a051ba2d",
   "metadata": {},
   "outputs": [
    {
     "data": {
      "text/plain": [
       "200"
      ]
     },
     "execution_count": 146,
     "metadata": {},
     "output_type": "execute_result"
    }
   ],
   "source": [
    "response3 = requests.get(ej)\n",
    "response3.status_code"
   ]
  },
  {
   "cell_type": "code",
   "execution_count": 147,
   "id": "2a406464-36f8-417e-8022-691b35296494",
   "metadata": {},
   "outputs": [
    {
     "data": {
      "text/plain": [
       "list"
      ]
     },
     "execution_count": 147,
     "metadata": {},
     "output_type": "execute_result"
    }
   ],
   "source": [
    "ej_list = pd.read_html(StringIO(response3.text))\n",
    "type(ej_list)"
   ]
  },
  {
   "cell_type": "code",
   "execution_count": 148,
   "id": "53c83076-cbed-4cc7-8210-96f90a17acd8",
   "metadata": {},
   "outputs": [
    {
     "data": {
      "text/html": [
       "<div>\n",
       "<style scoped>\n",
       "    .dataframe tbody tr th:only-of-type {\n",
       "        vertical-align: middle;\n",
       "    }\n",
       "\n",
       "    .dataframe tbody tr th {\n",
       "        vertical-align: top;\n",
       "    }\n",
       "\n",
       "    .dataframe thead tr th {\n",
       "        text-align: left;\n",
       "    }\n",
       "</style>\n",
       "<table border=\"1\" class=\"dataframe\">\n",
       "  <thead>\n",
       "    <tr>\n",
       "      <th></th>\n",
       "      <th>Date</th>\n",
       "      <th>City</th>\n",
       "      <th>Country</th>\n",
       "      <th>Venue</th>\n",
       "      <th>Attendance</th>\n",
       "      <th>Revenue</th>\n",
       "    </tr>\n",
       "    <tr>\n",
       "      <th></th>\n",
       "      <th>North America[32][33][34]</th>\n",
       "      <th>North America[32][33][34]</th>\n",
       "      <th>North America[32][33][34]</th>\n",
       "      <th>North America[32][33][34]</th>\n",
       "      <th>North America[32][33][34]</th>\n",
       "      <th>North America[32][33][34]</th>\n",
       "    </tr>\n",
       "  </thead>\n",
       "  <tbody>\n",
       "    <tr>\n",
       "      <th>0</th>\n",
       "      <td>8 September 2018</td>\n",
       "      <td>Allentown</td>\n",
       "      <td>United States</td>\n",
       "      <td>PPL Center</td>\n",
       "      <td>8,983 / 8,983</td>\n",
       "      <td>$1,492,859</td>\n",
       "    </tr>\n",
       "    <tr>\n",
       "      <th>1</th>\n",
       "      <td>11 September 2018</td>\n",
       "      <td>Philadelphia</td>\n",
       "      <td>United States</td>\n",
       "      <td>Wells Fargo Center</td>\n",
       "      <td>29,531 / 29,531</td>\n",
       "      <td>$4,273,021</td>\n",
       "    </tr>\n",
       "    <tr>\n",
       "      <th>2</th>\n",
       "      <td>12 September 2018</td>\n",
       "      <td>Philadelphia</td>\n",
       "      <td>United States</td>\n",
       "      <td>Wells Fargo Center</td>\n",
       "      <td>29,531 / 29,531</td>\n",
       "      <td>$4,273,021</td>\n",
       "    </tr>\n",
       "    <tr>\n",
       "      <th>3</th>\n",
       "      <td>15 September 2018</td>\n",
       "      <td>Buffalo</td>\n",
       "      <td>United States</td>\n",
       "      <td>KeyBank Center</td>\n",
       "      <td>15,581 / 15,641</td>\n",
       "      <td>$2,033,001</td>\n",
       "    </tr>\n",
       "    <tr>\n",
       "      <th>4</th>\n",
       "      <td>16 September 2018</td>\n",
       "      <td>University Park</td>\n",
       "      <td>United States</td>\n",
       "      <td>Bryce Jordan Center</td>\n",
       "      <td>12,421 / 12,421</td>\n",
       "      <td>$1,662,468</td>\n",
       "    </tr>\n",
       "  </tbody>\n",
       "</table>\n",
       "</div>"
      ],
      "text/plain": [
       "                       Date                      City  \\\n",
       "  North America[32][33][34] North America[32][33][34]   \n",
       "0          8 September 2018                 Allentown   \n",
       "1         11 September 2018              Philadelphia   \n",
       "2         12 September 2018              Philadelphia   \n",
       "3         15 September 2018                   Buffalo   \n",
       "4         16 September 2018           University Park   \n",
       "\n",
       "                    Country                     Venue  \\\n",
       "  North America[32][33][34] North America[32][33][34]   \n",
       "0             United States                PPL Center   \n",
       "1             United States        Wells Fargo Center   \n",
       "2             United States        Wells Fargo Center   \n",
       "3             United States            KeyBank Center   \n",
       "4             United States       Bryce Jordan Center   \n",
       "\n",
       "                 Attendance                   Revenue  \n",
       "  North America[32][33][34] North America[32][33][34]  \n",
       "0             8,983 / 8,983                $1,492,859  \n",
       "1           29,531 / 29,531                $4,273,021  \n",
       "2           29,531 / 29,531                $4,273,021  \n",
       "3           15,581 / 15,641                $2,033,001  \n",
       "4           12,421 / 12,421                $1,662,468  "
      ]
     },
     "execution_count": 148,
     "metadata": {},
     "output_type": "execute_result"
    }
   ],
   "source": [
    "ej_tours = ej_list[1]\n",
    "ej_tours.head()"
   ]
  },
  {
   "cell_type": "markdown",
   "id": "a0e90bde-9e99-4df7-8ae9-dec7fb0a61f0",
   "metadata": {},
   "source": [
    "So I'd have to do some work to see if this table is busted (I don't think so, but the North America being included in the header is weirding me out. It's a subheader on the page, I just don't know if it would mess up any of the other data), but this seemed a lot more US-heavy looking at the page."
   ]
  },
  {
   "cell_type": "markdown",
   "id": "4193619b-0e44-40a0-9f9e-a498c7494b99",
   "metadata": {},
   "source": [
    "Something I'm concerned about is that this tour ended in the first half of 2023. Would I use the data from 2018-2022 if I was using financial data from 2023? Most of the 2023 dates are outside of the US, anyways. There's a chance I may not use financial data anyways and instead use regional and financial, but still something to think about."
   ]
  },
  {
   "cell_type": "code",
   "execution_count": 149,
   "id": "0243d518-4ad5-4c7d-b815-e5dc73078584",
   "metadata": {},
   "outputs": [
    {
     "name": "stdout",
     "output_type": "stream",
     "text": [
      "Times in US: North America[32][33][34]    163\n",
      "dtype: int64\n",
      "Times Abroad: North America[32][33][34]    176\n",
      "dtype: int64\n"
     ]
    }
   ],
   "source": [
    "count_us_ej = (ej_tours['Country'] == 'United States').sum()\n",
    "print(\"Times in US:\", count_us_ej)\n",
    "\n",
    "count_global_ej = ej_tours['Country'].ne('United States').sum()\n",
    "print(\"Times Abroad:\", count_global_ej)"
   ]
  },
  {
   "cell_type": "markdown",
   "id": "9a96eafd-38ba-4886-8511-56ef5b80ba98",
   "metadata": {},
   "source": [
    "The Eras is #1 on the list of top-grossing tours and Elton John is #3. Since all of the other pages follow the same format I'll skip adding them for now, but as of writing I'm planning on doing the top 5 or maybe top 10 of these datasets."
   ]
  },
  {
   "cell_type": "code",
   "execution_count": 150,
   "id": "97a48548-11b6-43c2-bfcf-f8e198fba897",
   "metadata": {},
   "outputs": [],
   "source": [
    "df = pd.read_excel(r'C:\\Users\\gamec\\Downloads\\q3t3.xlsx')\n",
    "# df.head()"
   ]
  },
  {
   "cell_type": "markdown",
   "id": "e6172f3a-48ce-473c-a0e9-7db625a6779d",
   "metadata": {},
   "source": [
    "Ughh, for readibility (I think) the excel sheet has blank cells on either side of the numbers. Unsure how to remove that logically but I'm sure there's an easy way."
   ]
  },
  {
   "cell_type": "markdown",
   "id": "bb39bb01-29e8-43b2-bbff-2391ced3737f",
   "metadata": {},
   "source": [
    "So, now the idea is to get all of the dataframes in, add the artists/tour to each one, concantenate them into one big dataset(?), remove all the tour stops that aren't from the United States, group them by city, manually add the states for each city (scripted since there are duplicates), and then begin running some data from there. The verdict is out on whether I want to add the region too. We'll see :)"
   ]
  },
  {
   "cell_type": "markdown",
   "id": "00514704-2b01-4617-b496-b704f3b30bfa",
   "metadata": {},
   "source": [
    "Maybe worth noting I haven't paid more than $20 for a concert ticket in 10 years. This is a foreign world to me lol"
   ]
  },
  {
   "cell_type": "markdown",
   "id": "86140834-b294-4713-9146-c506b464746a",
   "metadata": {},
   "source": [
    "# ANALYSIS PLAN"
   ]
  },
  {
   "cell_type": "markdown",
   "id": "8a4ddc22-930c-4051-bc8e-f0375e1df2ff",
   "metadata": {},
   "source": [
    "First, I removed the opening acts from the eras tour chart since we won't need that information and I needed the number of columns to match the rest of the datasets. If you look back, I changed the code for the merged eras tour to not have the years in separate columns by appending the year to each cell and then renaming the column before merging into the merged table. The dates are in different format (Elton John is British), but as of now I'm not planning on using dates so I'm choosing not to worry."
   ]
  },
  {
   "cell_type": "code",
   "execution_count": 151,
   "id": "b1f37d7b-da22-40dc-903c-eadfbb0ffeab",
   "metadata": {},
   "outputs": [
    {
     "data": {
      "text/html": [
       "<div>\n",
       "<style scoped>\n",
       "    .dataframe tbody tr th:only-of-type {\n",
       "        vertical-align: middle;\n",
       "    }\n",
       "\n",
       "    .dataframe tbody tr th {\n",
       "        vertical-align: top;\n",
       "    }\n",
       "\n",
       "    .dataframe thead th {\n",
       "        text-align: right;\n",
       "    }\n",
       "</style>\n",
       "<table border=\"1\" class=\"dataframe\">\n",
       "  <thead>\n",
       "    <tr style=\"text-align: right;\">\n",
       "      <th></th>\n",
       "      <th>Date</th>\n",
       "      <th>City</th>\n",
       "      <th>Country</th>\n",
       "      <th>Venue</th>\n",
       "      <th>Attendance</th>\n",
       "      <th>Revenue</th>\n",
       "    </tr>\n",
       "  </thead>\n",
       "  <tbody>\n",
       "    <tr>\n",
       "      <th>0</th>\n",
       "      <td>March 17 2023</td>\n",
       "      <td>Glendale</td>\n",
       "      <td>United States</td>\n",
       "      <td>State Farm Stadium</td>\n",
       "      <td>—</td>\n",
       "      <td>—</td>\n",
       "    </tr>\n",
       "    <tr>\n",
       "      <th>1</th>\n",
       "      <td>March 18 2023</td>\n",
       "      <td>Glendale</td>\n",
       "      <td>United States</td>\n",
       "      <td>State Farm Stadium</td>\n",
       "      <td>—</td>\n",
       "      <td>—</td>\n",
       "    </tr>\n",
       "    <tr>\n",
       "      <th>2</th>\n",
       "      <td>March 24 2023</td>\n",
       "      <td>Paradise[i]</td>\n",
       "      <td>United States</td>\n",
       "      <td>Allegiant Stadium</td>\n",
       "      <td>—</td>\n",
       "      <td>—</td>\n",
       "    </tr>\n",
       "    <tr>\n",
       "      <th>3</th>\n",
       "      <td>March 25 2023</td>\n",
       "      <td>Paradise[i]</td>\n",
       "      <td>United States</td>\n",
       "      <td>Allegiant Stadium</td>\n",
       "      <td>—</td>\n",
       "      <td>—</td>\n",
       "    </tr>\n",
       "    <tr>\n",
       "      <th>4</th>\n",
       "      <td>March 31 2023</td>\n",
       "      <td>Arlington</td>\n",
       "      <td>United States</td>\n",
       "      <td>AT&amp;T Stadium</td>\n",
       "      <td>—</td>\n",
       "      <td>—</td>\n",
       "    </tr>\n",
       "  </tbody>\n",
       "</table>\n",
       "</div>"
      ],
      "text/plain": [
       "            Date         City        Country               Venue Attendance  \\\n",
       "0  March 17 2023     Glendale  United States  State Farm Stadium          —   \n",
       "1  March 18 2023     Glendale  United States  State Farm Stadium          —   \n",
       "2  March 24 2023  Paradise[i]  United States   Allegiant Stadium          —   \n",
       "3  March 25 2023  Paradise[i]  United States   Allegiant Stadium          —   \n",
       "4  March 31 2023    Arlington  United States        AT&T Stadium          —   \n",
       "\n",
       "  Revenue  \n",
       "0       —  \n",
       "1       —  \n",
       "2       —  \n",
       "3       —  \n",
       "4       —  "
      ]
     },
     "execution_count": 151,
     "metadata": {},
     "output_type": "execute_result"
    }
   ],
   "source": [
    "eras_tour_merged.drop(['Opening acts'], axis=1, inplace=True)\n",
    "eras_tour_merged.head()"
   ]
  },
  {
   "cell_type": "markdown",
   "id": "0462b8c1-60dc-4920-b691-06326383e9d4",
   "metadata": {},
   "source": [
    "I tried a couple different scripts to do this but I kept removing the date and keeping the North America part, so I just did it manually"
   ]
  },
  {
   "cell_type": "code",
   "execution_count": 152,
   "id": "fca3d126-dfb3-41e7-81d9-caeeee4530d7",
   "metadata": {},
   "outputs": [
    {
     "data": {
      "text/html": [
       "<div>\n",
       "<style scoped>\n",
       "    .dataframe tbody tr th:only-of-type {\n",
       "        vertical-align: middle;\n",
       "    }\n",
       "\n",
       "    .dataframe tbody tr th {\n",
       "        vertical-align: top;\n",
       "    }\n",
       "\n",
       "    .dataframe thead th {\n",
       "        text-align: right;\n",
       "    }\n",
       "</style>\n",
       "<table border=\"1\" class=\"dataframe\">\n",
       "  <thead>\n",
       "    <tr style=\"text-align: right;\">\n",
       "      <th></th>\n",
       "      <th>Date</th>\n",
       "      <th>City</th>\n",
       "      <th>Country</th>\n",
       "      <th>Venue</th>\n",
       "      <th>Attendance</th>\n",
       "      <th>Revenue</th>\n",
       "    </tr>\n",
       "  </thead>\n",
       "  <tbody>\n",
       "    <tr>\n",
       "      <th>0</th>\n",
       "      <td>8 September 2018</td>\n",
       "      <td>Allentown</td>\n",
       "      <td>United States</td>\n",
       "      <td>PPL Center</td>\n",
       "      <td>8,983 / 8,983</td>\n",
       "      <td>$1,492,859</td>\n",
       "    </tr>\n",
       "    <tr>\n",
       "      <th>1</th>\n",
       "      <td>11 September 2018</td>\n",
       "      <td>Philadelphia</td>\n",
       "      <td>United States</td>\n",
       "      <td>Wells Fargo Center</td>\n",
       "      <td>29,531 / 29,531</td>\n",
       "      <td>$4,273,021</td>\n",
       "    </tr>\n",
       "    <tr>\n",
       "      <th>2</th>\n",
       "      <td>12 September 2018</td>\n",
       "      <td>Philadelphia</td>\n",
       "      <td>United States</td>\n",
       "      <td>Wells Fargo Center</td>\n",
       "      <td>29,531 / 29,531</td>\n",
       "      <td>$4,273,021</td>\n",
       "    </tr>\n",
       "    <tr>\n",
       "      <th>3</th>\n",
       "      <td>15 September 2018</td>\n",
       "      <td>Buffalo</td>\n",
       "      <td>United States</td>\n",
       "      <td>KeyBank Center</td>\n",
       "      <td>15,581 / 15,641</td>\n",
       "      <td>$2,033,001</td>\n",
       "    </tr>\n",
       "    <tr>\n",
       "      <th>4</th>\n",
       "      <td>16 September 2018</td>\n",
       "      <td>University Park</td>\n",
       "      <td>United States</td>\n",
       "      <td>Bryce Jordan Center</td>\n",
       "      <td>12,421 / 12,421</td>\n",
       "      <td>$1,662,468</td>\n",
       "    </tr>\n",
       "  </tbody>\n",
       "</table>\n",
       "</div>"
      ],
      "text/plain": [
       "                Date             City        Country                Venue  \\\n",
       "0   8 September 2018        Allentown  United States           PPL Center   \n",
       "1  11 September 2018     Philadelphia  United States   Wells Fargo Center   \n",
       "2  12 September 2018     Philadelphia  United States   Wells Fargo Center   \n",
       "3  15 September 2018          Buffalo  United States       KeyBank Center   \n",
       "4  16 September 2018  University Park  United States  Bryce Jordan Center   \n",
       "\n",
       "        Attendance     Revenue  \n",
       "0    8,983 / 8,983  $1,492,859  \n",
       "1  29,531 / 29,531  $4,273,021  \n",
       "2  29,531 / 29,531  $4,273,021  \n",
       "3  15,581 / 15,641  $2,033,001  \n",
       "4  12,421 / 12,421  $1,662,468  "
      ]
     },
     "execution_count": 152,
     "metadata": {},
     "output_type": "execute_result"
    }
   ],
   "source": [
    "ej_tours.columns = ['Date', 'City', 'Country', 'Venue', 'Attendance', 'Revenue']\n",
    "ej_tours.head()"
   ]
  },
  {
   "cell_type": "markdown",
   "id": "5c994a8b-477b-40ea-a97a-015b75dde874",
   "metadata": {},
   "source": [
    "Adding the artist so I can reference it later if needed"
   ]
  },
  {
   "cell_type": "code",
   "execution_count": 154,
   "id": "f4c5a1e3-91d1-4bb8-9167-b77ef528e252",
   "metadata": {},
   "outputs": [],
   "source": [
    "eras_tour_merged['Artist'] = \"Taylor Swift\"\n",
    "ej_tours['Artist'] = \"Elton John\""
   ]
  },
  {
   "cell_type": "markdown",
   "id": "e6165305-53e0-4c11-8c41-8eb7db5be658",
   "metadata": {},
   "source": [
    "(Finally) merging the tables. 'inner' didn't work as a keyword so I used outer, as 'inner' was returning a blank table but I still need columns from both tables (please tell me if this is messing something up haha)"
   ]
  },
  {
   "cell_type": "code",
   "execution_count": 167,
   "id": "c232832b-ed9e-4dc9-93ea-f96d16846340",
   "metadata": {},
   "outputs": [
    {
     "data": {
      "text/html": [
       "<div>\n",
       "<style scoped>\n",
       "    .dataframe tbody tr th:only-of-type {\n",
       "        vertical-align: middle;\n",
       "    }\n",
       "\n",
       "    .dataframe tbody tr th {\n",
       "        vertical-align: top;\n",
       "    }\n",
       "\n",
       "    .dataframe thead th {\n",
       "        text-align: right;\n",
       "    }\n",
       "</style>\n",
       "<table border=\"1\" class=\"dataframe\">\n",
       "  <thead>\n",
       "    <tr style=\"text-align: right;\">\n",
       "      <th></th>\n",
       "      <th>Date</th>\n",
       "      <th>City</th>\n",
       "      <th>Country</th>\n",
       "      <th>Venue</th>\n",
       "      <th>Attendance</th>\n",
       "      <th>Revenue</th>\n",
       "      <th>Artist</th>\n",
       "    </tr>\n",
       "  </thead>\n",
       "  <tbody>\n",
       "    <tr>\n",
       "      <th>0</th>\n",
       "      <td>1 April 2022[s]</td>\n",
       "      <td>Indianapolis</td>\n",
       "      <td>United States</td>\n",
       "      <td>Gainbridge Fieldhouse</td>\n",
       "      <td>14,789 / 14,789</td>\n",
       "      <td>$2,312,462</td>\n",
       "      <td>Elton John</td>\n",
       "    </tr>\n",
       "    <tr>\n",
       "      <th>1</th>\n",
       "      <td>1 December 2018</td>\n",
       "      <td>Atlanta</td>\n",
       "      <td>United States</td>\n",
       "      <td>State Farm Arena</td>\n",
       "      <td>24,920 / 24,920</td>\n",
       "      <td>$3,310,272</td>\n",
       "      <td>Elton John</td>\n",
       "    </tr>\n",
       "    <tr>\n",
       "      <th>2</th>\n",
       "      <td>1 February 2019</td>\n",
       "      <td>Inglewood</td>\n",
       "      <td>United States</td>\n",
       "      <td>The Forum</td>\n",
       "      <td>29,408 / 29,408</td>\n",
       "      <td>$3,973,836</td>\n",
       "      <td>Elton John</td>\n",
       "    </tr>\n",
       "    <tr>\n",
       "      <th>3</th>\n",
       "      <td>1 February 2022</td>\n",
       "      <td>Kansas City</td>\n",
       "      <td>United States</td>\n",
       "      <td>T-Mobile Center</td>\n",
       "      <td>13,741 / 13,741</td>\n",
       "      <td>$2,368,483</td>\n",
       "      <td>Elton John</td>\n",
       "    </tr>\n",
       "    <tr>\n",
       "      <th>4</th>\n",
       "      <td>1 March 2019</td>\n",
       "      <td>Albany</td>\n",
       "      <td>United States</td>\n",
       "      <td>Times Union Center</td>\n",
       "      <td>12,617 / 12,617</td>\n",
       "      <td>$1,629,499</td>\n",
       "      <td>Elton John</td>\n",
       "    </tr>\n",
       "  </tbody>\n",
       "</table>\n",
       "</div>"
      ],
      "text/plain": [
       "              Date          City        Country                  Venue  \\\n",
       "0  1 April 2022[s]  Indianapolis  United States  Gainbridge Fieldhouse   \n",
       "1  1 December 2018       Atlanta  United States       State Farm Arena   \n",
       "2  1 February 2019     Inglewood  United States              The Forum   \n",
       "3  1 February 2022   Kansas City  United States        T-Mobile Center   \n",
       "4     1 March 2019        Albany  United States     Times Union Center   \n",
       "\n",
       "        Attendance     Revenue      Artist  \n",
       "0  14,789 / 14,789  $2,312,462  Elton John  \n",
       "1  24,920 / 24,920  $3,310,272  Elton John  \n",
       "2  29,408 / 29,408  $3,973,836  Elton John  \n",
       "3  13,741 / 13,741  $2,368,483  Elton John  \n",
       "4  12,617 / 12,617  $1,629,499  Elton John  "
      ]
     },
     "execution_count": 167,
     "metadata": {},
     "output_type": "execute_result"
    }
   ],
   "source": [
    "tours_merged = pd.merge(eras_tour_merged, ej_tours, how = 'outer')\n",
    "tours_merged.head()"
   ]
  },
  {
   "cell_type": "markdown",
   "id": "f824e428-b4bb-4710-81d9-f8ade6e78756",
   "metadata": {},
   "source": [
    "I only wanted to look at locations in the United States, and planned on using the .value_counts() function. I couldn't find a way to use that function with a conditional, so I just removed all the values that aren't from the US."
   ]
  },
  {
   "cell_type": "code",
   "execution_count": 169,
   "id": "0ce2c196-e1d1-49a8-9851-1f1ec15ca0d6",
   "metadata": {},
   "outputs": [],
   "source": [
    "tours_merged = tours_merged[tours_merged['Country'] == 'United States']"
   ]
  },
  {
   "cell_type": "markdown",
   "id": "b788d26d-6d0d-49ed-9470-ba3d7079ee7a",
   "metadata": {},
   "source": [
    "Here is where I took the count of the # of times each venue appeared, and then converted that into a dataframe to be mapped. I know the proper way to do this and get rid of international venues would be through masking, but I was having trouble getting the mask to work in tandem with the bar plot, so this is temporary.\n",
    "\n",
    "In the final, I will have assigned states to each city, and will likely be going by state. I don't think it will be necessary to not graph states that were only visited once, but due to the sheer # of titles at the bottom, this time I'm only including cities that have been visited more than three times."
   ]
  },
  {
   "cell_type": "markdown",
   "id": "e9c15c27-3770-4489-ae40-1f97449bfd8e",
   "metadata": {},
   "source": [
    "I am not currently sure if I am going to continue with the venue name or the city name. I am not sure how I could append the city name to this dataframe in order to keep both. I plan on using some kind of script, so I could just append it like I added '2023' to the end of the cells for the Eras tour dates."
   ]
  },
  {
   "cell_type": "code",
   "execution_count": 241,
   "id": "47ebc806-7328-4984-8212-5e72e36a921f",
   "metadata": {},
   "outputs": [],
   "source": [
    "venue_counts = tours_merged['Venue'].value_counts()\n",
    "venue_counts_df = venue_counts.reset_index()\n",
    "\n",
    "venue_counts_df = venue_counts_df[venue_counts_df['count'] > 3]\n",
    "# venue_counts_df"
   ]
  },
  {
   "cell_type": "code",
   "execution_count": 205,
   "id": "809f7cdc-c107-4c8f-a90f-44b262ef2894",
   "metadata": {},
   "outputs": [
    {
     "data": {
      "text/plain": [
       "Index(['Venue', 'count'], dtype='object')"
      ]
     },
     "execution_count": 205,
     "metadata": {},
     "output_type": "execute_result"
    }
   ],
   "source": [
    "venue_counts_df.columns"
   ]
  },
  {
   "cell_type": "code",
   "execution_count": 240,
   "id": "57a0e955-bf2f-4450-9c03-598bea9ac1d9",
   "metadata": {},
   "outputs": [
    {
     "data": {
      "image/png": "[encoded data removed]",
      "text/plain": [
       "<Figure size 3500x500 with 1 Axes>"
      ]
     },
     "metadata": {},
     "output_type": "display_data"
    }
   ],
   "source": [
    "fig1, ax1 = plt.subplots(figsize = (35,5))\n",
    "ax1.bar(venue_counts_df['Venue'], venue_counts_df['count'])\n",
    "\n",
    "plt.show()"
   ]
  },
  {
   "cell_type": "markdown",
   "id": "d4674608-40e1-40d6-8766-00b382d47f03",
   "metadata": {},
   "source": [
    "I think continuing my analysis I will look at the population of each city as well as the arts spending. Of the top five, I was not shocked to see MSG, SoFi, and MetLife (NYC (and New Jersey) and LA) but I was a little shocked to see Gillette stadium - if I was planning a major stadium tour, I would just assume NYC is close enough for people in Boston to take a bus."
   ]
  },
  {
   "cell_type": "markdown",
   "id": "3dc03938-6c5a-43ba-8b8a-d0da640663c9",
   "metadata": {},
   "source": [
    "Once again, for my final project I plan on adding states to each stadium. I will work on that, I just didn't have time for this checkpoint since I have to travel home for Thanksgiving. It would be really cool if I had time to implement a kind of heat map of the cities in my final project, to see where even within the states they are, but the current vision is a chart that graphs the income of a state alongside the # of times a state has been visited."
   ]
  }
 ],
 "metadata": {
  "kernelspec": {
   "display_name": "Python 3 (ipykernel)",
   "language": "python",
   "name": "python3"
  },
  "language_info": {
   "codemirror_mode": {
    "name": "ipython",
    "version": 3
   },
   "file_extension": ".py",
   "mimetype": "text/x-python",
   "name": "python",
   "nbconvert_exporter": "python",
   "pygments_lexer": "ipython3",
   "version": "3.12.4"
  }
 },
 "nbformat": 4,
 "nbformat_minor": 5
}
