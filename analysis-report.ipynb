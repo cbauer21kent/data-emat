{
 "cells": [
  {
   "cell_type": "markdown",
   "id": "c79487f3-b751-488b-bbfe-2f60c2b05508",
   "metadata": {},
   "source": [
    "Carson Bauer<br>\n",
    "11/20/2024<br>\n",
    "Spotify Analysis Report<br>"
   ]
  },
  {
   "cell_type": "code",
   "execution_count": 3,
   "id": "6218adfd-9f5e-4680-91e1-7d1eb9088eba",
   "metadata": {},
   "outputs": [],
   "source": [
    "import urllib\n",
    "import requests\n",
    "import pandas as pd\n",
    "import json\n",
    "import base64\n",
    "from matplotlib import pyplot as plt\n",
    "import numpy as np\n",
    "import statsmodels.formula.api as smf"
   ]
  },
  {
   "cell_type": "code",
   "execution_count": 4,
   "id": "ff5e06c3-2b35-4c75-8d30-0f5443400a8b",
   "metadata": {},
   "outputs": [],
   "source": [
    "def get_session_token(SessionID, SessionKey):\n",
    "    url = 'https://accounts.spotify.com/api/token'\n",
    "    data = {'grant_type':'client_credentials'}\n",
    "    encoded_key = base64.b64encode(str(SessionID + \":\" + SessionKey).\\\n",
    "                                   encode(\"ascii\"))\n",
    "    header = {'Authorization': 'Basic {}'.format(encoded_key.decode(\"ascii\"))}\n",
    "    \n",
    "    response = requests.post(url,\n",
    "                            data = data,\n",
    "                            headers = header)\n",
    "    print(response.status_code)\n",
    "    return response.json()['access_token']"
   ]
  },
  {
   "cell_type": "code",
   "execution_count": 5,
   "id": "cba34c92-d3dd-4672-9a2c-6480a90d7a71",
   "metadata": {},
   "outputs": [],
   "source": [
    "keys = pd.read_csv(r\"C:\\Users\\gamec\\Desktop\\School\\Data in Emat\\Client_ID,Client_Secret.txt\")"
   ]
  },
  {
   "cell_type": "code",
   "execution_count": 6,
   "id": "b26143ee-175d-4ea8-a34a-41d05c402db7",
   "metadata": {},
   "outputs": [
    {
     "name": "stdout",
     "output_type": "stream",
     "text": [
      "200\n"
     ]
    }
   ],
   "source": [
    "access_token = get_session_token(keys['Client_ID'].iloc[0], keys['Client_Secret'].iloc[0])"
   ]
  },
  {
   "cell_type": "code",
   "execution_count": 7,
   "id": "36564f3c-8611-4762-a3f3-17daccf14daf",
   "metadata": {},
   "outputs": [],
   "source": [
    "t_features_ep = 'https://api.spotify.com/v1/audio-features'\n",
    "tracks_ep = 'https://api.spotify.com/v1/tracks/'\n",
    "ab_tracks_ep = 'https://api.spotify.com/v1/albums/{}/tracks'"
   ]
  },
  {
   "cell_type": "code",
   "execution_count": 8,
   "id": "39ba6cf3-4996-4479-96ec-eec8536aae25",
   "metadata": {},
   "outputs": [],
   "source": [
    "def api_call(endpoint_url, api_header):\n",
    "    response = requests.get(endpoint_url, headers = api_header)\n",
    "    print(response.status_code)\n",
    "    return response.json()"
   ]
  },
  {
   "cell_type": "code",
   "execution_count": 9,
   "id": "5730e681-ee22-4ac0-9ce6-8f27dc890859",
   "metadata": {},
   "outputs": [],
   "source": [
    "session_header = {'Authorization': 'Bearer {}'.format(access_token)}"
   ]
  },
  {
   "cell_type": "markdown",
   "id": "f4aa8b67-1559-4268-9d99-1ce3d07c68c9",
   "metadata": {},
   "source": [
    "The two albums I picked are by the same artist, AJJ. I did two albums by the same band because AJJ has been my #1 band for nearly 10 years: there are periods where I don't listen to anything else. I picked these two albums specifically, because I wanted to compare the oldest album (not counting the crappy one they made in high school) and their most recent album. There are sixteen years between the two albums and they changed genres multiple times, so I think there will be a lot of differences between the two."
   ]
  },
  {
   "cell_type": "markdown",
   "id": "66e685ef-2dd1-46c8-b0fd-96a576cfdefa",
   "metadata": {},
   "source": [
    "The oldest album, from 2007, is called \"People Who Can Eat People Are The Luckiest People In The World\" (from now on referred to as \"People\", or the acronym \"PWCEPATLPITW\" because it's a long title). The genre is folk punk, and it's all acoustic, just an acoustic guitar and a cello, and one track with bells. The newest album is called Disposable Everything, released in 2023, and veers towards alternative/rock. A handful of songs still use acoustic gutiar, but they are paired withs synths/studio elements. The album is mostly electric."
   ]
  },
  {
   "cell_type": "markdown",
   "id": "880752aa-039c-45ef-90aa-ea2676cfcb8f",
   "metadata": {},
   "source": [
    "Because of this, I picked the attributes 'acousticness' and 'danceability'. It's my hypothesis that People will rank much higher in acousticness, but Disposable Everything will rank higher in danceability. In my head, because it's more polished it's more danceable. But Spotify measures danceability from \"tempo, rhythm stability, beat strength, and overall regularity\", so I'm not sure how it will fare. Since People is so stripped down/has less instruments, it likely scores higher on the regularity chart, so I'm not 100% confident in my hypothesis, so I'd like to see."
   ]
  },
  {
   "cell_type": "code",
   "execution_count": 10,
   "id": "0a8b2d11-c9c5-4dda-84dd-2a30049bfc59",
   "metadata": {},
   "outputs": [],
   "source": [
    "de_album_id = '0uDWPhORO8SgKok6AuEyAc'\n",
    "ppl_album_id = '7GD68eErLeQn0TCJQ6hjOz'"
   ]
  },
  {
   "cell_type": "code",
   "execution_count": 11,
   "id": "eaba3acd-6cef-4282-b6ee-87f48c76f9c2",
   "metadata": {},
   "outputs": [
    {
     "name": "stdout",
     "output_type": "stream",
     "text": [
      "200\n",
      "200\n"
     ]
    }
   ],
   "source": [
    "de_album_response = api_call(ab_tracks_ep.format(de_album_id), session_header)\n",
    "ppl_album_response = api_call(ab_tracks_ep.format(ppl_album_id), session_header)"
   ]
  },
  {
   "cell_type": "code",
   "execution_count": 12,
   "id": "b9629f3b-bc3a-4de5-a6fb-4013f95ec88a",
   "metadata": {},
   "outputs": [],
   "source": [
    "de_album_df = pd.DataFrame(de_album_response['items'])\n",
    "ppl_album_df = pd.DataFrame(ppl_album_response['items'])"
   ]
  },
  {
   "cell_type": "code",
   "execution_count": 13,
   "id": "46486cca-c399-4849-a025-af87f1e74c18",
   "metadata": {},
   "outputs": [],
   "source": [
    "de_track_ids = ','.join(de_album_df['id'].to_list())\n",
    "ppl_track_ids = ','.join(ppl_album_df['id'].to_list())"
   ]
  },
  {
   "cell_type": "code",
   "execution_count": 14,
   "id": "2e21d364-0c6d-4c76-8ca2-635b3fb13256",
   "metadata": {},
   "outputs": [
    {
     "name": "stdout",
     "output_type": "stream",
     "text": [
      "200\n",
      "200\n"
     ]
    }
   ],
   "source": [
    "de_track_features = api_call(t_features_ep + '?ids={}'.format(de_track_ids), session_header)\n",
    "ppl_track_features = api_call(t_features_ep + '?ids={}'.format(ppl_track_ids), session_header)"
   ]
  },
  {
   "cell_type": "code",
   "execution_count": 15,
   "id": "e212ec2e-41a5-477f-ba4a-20e459a6d577",
   "metadata": {},
   "outputs": [
    {
     "name": "stdout",
     "output_type": "stream",
     "text": [
      "200\n",
      "200\n"
     ]
    }
   ],
   "source": [
    "de_track_info = api_call(tracks_ep + '?market=US&ids={}'.format(de_track_ids), session_header)\n",
    "ppl_track_info = api_call(tracks_ep + '?market=US&ids={}'.format(ppl_track_ids), session_header)"
   ]
  },
  {
   "cell_type": "code",
   "execution_count": 16,
   "id": "ca67d818-fc3a-42a4-8b8a-878c6647d030",
   "metadata": {},
   "outputs": [],
   "source": [
    "de_features_df = pd.DataFrame(de_track_features['audio_features'])\n",
    "ppl_features_df = pd.DataFrame(ppl_track_features['audio_features'])\n",
    "# de_features_df.head()"
   ]
  },
  {
   "cell_type": "code",
   "execution_count": 17,
   "id": "ff54291a-f6ba-41e6-af12-ec22445a5c6d",
   "metadata": {},
   "outputs": [],
   "source": [
    "de_tracks_df = pd.DataFrame(de_track_info['tracks'])\n",
    "ppl_tracks_df = pd.DataFrame(ppl_track_info['tracks'])\n",
    "# de_tracks_df.head()"
   ]
  },
  {
   "cell_type": "code",
   "execution_count": 18,
   "id": "e5adb43a-5853-47f7-bbc8-af036e81ffde",
   "metadata": {},
   "outputs": [],
   "source": [
    "de_merged = pd.merge(de_features_df, de_tracks_df, how = 'inner', on = 'id')\n",
    "ppl_merged = pd.merge(ppl_features_df, ppl_tracks_df, how = 'inner', on = 'id')"
   ]
  },
  {
   "cell_type": "code",
   "execution_count": 19,
   "id": "4e2e6f24-36fc-4b2f-83b4-e6d4706aa908",
   "metadata": {},
   "outputs": [
    {
     "data": {
      "text/plain": [
       "Index(['danceability', 'energy', 'key', 'loudness', 'mode', 'speechiness',\n",
       "       'acousticness', 'instrumentalness', 'liveness', 'valence', 'tempo',\n",
       "       'type_x', 'id', 'uri_x', 'track_href', 'analysis_url', 'duration_ms_x',\n",
       "       'time_signature', 'album', 'artists', 'disc_number', 'duration_ms_y',\n",
       "       'explicit', 'external_ids', 'external_urls', 'href', 'is_local',\n",
       "       'is_playable', 'name', 'popularity', 'preview_url', 'track_number',\n",
       "       'type_y', 'uri_y', 'ARTIST', 'album_name'],\n",
       "      dtype='object')"
      ]
     },
     "execution_count": 19,
     "metadata": {},
     "output_type": "execute_result"
    }
   ],
   "source": [
    "de_merged['ARTIST'] = \"AJJ\"\n",
    "ppl_merged['ARTIST'] = \"AJJ\"\n",
    "\n",
    "de_merged['album_name'] = \"Disposable Everything\"\n",
    "ppl_merged['album_name'] = \"PWCEPATLPITW\"\n",
    "de_merged.columns"
   ]
  },
  {
   "cell_type": "code",
   "execution_count": 20,
   "id": "e8585a86-b1c1-436c-b1e7-bbe19ac58248",
   "metadata": {},
   "outputs": [
    {
     "data": {
      "text/html": [
       "<div>\n",
       "<style scoped>\n",
       "    .dataframe tbody tr th:only-of-type {\n",
       "        vertical-align: middle;\n",
       "    }\n",
       "\n",
       "    .dataframe tbody tr th {\n",
       "        vertical-align: top;\n",
       "    }\n",
       "\n",
       "    .dataframe thead th {\n",
       "        text-align: right;\n",
       "    }\n",
       "</style>\n",
       "<table border=\"1\" class=\"dataframe\">\n",
       "  <thead>\n",
       "    <tr style=\"text-align: right;\">\n",
       "      <th></th>\n",
       "      <th>danceability</th>\n",
       "      <th>energy</th>\n",
       "      <th>key</th>\n",
       "      <th>loudness</th>\n",
       "      <th>mode</th>\n",
       "      <th>speechiness</th>\n",
       "      <th>acousticness</th>\n",
       "      <th>instrumentalness</th>\n",
       "      <th>liveness</th>\n",
       "      <th>valence</th>\n",
       "      <th>...</th>\n",
       "      <th>is_local</th>\n",
       "      <th>is_playable</th>\n",
       "      <th>name</th>\n",
       "      <th>popularity</th>\n",
       "      <th>preview_url</th>\n",
       "      <th>track_number</th>\n",
       "      <th>type_y</th>\n",
       "      <th>uri_y</th>\n",
       "      <th>ARTIST</th>\n",
       "      <th>album_name</th>\n",
       "    </tr>\n",
       "  </thead>\n",
       "  <tbody>\n",
       "    <tr>\n",
       "      <th>0</th>\n",
       "      <td>0.321</td>\n",
       "      <td>0.919</td>\n",
       "      <td>9</td>\n",
       "      <td>-9.205</td>\n",
       "      <td>1</td>\n",
       "      <td>0.0557</td>\n",
       "      <td>0.000149</td>\n",
       "      <td>0.369000</td>\n",
       "      <td>0.225</td>\n",
       "      <td>0.2200</td>\n",
       "      <td>...</td>\n",
       "      <td>False</td>\n",
       "      <td>True</td>\n",
       "      <td>Strawberry (Probably)</td>\n",
       "      <td>28</td>\n",
       "      <td>https://p.scdn.co/mp3-preview/6ff04b2d0b445ab1...</td>\n",
       "      <td>1</td>\n",
       "      <td>track</td>\n",
       "      <td>spotify:track:0QZ10VC3xe0IsUcWBejgtF</td>\n",
       "      <td>AJJ</td>\n",
       "      <td>Disposable Everything</td>\n",
       "    </tr>\n",
       "    <tr>\n",
       "      <th>1</th>\n",
       "      <td>0.633</td>\n",
       "      <td>0.857</td>\n",
       "      <td>7</td>\n",
       "      <td>-7.729</td>\n",
       "      <td>1</td>\n",
       "      <td>0.0602</td>\n",
       "      <td>0.202000</td>\n",
       "      <td>0.000179</td>\n",
       "      <td>0.382</td>\n",
       "      <td>0.9010</td>\n",
       "      <td>...</td>\n",
       "      <td>False</td>\n",
       "      <td>True</td>\n",
       "      <td>Dissonance</td>\n",
       "      <td>32</td>\n",
       "      <td>https://p.scdn.co/mp3-preview/5166e2f96112b2ab...</td>\n",
       "      <td>2</td>\n",
       "      <td>track</td>\n",
       "      <td>spotify:track:7mOD2D8wpU4X5XgZS0dhTA</td>\n",
       "      <td>AJJ</td>\n",
       "      <td>Disposable Everything</td>\n",
       "    </tr>\n",
       "    <tr>\n",
       "      <th>2</th>\n",
       "      <td>0.518</td>\n",
       "      <td>0.413</td>\n",
       "      <td>7</td>\n",
       "      <td>-12.649</td>\n",
       "      <td>1</td>\n",
       "      <td>0.0403</td>\n",
       "      <td>0.080300</td>\n",
       "      <td>0.000116</td>\n",
       "      <td>0.123</td>\n",
       "      <td>0.1030</td>\n",
       "      <td>...</td>\n",
       "      <td>False</td>\n",
       "      <td>True</td>\n",
       "      <td>Moon Valley High</td>\n",
       "      <td>22</td>\n",
       "      <td>https://p.scdn.co/mp3-preview/a5ad9f9f8a092b13...</td>\n",
       "      <td>3</td>\n",
       "      <td>track</td>\n",
       "      <td>spotify:track:1OiBZnLnpQdKWTk0U4OpVL</td>\n",
       "      <td>AJJ</td>\n",
       "      <td>Disposable Everything</td>\n",
       "    </tr>\n",
       "    <tr>\n",
       "      <th>3</th>\n",
       "      <td>0.410</td>\n",
       "      <td>0.931</td>\n",
       "      <td>7</td>\n",
       "      <td>-8.551</td>\n",
       "      <td>1</td>\n",
       "      <td>0.1380</td>\n",
       "      <td>0.037200</td>\n",
       "      <td>0.000000</td>\n",
       "      <td>0.440</td>\n",
       "      <td>0.2570</td>\n",
       "      <td>...</td>\n",
       "      <td>False</td>\n",
       "      <td>True</td>\n",
       "      <td>Death Machine</td>\n",
       "      <td>32</td>\n",
       "      <td>https://p.scdn.co/mp3-preview/b9e6f6ca71abd08c...</td>\n",
       "      <td>4</td>\n",
       "      <td>track</td>\n",
       "      <td>spotify:track:1MTOmUqUo4RD6fEuQqurS6</td>\n",
       "      <td>AJJ</td>\n",
       "      <td>Disposable Everything</td>\n",
       "    </tr>\n",
       "    <tr>\n",
       "      <th>4</th>\n",
       "      <td>0.383</td>\n",
       "      <td>0.312</td>\n",
       "      <td>0</td>\n",
       "      <td>-11.425</td>\n",
       "      <td>1</td>\n",
       "      <td>0.0269</td>\n",
       "      <td>0.361000</td>\n",
       "      <td>0.000063</td>\n",
       "      <td>0.222</td>\n",
       "      <td>0.0885</td>\n",
       "      <td>...</td>\n",
       "      <td>False</td>\n",
       "      <td>True</td>\n",
       "      <td>White Ghosts</td>\n",
       "      <td>23</td>\n",
       "      <td>https://p.scdn.co/mp3-preview/8c26bc4b834d9240...</td>\n",
       "      <td>5</td>\n",
       "      <td>track</td>\n",
       "      <td>spotify:track:5tYum1D7tCVPCNuvWzSmOT</td>\n",
       "      <td>AJJ</td>\n",
       "      <td>Disposable Everything</td>\n",
       "    </tr>\n",
       "  </tbody>\n",
       "</table>\n",
       "<p>5 rows × 36 columns</p>\n",
       "</div>"
      ],
      "text/plain": [
       "   danceability  energy  key  loudness  mode  speechiness  acousticness  \\\n",
       "0         0.321   0.919    9    -9.205     1       0.0557      0.000149   \n",
       "1         0.633   0.857    7    -7.729     1       0.0602      0.202000   \n",
       "2         0.518   0.413    7   -12.649     1       0.0403      0.080300   \n",
       "3         0.410   0.931    7    -8.551     1       0.1380      0.037200   \n",
       "4         0.383   0.312    0   -11.425     1       0.0269      0.361000   \n",
       "\n",
       "   instrumentalness  liveness  valence  ...  is_local is_playable  \\\n",
       "0          0.369000     0.225   0.2200  ...     False        True   \n",
       "1          0.000179     0.382   0.9010  ...     False        True   \n",
       "2          0.000116     0.123   0.1030  ...     False        True   \n",
       "3          0.000000     0.440   0.2570  ...     False        True   \n",
       "4          0.000063     0.222   0.0885  ...     False        True   \n",
       "\n",
       "                    name popularity  \\\n",
       "0  Strawberry (Probably)         28   \n",
       "1             Dissonance         32   \n",
       "2       Moon Valley High         22   \n",
       "3          Death Machine         32   \n",
       "4           White Ghosts         23   \n",
       "\n",
       "                                         preview_url track_number  type_y  \\\n",
       "0  https://p.scdn.co/mp3-preview/6ff04b2d0b445ab1...            1   track   \n",
       "1  https://p.scdn.co/mp3-preview/5166e2f96112b2ab...            2   track   \n",
       "2  https://p.scdn.co/mp3-preview/a5ad9f9f8a092b13...            3   track   \n",
       "3  https://p.scdn.co/mp3-preview/b9e6f6ca71abd08c...            4   track   \n",
       "4  https://p.scdn.co/mp3-preview/8c26bc4b834d9240...            5   track   \n",
       "\n",
       "                                  uri_y ARTIST             album_name  \n",
       "0  spotify:track:0QZ10VC3xe0IsUcWBejgtF    AJJ  Disposable Everything  \n",
       "1  spotify:track:7mOD2D8wpU4X5XgZS0dhTA    AJJ  Disposable Everything  \n",
       "2  spotify:track:1OiBZnLnpQdKWTk0U4OpVL    AJJ  Disposable Everything  \n",
       "3  spotify:track:1MTOmUqUo4RD6fEuQqurS6    AJJ  Disposable Everything  \n",
       "4  spotify:track:5tYum1D7tCVPCNuvWzSmOT    AJJ  Disposable Everything  \n",
       "\n",
       "[5 rows x 36 columns]"
      ]
     },
     "execution_count": 20,
     "metadata": {},
     "output_type": "execute_result"
    }
   ],
   "source": [
    "artist_compare = pd.concat([de_merged, ppl_merged], axis = 0)\n",
    "artist_compare.columns\n",
    "artist_compare.head()"
   ]
  },
  {
   "cell_type": "markdown",
   "id": "08767b14-6978-4582-8412-64f5b1496337",
   "metadata": {},
   "source": [
    "Since the titles are so long, I just set them as variables so I wouldn't have to re-type it all the time. I noticed with the legends that it's still quite long, and I had to make the graphs really wide to compensate, so I considered a second variable to shorten it. For now I think it's okay."
   ]
  },
  {
   "cell_type": "code",
   "execution_count": 21,
   "id": "4f529fab-9a7c-4f52-8340-8467fd8dde5b",
   "metadata": {},
   "outputs": [],
   "source": [
    "de = \"Disposable Everything\"\n",
    "ppl = \"PWCEPATLPITW\""
   ]
  },
  {
   "cell_type": "markdown",
   "id": "dd9d8109-eaea-4d23-bee6-19ec7b06c371",
   "metadata": {},
   "source": [
    "Immediately I'm realizing I was wrong about both of my hypotheses. Overall acousticness is about the same, but there are two significant outliers as seen here. "
   ]
  },
  {
   "cell_type": "code",
   "execution_count": 22,
   "id": "f63328a8-6bbf-4fcd-bdc5-0e689599f132",
   "metadata": {},
   "outputs": [
    {
     "data": {
      "text/html": [
       "<div>\n",
       "<style scoped>\n",
       "    .dataframe tbody tr th:only-of-type {\n",
       "        vertical-align: middle;\n",
       "    }\n",
       "\n",
       "    .dataframe tbody tr th {\n",
       "        vertical-align: top;\n",
       "    }\n",
       "\n",
       "    .dataframe thead th {\n",
       "        text-align: right;\n",
       "    }\n",
       "</style>\n",
       "<table border=\"1\" class=\"dataframe\">\n",
       "  <thead>\n",
       "    <tr style=\"text-align: right;\">\n",
       "      <th></th>\n",
       "      <th>album_name</th>\n",
       "      <th>album_name</th>\n",
       "      <th>acousticness</th>\n",
       "    </tr>\n",
       "  </thead>\n",
       "  <tbody>\n",
       "    <tr>\n",
       "      <th>4</th>\n",
       "      <td>Disposable Everything</td>\n",
       "      <td>Disposable Everything</td>\n",
       "      <td>0.361</td>\n",
       "    </tr>\n",
       "    <tr>\n",
       "      <th>5</th>\n",
       "      <td>Disposable Everything</td>\n",
       "      <td>Disposable Everything</td>\n",
       "      <td>0.747</td>\n",
       "    </tr>\n",
       "    <tr>\n",
       "      <th>13</th>\n",
       "      <td>Disposable Everything</td>\n",
       "      <td>Disposable Everything</td>\n",
       "      <td>0.740</td>\n",
       "    </tr>\n",
       "  </tbody>\n",
       "</table>\n",
       "</div>"
      ],
      "text/plain": [
       "               album_name             album_name  acousticness\n",
       "4   Disposable Everything  Disposable Everything         0.361\n",
       "5   Disposable Everything  Disposable Everything         0.747\n",
       "13  Disposable Everything  Disposable Everything         0.740"
      ]
     },
     "execution_count": 22,
     "metadata": {},
     "output_type": "execute_result"
    }
   ],
   "source": [
    "de_merged[de_merged['acousticness'] > .3][['album_name', 'album_name', 'acousticness']]"
   ]
  },
  {
   "cell_type": "markdown",
   "id": "e690c807-5d1a-429d-8828-374d65f21565",
   "metadata": {},
   "source": [
    "The averages are relatively close as well. Still slightly higher on People, but not high enough to make any judgements from."
   ]
  },
  {
   "cell_type": "code",
   "execution_count": 23,
   "id": "8ed5f6fd-86a4-4597-bb97-7e39e72e898b",
   "metadata": {},
   "outputs": [
    {
     "name": "stdout",
     "output_type": "stream",
     "text": [
      "Average Disposable Everything acousticness:  0.17861792857142858\n",
      "Average People acousticness:  0.2641818181818182\n"
     ]
    }
   ],
   "source": [
    "de_average = sum(de_merged['acousticness']) / len(de_merged['acousticness'])\n",
    "print('Average Disposable Everything acousticness: ', de_average)\n",
    "\n",
    "ppl_average = sum(ppl_merged['acousticness']) / len(ppl_merged['acousticness'])\n",
    "print('Average People acousticness: ', ppl_average)"
   ]
  },
  {
   "cell_type": "markdown",
   "id": "348e6887-6828-4422-a74e-bb459b4b9c82",
   "metadata": {},
   "source": [
    "On danceability as well, even if it was an even split, I really expected Disposable Everything to take the lead. The average danceability of People is higher as well, by almost 0.1."
   ]
  },
  {
   "cell_type": "code",
   "execution_count": 24,
   "id": "2036e559-7106-4161-b9a1-6137c1f964e1",
   "metadata": {},
   "outputs": [
    {
     "name": "stdout",
     "output_type": "stream",
     "text": [
      "Average Disposable Everything danceability:  0.17861792857142858\n",
      "Average People danceability:  0.2641818181818182\n"
     ]
    }
   ],
   "source": [
    "de_average_2 = sum(de_merged['danceability']) / len(de_merged['danceability'])\n",
    "print('Average Disposable Everything danceability: ', de_average)\n",
    "\n",
    "ppl_average_2 = sum(ppl_merged['danceability']) / len(ppl_merged['danceability'])\n",
    "print('Average People danceability: ', ppl_average)"
   ]
  },
  {
   "cell_type": "markdown",
   "id": "2c197848-ae6a-4678-afa6-b1511b9777f7",
   "metadata": {},
   "source": [
    "There's a small enough number of data points in these sets that I felt okay not setting it into a certain amount of bins. Since we aren't looking at the two graphs in comparison to one another, I decided not to use the sharex feature. But since we are looking at the number of songs, I used the sharey, since the two graphs next to each other are a little tough to interpret with different scales."
   ]
  },
  {
   "cell_type": "code",
   "execution_count": 25,
   "id": "9fc29455-08b1-4f33-ab04-299bdcdaf282",
   "metadata": {},
   "outputs": [
    {
     "data": {
      "image/png": "[encoded data removed]",
      "text/plain": [
       "<Figure size 1500x500 with 2 Axes>"
      ]
     },
     "metadata": {},
     "output_type": "display_data"
    }
   ],
   "source": [
    "fig1, ax1 = plt.subplots(1,2, figsize = (15,5), sharey = True)\n",
    "ax1[0].hist(de_merged['acousticness'], alpha = 0.5, color = 'magenta')\n",
    "ax1[0].hist(ppl_merged['acousticness'], alpha = 0.5, color = 'gold')\n",
    "ax1[0].set_xlabel('Acousticness')\n",
    "\n",
    "ax1[1].hist(de_merged['danceability'], alpha = 0.5, color = 'magenta')\n",
    "ax1[1].hist(ppl_merged['danceability'], alpha = 0.5, color = 'gold')\n",
    "ax1[1].set_xlabel('Danceability')\n",
    "\n",
    "fig1.supylabel('# of songs')\n",
    "\n",
    "ax1[0].legend([de, ppl])\n",
    "ax1[1].legend([de, ppl])\n",
    "\n",
    "plt.show()"
   ]
  },
  {
   "cell_type": "markdown",
   "id": "7a695eb0-57bd-4dcc-8241-6274a319f702",
   "metadata": {},
   "source": [
    "You can really see the disparity in acousticness in this graph. Even if there were outliers, I expected all of Disposable Everything to trail relatively behind People. As well, you can see how heavy People is towards the upper scale of danceability."
   ]
  },
  {
   "cell_type": "code",
   "execution_count": 26,
   "id": "9c5e1fce-7481-47ef-bc37-20798fc6e174",
   "metadata": {},
   "outputs": [
    {
     "data": {
      "image/png": "[encoded data removed]",
      "text/plain": [
       "<Figure size 900x300 with 2 Axes>"
      ]
     },
     "metadata": {},
     "output_type": "display_data"
    }
   ],
   "source": [
    "fig2, ax2 = plt.subplots(1,2, figsize = (9,3), sharex = True, sharey= True)\n",
    "ax2[0].scatter(de_merged['danceability'], de_merged['acousticness'], alpha = 0.5, color = 'magenta')\n",
    "ax2[1].scatter(ppl_merged['danceability'], ppl_merged['acousticness'], alpha = 0.5, color = 'gold')\n",
    "\n",
    "ax2[0].set_title(de)\n",
    "ax2[1].set_title(ppl)\n",
    "\n",
    "fig2.supxlabel('Danceability')\n",
    "fig2.supylabel('Acousticness')\n",
    "plt.show()"
   ]
  },
  {
   "cell_type": "markdown",
   "id": "71891449-7313-47e5-bd58-f06c88a88228",
   "metadata": {},
   "source": [
    "Here are the two graphs laid overtop one another. Disposable Everything is (very relatively) homogenous with some extreme outliers, compared to People which is spread throughout the area."
   ]
  },
  {
   "cell_type": "code",
   "execution_count": 27,
   "id": "37f65afd-60aa-4cf4-bf3a-21faccbc0d2a",
   "metadata": {},
   "outputs": [
    {
     "data": {
      "image/png": "[encoded data removed]",
      "text/plain": [
       "<Figure size 640x480 with 1 Axes>"
      ]
     },
     "metadata": {},
     "output_type": "display_data"
    }
   ],
   "source": [
    "fig3, ax3 = plt.subplots()\n",
    "line1 = ax3.scatter(de_merged['danceability'], de_merged['acousticness'], alpha = 0.5, color = 'magenta', label = 'Disposable Everything')\n",
    "line2 = ax3.scatter(ppl_merged['danceability'], ppl_merged['acousticness'], alpha = 0.5, color = 'gold', label = 'PWCEPATLPITW')\n",
    "\n",
    "ax3.legend(handles = [line1, line2])\n",
    "\n",
    "ax3.set_xlabel('Danceability')\n",
    "ax3.set_ylabel('Acousticness')\n",
    "plt.show()"
   ]
  },
  {
   "cell_type": "markdown",
   "id": "2af3b84e-1c21-4e3a-87c8-394935a44a34",
   "metadata": {},
   "source": [
    "They aren't very extreme outliers, but Disposable Everything's outliers are seen here, even with danceability (with less extreme outliers than acousticness). You can also see the relative homogeneity of People's tracks with how low the median in the box. This makes sense with how stripped down the album, it's hard to get extreme variance with only two instruments."
   ]
  },
  {
   "cell_type": "code",
   "execution_count": 28,
   "id": "21049e16-9122-447c-9004-0ffa428daf9b",
   "metadata": {},
   "outputs": [
    {
     "data": {
      "image/png": "[encoded data removed]",
      "text/plain": [
       "<Figure size 640x480 with 1 Axes>"
      ]
     },
     "metadata": {},
     "output_type": "display_data"
    }
   ],
   "source": [
    "de_danceability = de_merged['danceability']\n",
    "ppl_danceability = ppl_merged['danceability']\n",
    "de_xs = [1] * len(de_danceability)\n",
    "ppl_xs = [2] * len(ppl_danceability)\n",
    "de_x_jitter = np.random.uniform(-0.10, .10, len(de_xs))\n",
    "ppl_x_jitter = np.random.uniform(-.10, .10, len(ppl_xs))\n",
    "\n",
    "fig2, ax2 = plt.subplots()\n",
    "ax2.boxplot(de_danceability, positions = [1])\n",
    "ax2.boxplot(ppl_danceability, positions = [2])\n",
    "ax2.scatter(de_xs + de_x_jitter, de_danceability, alpha = .5, color = 'magenta')\n",
    "ax2.scatter(ppl_xs + ppl_x_jitter, ppl_danceability, alpha = .5, color = 'gold')\n",
    "\n",
    "\n",
    "plt.show()"
   ]
  },
  {
   "cell_type": "markdown",
   "id": "421bb4d2-d4d9-4895-a0a9-cf1416abc298",
   "metadata": {},
   "source": [
    "The R value for danceability is so low, it's not really possible to rank an album as significantly more danceable."
   ]
  },
  {
   "cell_type": "code",
   "execution_count": 31,
   "id": "b11accb9-05ca-49df-a74e-9a9372d79421",
   "metadata": {},
   "outputs": [
    {
     "data": {
      "text/html": [
       "<table class=\"simpletable\">\n",
       "<caption>OLS Regression Results</caption>\n",
       "<tr>\n",
       "  <th>Dep. Variable:</th>      <td>danceability</td>   <th>  R-squared:         </th> <td>   0.252</td>\n",
       "</tr>\n",
       "<tr>\n",
       "  <th>Model:</th>                   <td>OLS</td>       <th>  Adj. R-squared:    </th> <td>   0.219</td>\n",
       "</tr>\n",
       "<tr>\n",
       "  <th>Method:</th>             <td>Least Squares</td>  <th>  F-statistic:       </th> <td>   7.737</td>\n",
       "</tr>\n",
       "<tr>\n",
       "  <th>Date:</th>             <td>Fri, 22 Nov 2024</td> <th>  Prob (F-statistic):</th>  <td>0.0106</td> \n",
       "</tr>\n",
       "<tr>\n",
       "  <th>Time:</th>                 <td>23:27:36</td>     <th>  Log-Likelihood:    </th> <td>  24.767</td>\n",
       "</tr>\n",
       "<tr>\n",
       "  <th>No. Observations:</th>      <td>    25</td>      <th>  AIC:               </th> <td>  -45.53</td>\n",
       "</tr>\n",
       "<tr>\n",
       "  <th>Df Residuals:</th>          <td>    23</td>      <th>  BIC:               </th> <td>  -43.10</td>\n",
       "</tr>\n",
       "<tr>\n",
       "  <th>Df Model:</th>              <td>     1</td>      <th>                     </th>     <td> </td>   \n",
       "</tr>\n",
       "<tr>\n",
       "  <th>Covariance Type:</th>      <td>nonrobust</td>    <th>                     </th>     <td> </td>   \n",
       "</tr>\n",
       "</table>\n",
       "<table class=\"simpletable\">\n",
       "<tr>\n",
       "               <td></td>                 <th>coef</th>     <th>std err</th>      <th>t</th>      <th>P>|t|</th>  <th>[0.025</th>    <th>0.975]</th>  \n",
       "</tr>\n",
       "<tr>\n",
       "  <th>Intercept</th>                  <td>    0.4339</td> <td>    0.025</td> <td>   17.332</td> <td> 0.000</td> <td>    0.382</td> <td>    0.486</td>\n",
       "</tr>\n",
       "<tr>\n",
       "  <th>album_name[T.PWCEPATLPITW]</th> <td>    0.1050</td> <td>    0.038</td> <td>    2.781</td> <td> 0.011</td> <td>    0.027</td> <td>    0.183</td>\n",
       "</tr>\n",
       "</table>\n",
       "<table class=\"simpletable\">\n",
       "<tr>\n",
       "  <th>Omnibus:</th>       <td> 0.630</td> <th>  Durbin-Watson:     </th> <td>   2.285</td>\n",
       "</tr>\n",
       "<tr>\n",
       "  <th>Prob(Omnibus):</th> <td> 0.730</td> <th>  Jarque-Bera (JB):  </th> <td>   0.711</td>\n",
       "</tr>\n",
       "<tr>\n",
       "  <th>Skew:</th>          <td> 0.283</td> <th>  Prob(JB):          </th> <td>   0.701</td>\n",
       "</tr>\n",
       "<tr>\n",
       "  <th>Kurtosis:</th>      <td> 2.399</td> <th>  Cond. No.          </th> <td>    2.50</td>\n",
       "</tr>\n",
       "</table><br/><br/>Notes:<br/>[1] Standard Errors assume that the covariance matrix of the errors is correctly specified."
      ],
      "text/latex": [
       "\\begin{center}\n",
       "\\begin{tabular}{lclc}\n",
       "\\toprule\n",
       "\\textbf{Dep. Variable:}              &   danceability   & \\textbf{  R-squared:         } &     0.252   \\\\\n",
       "\\textbf{Model:}                      &       OLS        & \\textbf{  Adj. R-squared:    } &     0.219   \\\\\n",
       "\\textbf{Method:}                     &  Least Squares   & \\textbf{  F-statistic:       } &     7.737   \\\\\n",
       "\\textbf{Date:}                       & Fri, 22 Nov 2024 & \\textbf{  Prob (F-statistic):} &   0.0106    \\\\\n",
       "\\textbf{Time:}                       &     23:27:36     & \\textbf{  Log-Likelihood:    } &    24.767   \\\\\n",
       "\\textbf{No. Observations:}           &          25      & \\textbf{  AIC:               } &    -45.53   \\\\\n",
       "\\textbf{Df Residuals:}               &          23      & \\textbf{  BIC:               } &    -43.10   \\\\\n",
       "\\textbf{Df Model:}                   &           1      & \\textbf{                     } &             \\\\\n",
       "\\textbf{Covariance Type:}            &    nonrobust     & \\textbf{                     } &             \\\\\n",
       "\\bottomrule\n",
       "\\end{tabular}\n",
       "\\begin{tabular}{lcccccc}\n",
       "                                     & \\textbf{coef} & \\textbf{std err} & \\textbf{t} & \\textbf{P$> |$t$|$} & \\textbf{[0.025} & \\textbf{0.975]}  \\\\\n",
       "\\midrule\n",
       "\\textbf{Intercept}                   &       0.4339  &        0.025     &    17.332  &         0.000        &        0.382    &        0.486     \\\\\n",
       "\\textbf{album\\_name[T.PWCEPATLPITW]} &       0.1050  &        0.038     &     2.781  &         0.011        &        0.027    &        0.183     \\\\\n",
       "\\bottomrule\n",
       "\\end{tabular}\n",
       "\\begin{tabular}{lclc}\n",
       "\\textbf{Omnibus:}       &  0.630 & \\textbf{  Durbin-Watson:     } &    2.285  \\\\\n",
       "\\textbf{Prob(Omnibus):} &  0.730 & \\textbf{  Jarque-Bera (JB):  } &    0.711  \\\\\n",
       "\\textbf{Skew:}          &  0.283 & \\textbf{  Prob(JB):          } &    0.701  \\\\\n",
       "\\textbf{Kurtosis:}      &  2.399 & \\textbf{  Cond. No.          } &     2.50  \\\\\n",
       "\\bottomrule\n",
       "\\end{tabular}\n",
       "%\\caption{OLS Regression Results}\n",
       "\\end{center}\n",
       "\n",
       "Notes: \\newline\n",
       " [1] Standard Errors assume that the covariance matrix of the errors is correctly specified."
      ],
      "text/plain": [
       "<class 'statsmodels.iolib.summary.Summary'>\n",
       "\"\"\"\n",
       "                            OLS Regression Results                            \n",
       "==============================================================================\n",
       "Dep. Variable:           danceability   R-squared:                       0.252\n",
       "Model:                            OLS   Adj. R-squared:                  0.219\n",
       "Method:                 Least Squares   F-statistic:                     7.737\n",
       "Date:                Fri, 22 Nov 2024   Prob (F-statistic):             0.0106\n",
       "Time:                        23:27:36   Log-Likelihood:                 24.767\n",
       "No. Observations:                  25   AIC:                            -45.53\n",
       "Df Residuals:                      23   BIC:                            -43.10\n",
       "Df Model:                           1                                         \n",
       "Covariance Type:            nonrobust                                         \n",
       "==============================================================================================\n",
       "                                 coef    std err          t      P>|t|      [0.025      0.975]\n",
       "----------------------------------------------------------------------------------------------\n",
       "Intercept                      0.4339      0.025     17.332      0.000       0.382       0.486\n",
       "album_name[T.PWCEPATLPITW]     0.1050      0.038      2.781      0.011       0.027       0.183\n",
       "==============================================================================\n",
       "Omnibus:                        0.630   Durbin-Watson:                   2.285\n",
       "Prob(Omnibus):                  0.730   Jarque-Bera (JB):                0.711\n",
       "Skew:                           0.283   Prob(JB):                        0.701\n",
       "Kurtosis:                       2.399   Cond. No.                         2.50\n",
       "==============================================================================\n",
       "\n",
       "Notes:\n",
       "[1] Standard Errors assume that the covariance matrix of the errors is correctly specified.\n",
       "\"\"\""
      ]
     },
     "execution_count": 31,
     "metadata": {},
     "output_type": "execute_result"
    }
   ],
   "source": [
    "model1 = smf.ols('danceability ~ album_name', data = artist_compare).fit()\n",
    "model1.summary()"
   ]
  },
  {
   "cell_type": "markdown",
   "id": "66dba4f4-14d4-4f46-b4d9-cf4287ae8b08",
   "metadata": {},
   "source": [
    "This R value is shockingly low for this table as as well, I'm really surprised. I expected there to be at least a slight amount of correlation between album and value."
   ]
  },
  {
   "cell_type": "code",
   "execution_count": 30,
   "id": "b2760b16-54f3-4e75-8c5d-14f374c50079",
   "metadata": {},
   "outputs": [
    {
     "data": {
      "text/html": [
       "<table class=\"simpletable\">\n",
       "<caption>OLS Regression Results</caption>\n",
       "<tr>\n",
       "  <th>Dep. Variable:</th>      <td>acousticness</td>   <th>  R-squared:         </th> <td>   0.040</td>\n",
       "</tr>\n",
       "<tr>\n",
       "  <th>Model:</th>                   <td>OLS</td>       <th>  Adj. R-squared:    </th> <td>  -0.002</td>\n",
       "</tr>\n",
       "<tr>\n",
       "  <th>Method:</th>             <td>Least Squares</td>  <th>  F-statistic:       </th> <td>  0.9568</td>\n",
       "</tr>\n",
       "<tr>\n",
       "  <th>Date:</th>             <td>Fri, 22 Nov 2024</td> <th>  Prob (F-statistic):</th>  <td> 0.338</td> \n",
       "</tr>\n",
       "<tr>\n",
       "  <th>Time:</th>                 <td>23:27:25</td>     <th>  Log-Likelihood:    </th> <td>  3.7526</td>\n",
       "</tr>\n",
       "<tr>\n",
       "  <th>No. Observations:</th>      <td>    25</td>      <th>  AIC:               </th> <td>  -3.505</td>\n",
       "</tr>\n",
       "<tr>\n",
       "  <th>Df Residuals:</th>          <td>    23</td>      <th>  BIC:               </th> <td>  -1.068</td>\n",
       "</tr>\n",
       "<tr>\n",
       "  <th>Df Model:</th>              <td>     1</td>      <th>                     </th>     <td> </td>   \n",
       "</tr>\n",
       "<tr>\n",
       "  <th>Covariance Type:</th>      <td>nonrobust</td>    <th>                     </th>     <td> </td>   \n",
       "</tr>\n",
       "</table>\n",
       "<table class=\"simpletable\">\n",
       "<tr>\n",
       "               <td></td>                 <th>coef</th>     <th>std err</th>      <th>t</th>      <th>P>|t|</th>  <th>[0.025</th>    <th>0.975]</th>  \n",
       "</tr>\n",
       "<tr>\n",
       "  <th>Intercept</th>                  <td>    0.1786</td> <td>    0.058</td> <td>    3.078</td> <td> 0.005</td> <td>    0.059</td> <td>    0.299</td>\n",
       "</tr>\n",
       "<tr>\n",
       "  <th>album_name[T.PWCEPATLPITW]</th> <td>    0.0856</td> <td>    0.087</td> <td>    0.978</td> <td> 0.338</td> <td>   -0.095</td> <td>    0.267</td>\n",
       "</tr>\n",
       "</table>\n",
       "<table class=\"simpletable\">\n",
       "<tr>\n",
       "  <th>Omnibus:</th>       <td>14.302</td> <th>  Durbin-Watson:     </th> <td>   1.922</td>\n",
       "</tr>\n",
       "<tr>\n",
       "  <th>Prob(Omnibus):</th> <td> 0.001</td> <th>  Jarque-Bera (JB):  </th> <td>  13.594</td>\n",
       "</tr>\n",
       "<tr>\n",
       "  <th>Skew:</th>          <td> 1.596</td> <th>  Prob(JB):          </th> <td> 0.00112</td>\n",
       "</tr>\n",
       "<tr>\n",
       "  <th>Kurtosis:</th>      <td> 4.690</td> <th>  Cond. No.          </th> <td>    2.50</td>\n",
       "</tr>\n",
       "</table><br/><br/>Notes:<br/>[1] Standard Errors assume that the covariance matrix of the errors is correctly specified."
      ],
      "text/latex": [
       "\\begin{center}\n",
       "\\begin{tabular}{lclc}\n",
       "\\toprule\n",
       "\\textbf{Dep. Variable:}              &   acousticness   & \\textbf{  R-squared:         } &     0.040   \\\\\n",
       "\\textbf{Model:}                      &       OLS        & \\textbf{  Adj. R-squared:    } &    -0.002   \\\\\n",
       "\\textbf{Method:}                     &  Least Squares   & \\textbf{  F-statistic:       } &    0.9568   \\\\\n",
       "\\textbf{Date:}                       & Fri, 22 Nov 2024 & \\textbf{  Prob (F-statistic):} &    0.338    \\\\\n",
       "\\textbf{Time:}                       &     23:27:25     & \\textbf{  Log-Likelihood:    } &    3.7526   \\\\\n",
       "\\textbf{No. Observations:}           &          25      & \\textbf{  AIC:               } &    -3.505   \\\\\n",
       "\\textbf{Df Residuals:}               &          23      & \\textbf{  BIC:               } &    -1.068   \\\\\n",
       "\\textbf{Df Model:}                   &           1      & \\textbf{                     } &             \\\\\n",
       "\\textbf{Covariance Type:}            &    nonrobust     & \\textbf{                     } &             \\\\\n",
       "\\bottomrule\n",
       "\\end{tabular}\n",
       "\\begin{tabular}{lcccccc}\n",
       "                                     & \\textbf{coef} & \\textbf{std err} & \\textbf{t} & \\textbf{P$> |$t$|$} & \\textbf{[0.025} & \\textbf{0.975]}  \\\\\n",
       "\\midrule\n",
       "\\textbf{Intercept}                   &       0.1786  &        0.058     &     3.078  &         0.005        &        0.059    &        0.299     \\\\\n",
       "\\textbf{album\\_name[T.PWCEPATLPITW]} &       0.0856  &        0.087     &     0.978  &         0.338        &       -0.095    &        0.267     \\\\\n",
       "\\bottomrule\n",
       "\\end{tabular}\n",
       "\\begin{tabular}{lclc}\n",
       "\\textbf{Omnibus:}       & 14.302 & \\textbf{  Durbin-Watson:     } &    1.922  \\\\\n",
       "\\textbf{Prob(Omnibus):} &  0.001 & \\textbf{  Jarque-Bera (JB):  } &   13.594  \\\\\n",
       "\\textbf{Skew:}          &  1.596 & \\textbf{  Prob(JB):          } &  0.00112  \\\\\n",
       "\\textbf{Kurtosis:}      &  4.690 & \\textbf{  Cond. No.          } &     2.50  \\\\\n",
       "\\bottomrule\n",
       "\\end{tabular}\n",
       "%\\caption{OLS Regression Results}\n",
       "\\end{center}\n",
       "\n",
       "Notes: \\newline\n",
       " [1] Standard Errors assume that the covariance matrix of the errors is correctly specified."
      ],
      "text/plain": [
       "<class 'statsmodels.iolib.summary.Summary'>\n",
       "\"\"\"\n",
       "                            OLS Regression Results                            \n",
       "==============================================================================\n",
       "Dep. Variable:           acousticness   R-squared:                       0.040\n",
       "Model:                            OLS   Adj. R-squared:                 -0.002\n",
       "Method:                 Least Squares   F-statistic:                    0.9568\n",
       "Date:                Fri, 22 Nov 2024   Prob (F-statistic):              0.338\n",
       "Time:                        23:27:25   Log-Likelihood:                 3.7526\n",
       "No. Observations:                  25   AIC:                            -3.505\n",
       "Df Residuals:                      23   BIC:                            -1.068\n",
       "Df Model:                           1                                         \n",
       "Covariance Type:            nonrobust                                         \n",
       "==============================================================================================\n",
       "                                 coef    std err          t      P>|t|      [0.025      0.975]\n",
       "----------------------------------------------------------------------------------------------\n",
       "Intercept                      0.1786      0.058      3.078      0.005       0.059       0.299\n",
       "album_name[T.PWCEPATLPITW]     0.0856      0.087      0.978      0.338      -0.095       0.267\n",
       "==============================================================================\n",
       "Omnibus:                       14.302   Durbin-Watson:                   1.922\n",
       "Prob(Omnibus):                  0.001   Jarque-Bera (JB):               13.594\n",
       "Skew:                           1.596   Prob(JB):                      0.00112\n",
       "Kurtosis:                       4.690   Cond. No.                         2.50\n",
       "==============================================================================\n",
       "\n",
       "Notes:\n",
       "[1] Standard Errors assume that the covariance matrix of the errors is correctly specified.\n",
       "\"\"\""
      ]
     },
     "execution_count": 30,
     "metadata": {},
     "output_type": "execute_result"
    }
   ],
   "source": [
    "model1 = smf.ols('acousticness ~ album_name', data = artist_compare).fit()\n",
    "model1.summary()"
   ]
  },
  {
   "cell_type": "markdown",
   "id": "8ab66e9a-9705-4fa4-8eb5-fc5f8e89363d",
   "metadata": {},
   "source": [
    "I'm really surprised with the data. I expected People to be very acoustic and not very danceable, but it turns out the values were mostly equal across albums. I found it interesting as well that most of the values were 0.5 or under, and it was only outliers who went above that number. I think it's really interesting how a person's perception is so different from the algorithms Spotify uses to rate music, and how that could affect the playlists that Spotify automatically generates. I would want to listen to albums that Spotify ranks as very acoustic and not very danceable to compare it to People, because it would be interesting to see what it actually sounds like. Overall, my hypotheses were incorrect."
   ]
  }
 ],
 "metadata": {
  "kernelspec": {
   "display_name": "Python 3 (ipykernel)",
   "language": "python",
   "name": "python3"
  },
  "language_info": {
   "codemirror_mode": {
    "name": "ipython",
    "version": 3
   },
   "file_extension": ".py",
   "mimetype": "text/x-python",
   "name": "python",
   "nbconvert_exporter": "python",
   "pygments_lexer": "ipython3",
   "version": "3.12.4"
  }
 },
 "nbformat": 4,
 "nbformat_minor": 5
}
