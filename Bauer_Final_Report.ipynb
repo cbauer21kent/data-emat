{
 "cells": [
  {
   "cell_type": "markdown",
   "id": "298157d1-cbdb-4157-8a27-800e5d6e7185",
   "metadata": {},
   "source": [
    "# __Where's the market? An analysis of the most popular American cities for touring musicians to visit__"
   ]
  },
  {
   "cell_type": "markdown",
   "id": "8dfc53ee-0921-4b98-8269-ab45a4324b40",
   "metadata": {},
   "source": [
    "### Carson Bauer"
   ]
  },
  {
   "cell_type": "markdown",
   "id": "96f3e1d5-de06-4d8e-b51f-2bdebf495d73",
   "metadata": {},
   "source": [
    "![Taylor Swift Eras Tour 2023 American dates poster](https://i.redd.it/just-announced-official-poster-dates-for-taylor-swifts-v0-m8xhk61t2cx91.jpg?width=1080&format=pjpg&auto=webp&s=eadf1c32a6d62db422d1817c6f02e039bd8cdd34)"
   ]
  },
  {
   "cell_type": "markdown",
   "id": "e457369c-4003-4219-80ca-ec0b6ed8d686",
   "metadata": {},
   "source": [
    "When a musician announces an upcoming tour on social media, it's inevitable that all of the comments will only be complaints that they aren't traveling to the commenter's city. Of course, musicians only want to travel to cities where there's a large market and a high chance of recouping their expenses. But, outside of NYC and LA: where's the money? This project serves to analyze the top-visited locations in America by the most profitable tours to find trends and understand why musicians may make these decisions. Through this project, I want to see whether these fan complaints are accurate, or if people are noticiing unfounded trends. If these trends are accurate, I want to see why these states are visited so often."
   ]
  },
  {
   "cell_type": "markdown",
   "id": "4f730a1e-2b5a-4a2a-bb16-01fc362445fe",
   "metadata": {},
   "source": [
    "I want to look at the times each state was visited, the number of individual states that were visited within each state, as well as the total revenue and attendance broken down by state. My hypothesis is that the more cities visited per state, the higher the revenue would be. More cities implies a larger market, and could mean higher ticket prices. I also hypothesize that New York and California will be at the top of the charts."
   ]
  },
  {
   "cell_type": "markdown",
   "id": "27674194-1814-47ed-808f-3450ec3e5550",
   "metadata": {},
   "source": [
    "## Data Collection"
   ]
  },
  {
   "cell_type": "code",
   "execution_count": 2,
   "id": "c7114923-3a1c-422a-82ae-c0211cc37b4e",
   "metadata": {},
   "outputs": [],
   "source": [
    "import pandas as pd\n",
    "import json as js\n",
    "import requests\n",
    "from io import StringIO\n",
    "from matplotlib import pyplot as plt\n",
    "import numpy as np\n",
    "import re\n",
    "\n",
    "pd.set_option('display.float_format', '{:.0f}'.format) "
   ]
  },
  {
   "cell_type": "markdown",
   "id": "503bd38a-2b71-4684-8626-678c00b3d4e1",
   "metadata": {},
   "source": [
    "For this project, I am using [this Wikipedia page](https://en.wikipedia.org/wiki/List_of_highest-grossing_concert_tours) that details the top 20 highest-grossing tours of all time. I am taking the top five tours from this list to analyze. Within each Wikipedia page, the data is cited from Pollstar, a trade publication for the live music industry. I could not access the raw Pollstar data because it was under a paywall. The Pollstar data is used for investors to see, as well as for tour managers to look at to make decisions about their own musicians."
   ]
  },
  {
   "cell_type": "markdown",
   "id": "3be3a9e7-ac4f-4979-9150-2bc5da10ac4c",
   "metadata": {},
   "source": [
    "Within these Wikipedia pages, the Eras Tour (#1 on the list) does not include data for attendance or gross broken down by show like the other tours do. So I include the 6th tour on this list (Love On Tour) to supplement the missing data and give me more to work with."
   ]
  },
  {
   "cell_type": "code",
   "execution_count": 3,
   "id": "ea2f7984-fe5b-4e16-9ba0-bda4dfd7cc82",
   "metadata": {},
   "outputs": [
    {
     "data": {
      "text/html": [
       "<div>\n",
       "<style scoped>\n",
       "    .dataframe tbody tr th:only-of-type {\n",
       "        vertical-align: middle;\n",
       "    }\n",
       "\n",
       "    .dataframe tbody tr th {\n",
       "        vertical-align: top;\n",
       "    }\n",
       "\n",
       "    .dataframe thead th {\n",
       "        text-align: right;\n",
       "    }\n",
       "</style>\n",
       "<table border=\"1\" class=\"dataframe\">\n",
       "  <thead>\n",
       "    <tr style=\"text-align: right;\">\n",
       "      <th></th>\n",
       "      <th>Rank</th>\n",
       "      <th>Peak</th>\n",
       "      <th>Actual gross</th>\n",
       "      <th>Adjusted gross (in 2023 dollars)</th>\n",
       "      <th>Artist</th>\n",
       "      <th>Tour title</th>\n",
       "      <th>Year(s)</th>\n",
       "      <th>Shows</th>\n",
       "      <th>Average gross</th>\n",
       "      <th>Ref.</th>\n",
       "    </tr>\n",
       "  </thead>\n",
       "  <tbody>\n",
       "    <tr>\n",
       "      <th>0</th>\n",
       "      <td>1</td>\n",
       "      <td>1</td>\n",
       "      <td>$2,077,618,725</td>\n",
       "      <td>$2,077,618,725</td>\n",
       "      <td>Taylor Swift</td>\n",
       "      <td>The Eras Tour</td>\n",
       "      <td>2023–2024</td>\n",
       "      <td>149</td>\n",
       "      <td>$13,943,750</td>\n",
       "      <td>[9]</td>\n",
       "    </tr>\n",
       "    <tr>\n",
       "      <th>1</th>\n",
       "      <td>2</td>\n",
       "      <td>1</td>\n",
       "      <td>$1,144,588,329</td>\n",
       "      <td>$1,144,588,329</td>\n",
       "      <td>Coldplay</td>\n",
       "      <td>Music of the Spheres World Tour †</td>\n",
       "      <td>2022–2025</td>\n",
       "      <td>175</td>\n",
       "      <td>$6,540,505</td>\n",
       "      <td>[8]</td>\n",
       "    </tr>\n",
       "    <tr>\n",
       "      <th>2</th>\n",
       "      <td>3</td>\n",
       "      <td>1</td>\n",
       "      <td>$939,100,000</td>\n",
       "      <td>$939,100,000</td>\n",
       "      <td>Elton John</td>\n",
       "      <td>Farewell Yellow Brick Road</td>\n",
       "      <td>2018–2023</td>\n",
       "      <td>330</td>\n",
       "      <td>$2,845,758</td>\n",
       "      <td>[11]</td>\n",
       "    </tr>\n",
       "    <tr>\n",
       "      <th>3</th>\n",
       "      <td>4</td>\n",
       "      <td>1</td>\n",
       "      <td>$776,200,000</td>\n",
       "      <td>$925,014,604</td>\n",
       "      <td>Ed Sheeran</td>\n",
       "      <td>÷ Tour</td>\n",
       "      <td>2017–2019</td>\n",
       "      <td>255</td>\n",
       "      <td>$3,043,922</td>\n",
       "      <td>[12]</td>\n",
       "    </tr>\n",
       "    <tr>\n",
       "      <th>4</th>\n",
       "      <td>5</td>\n",
       "      <td>1</td>\n",
       "      <td>$736,421,586</td>\n",
       "      <td>$997,437,284</td>\n",
       "      <td>U2</td>\n",
       "      <td>360° Tour</td>\n",
       "      <td>2009–2011</td>\n",
       "      <td>110</td>\n",
       "      <td>$6,694,742</td>\n",
       "      <td>[13]</td>\n",
       "    </tr>\n",
       "    <tr>\n",
       "      <th>5</th>\n",
       "      <td>6</td>\n",
       "      <td>4</td>\n",
       "      <td>$617,325,000</td>\n",
       "      <td>$617,325,000</td>\n",
       "      <td>Harry Styles</td>\n",
       "      <td>Love On Tour</td>\n",
       "      <td>2021–2023</td>\n",
       "      <td>169</td>\n",
       "      <td>$3,652,811</td>\n",
       "      <td>[14]</td>\n",
       "    </tr>\n",
       "  </tbody>\n",
       "</table>\n",
       "</div>"
      ],
      "text/plain": [
       "   Rank  Peak    Actual gross Adjusted gross (in 2023 dollars)        Artist  \\\n",
       "0     1     1  $2,077,618,725                   $2,077,618,725  Taylor Swift   \n",
       "1     2     1  $1,144,588,329                   $1,144,588,329      Coldplay   \n",
       "2     3     1    $939,100,000                     $939,100,000    Elton John   \n",
       "3     4     1    $776,200,000                     $925,014,604    Ed Sheeran   \n",
       "4     5     1    $736,421,586                     $997,437,284            U2   \n",
       "5     6     4    $617,325,000                     $617,325,000  Harry Styles   \n",
       "\n",
       "                          Tour title    Year(s)  Shows Average gross  Ref.  \n",
       "0                      The Eras Tour  2023–2024    149   $13,943,750   [9]  \n",
       "1  Music of the Spheres World Tour †  2022–2025    175    $6,540,505   [8]  \n",
       "2         Farewell Yellow Brick Road  2018–2023    330    $2,845,758  [11]  \n",
       "3                             ÷ Tour  2017–2019    255    $3,043,922  [12]  \n",
       "4                          360° Tour  2009–2011    110    $6,694,742  [13]  \n",
       "5                       Love On Tour  2021–2023    169    $3,652,811  [14]  "
      ]
     },
     "execution_count": 3,
     "metadata": {},
     "output_type": "execute_result"
    }
   ],
   "source": [
    "top_tours = 'https://en.wikipedia.org/wiki/List_of_highest-grossing_concert_tours'\n",
    "response1 = requests.get(top_tours)\n",
    "top_tours_list = pd.read_html(StringIO(response1.text))\n",
    "top_tours_list[1].head(6)"
   ]
  },
  {
   "cell_type": "markdown",
   "id": "583ccc4d-c344-4a1a-9308-08ff644ba714",
   "metadata": {},
   "source": [
    "From here, I go to the individual page of each tour and scrape the table that contains the dates, cities, and venues of each stop on the tour."
   ]
  },
  {
   "cell_type": "markdown",
   "id": "ad2adf36-e68b-4ce6-8a08-68534c69b0a1",
   "metadata": {},
   "source": [
    "_Taylor Swift_"
   ]
  },
  {
   "cell_type": "code",
   "execution_count": 4,
   "id": "711e37ef-f1c7-49e1-927e-8990ccf214e4",
   "metadata": {},
   "outputs": [],
   "source": [
    "eras_tour = 'https://en.wikipedia.org/wiki/The_Eras_Tour#:~:text=Long%20Story%20Short%22-,Tour%20dates,-List%20of%202023'"
   ]
  },
  {
   "cell_type": "code",
   "execution_count": 5,
   "id": "f2b5fa14-900b-4a58-867e-7093051cd3c5",
   "metadata": {},
   "outputs": [],
   "source": [
    "response2 = requests.get(eras_tour)\n",
    "# response2.status_code\n",
    "eras_tour_list = pd.read_html(StringIO(response2.text))\n",
    "# type(eras_tour_list)"
   ]
  },
  {
   "cell_type": "markdown",
   "id": "5e26856a-4916-4761-a811-fbd396db38dc",
   "metadata": {},
   "source": [
    "Here is an excerpt of the raw table as extracted from Wikipedia. Other tours include numbers for Attendance and Revenue for most shows, and the Eras Tour is an outlier."
   ]
  },
  {
   "cell_type": "code",
   "execution_count": 6,
   "id": "75e466d0-d418-4c2e-a51d-806cc49dc749",
   "metadata": {},
   "outputs": [
    {
     "data": {
      "text/html": [
       "<div>\n",
       "<style scoped>\n",
       "    .dataframe tbody tr th:only-of-type {\n",
       "        vertical-align: middle;\n",
       "    }\n",
       "\n",
       "    .dataframe tbody tr th {\n",
       "        vertical-align: top;\n",
       "    }\n",
       "\n",
       "    .dataframe thead th {\n",
       "        text-align: right;\n",
       "    }\n",
       "</style>\n",
       "<table border=\"1\" class=\"dataframe\">\n",
       "  <thead>\n",
       "    <tr style=\"text-align: right;\">\n",
       "      <th></th>\n",
       "      <th>Date (2023)</th>\n",
       "      <th>City</th>\n",
       "      <th>Country</th>\n",
       "      <th>Venue</th>\n",
       "      <th>Opening acts</th>\n",
       "      <th>Attendance</th>\n",
       "      <th>Revenue</th>\n",
       "    </tr>\n",
       "  </thead>\n",
       "  <tbody>\n",
       "    <tr>\n",
       "      <th>0</th>\n",
       "      <td>March 17</td>\n",
       "      <td>Glendale</td>\n",
       "      <td>United States</td>\n",
       "      <td>State Farm Stadium</td>\n",
       "      <td>Paramore Gayle</td>\n",
       "      <td>—</td>\n",
       "      <td>—</td>\n",
       "    </tr>\n",
       "    <tr>\n",
       "      <th>1</th>\n",
       "      <td>March 18</td>\n",
       "      <td>Glendale</td>\n",
       "      <td>United States</td>\n",
       "      <td>State Farm Stadium</td>\n",
       "      <td>Paramore Gayle</td>\n",
       "      <td>—</td>\n",
       "      <td>—</td>\n",
       "    </tr>\n",
       "    <tr>\n",
       "      <th>2</th>\n",
       "      <td>March 24</td>\n",
       "      <td>Paradise[i]</td>\n",
       "      <td>United States</td>\n",
       "      <td>Allegiant Stadium</td>\n",
       "      <td>Beabadoobee Gayle</td>\n",
       "      <td>—</td>\n",
       "      <td>—</td>\n",
       "    </tr>\n",
       "    <tr>\n",
       "      <th>3</th>\n",
       "      <td>March 25</td>\n",
       "      <td>Paradise[i]</td>\n",
       "      <td>United States</td>\n",
       "      <td>Allegiant Stadium</td>\n",
       "      <td>Beabadoobee Gayle</td>\n",
       "      <td>—</td>\n",
       "      <td>—</td>\n",
       "    </tr>\n",
       "    <tr>\n",
       "      <th>4</th>\n",
       "      <td>March 31</td>\n",
       "      <td>Arlington</td>\n",
       "      <td>United States</td>\n",
       "      <td>AT&amp;T Stadium</td>\n",
       "      <td>Muna Gayle</td>\n",
       "      <td>—</td>\n",
       "      <td>—</td>\n",
       "    </tr>\n",
       "  </tbody>\n",
       "</table>\n",
       "</div>"
      ],
      "text/plain": [
       "  Date (2023)         City        Country               Venue  \\\n",
       "0    March 17     Glendale  United States  State Farm Stadium   \n",
       "1    March 18     Glendale  United States  State Farm Stadium   \n",
       "2    March 24  Paradise[i]  United States   Allegiant Stadium   \n",
       "3    March 25  Paradise[i]  United States   Allegiant Stadium   \n",
       "4    March 31    Arlington  United States        AT&T Stadium   \n",
       "\n",
       "        Opening acts Attendance Revenue  \n",
       "0     Paramore Gayle          —       —  \n",
       "1     Paramore Gayle          —       —  \n",
       "2  Beabadoobee Gayle          —       —  \n",
       "3  Beabadoobee Gayle          —       —  \n",
       "4         Muna Gayle          —       —  "
      ]
     },
     "execution_count": 6,
     "metadata": {},
     "output_type": "execute_result"
    }
   ],
   "source": [
    "eras_2023 = eras_tour_list[7]\n",
    "eras_2024 = eras_tour_list[8]\n",
    "\n",
    "eras_2023.head()"
   ]
  },
  {
   "cell_type": "markdown",
   "id": "f25e2adf-b771-4499-b2ee-b501883a2555",
   "metadata": {},
   "source": [
    "For some of the tours, Wikipedia splits up the tour into different tables by year, so I get both tables and then merge them into one. I kept the year as part of the date just to help differentiate the two in case I needed it."
   ]
  },
  {
   "cell_type": "code",
   "execution_count": 7,
   "id": "d62fbbf9-5145-4d79-9f62-7dcde2b2b70a",
   "metadata": {},
   "outputs": [],
   "source": [
    "eras_2023['Date (2023)'] = eras_2023['Date (2023)'].astype(str) + ' 2023'\n",
    "eras_2024['Date (2024)'] = eras_2024['Date (2024)'].astype(str) + ' 2024'\n",
    "\n",
    "eras_2023.rename(columns={'Date (2023)': 'Date'}, inplace=True)\n",
    "eras_2024.rename(columns={'Date (2024)': 'Date'}, inplace=True)"
   ]
  },
  {
   "cell_type": "code",
   "execution_count": 8,
   "id": "b77351f6-e8aa-4c67-b907-7a797f99d960",
   "metadata": {},
   "outputs": [],
   "source": [
    "eras_tour_merged = pd.concat([eras_2023, eras_2024], axis = 0)\n",
    "eras_tour_merged['Artist'] = \"Taylor Swift\"\n",
    "# eras_tour_merged.head()"
   ]
  },
  {
   "cell_type": "markdown",
   "id": "91f77ec7-ad8d-4ca6-886e-96bdd2fc2cd7",
   "metadata": {},
   "source": [
    "Some of the tours also included the opening acts. Since this wasn't true for all tours, and I wouldn't need to analyze this anyways, I opted to just remove the column."
   ]
  },
  {
   "cell_type": "code",
   "execution_count": 9,
   "id": "b1f37d7b-da22-40dc-903c-eadfbb0ffeab",
   "metadata": {},
   "outputs": [
    {
     "data": {
      "text/html": [
       "<div>\n",
       "<style scoped>\n",
       "    .dataframe tbody tr th:only-of-type {\n",
       "        vertical-align: middle;\n",
       "    }\n",
       "\n",
       "    .dataframe tbody tr th {\n",
       "        vertical-align: top;\n",
       "    }\n",
       "\n",
       "    .dataframe thead th {\n",
       "        text-align: right;\n",
       "    }\n",
       "</style>\n",
       "<table border=\"1\" class=\"dataframe\">\n",
       "  <thead>\n",
       "    <tr style=\"text-align: right;\">\n",
       "      <th></th>\n",
       "      <th>Date</th>\n",
       "      <th>City</th>\n",
       "      <th>Country</th>\n",
       "      <th>Venue</th>\n",
       "      <th>Attendance</th>\n",
       "      <th>Revenue</th>\n",
       "      <th>Artist</th>\n",
       "    </tr>\n",
       "  </thead>\n",
       "  <tbody>\n",
       "    <tr>\n",
       "      <th>0</th>\n",
       "      <td>March 17 2023</td>\n",
       "      <td>Glendale</td>\n",
       "      <td>United States</td>\n",
       "      <td>State Farm Stadium</td>\n",
       "      <td>—</td>\n",
       "      <td>—</td>\n",
       "      <td>Taylor Swift</td>\n",
       "    </tr>\n",
       "    <tr>\n",
       "      <th>1</th>\n",
       "      <td>March 18 2023</td>\n",
       "      <td>Glendale</td>\n",
       "      <td>United States</td>\n",
       "      <td>State Farm Stadium</td>\n",
       "      <td>—</td>\n",
       "      <td>—</td>\n",
       "      <td>Taylor Swift</td>\n",
       "    </tr>\n",
       "    <tr>\n",
       "      <th>2</th>\n",
       "      <td>March 24 2023</td>\n",
       "      <td>Paradise[i]</td>\n",
       "      <td>United States</td>\n",
       "      <td>Allegiant Stadium</td>\n",
       "      <td>—</td>\n",
       "      <td>—</td>\n",
       "      <td>Taylor Swift</td>\n",
       "    </tr>\n",
       "    <tr>\n",
       "      <th>3</th>\n",
       "      <td>March 25 2023</td>\n",
       "      <td>Paradise[i]</td>\n",
       "      <td>United States</td>\n",
       "      <td>Allegiant Stadium</td>\n",
       "      <td>—</td>\n",
       "      <td>—</td>\n",
       "      <td>Taylor Swift</td>\n",
       "    </tr>\n",
       "    <tr>\n",
       "      <th>4</th>\n",
       "      <td>March 31 2023</td>\n",
       "      <td>Arlington</td>\n",
       "      <td>United States</td>\n",
       "      <td>AT&amp;T Stadium</td>\n",
       "      <td>—</td>\n",
       "      <td>—</td>\n",
       "      <td>Taylor Swift</td>\n",
       "    </tr>\n",
       "  </tbody>\n",
       "</table>\n",
       "</div>"
      ],
      "text/plain": [
       "            Date         City        Country               Venue Attendance  \\\n",
       "0  March 17 2023     Glendale  United States  State Farm Stadium          —   \n",
       "1  March 18 2023     Glendale  United States  State Farm Stadium          —   \n",
       "2  March 24 2023  Paradise[i]  United States   Allegiant Stadium          —   \n",
       "3  March 25 2023  Paradise[i]  United States   Allegiant Stadium          —   \n",
       "4  March 31 2023    Arlington  United States        AT&T Stadium          —   \n",
       "\n",
       "  Revenue        Artist  \n",
       "0       —  Taylor Swift  \n",
       "1       —  Taylor Swift  \n",
       "2       —  Taylor Swift  \n",
       "3       —  Taylor Swift  \n",
       "4       —  Taylor Swift  "
      ]
     },
     "execution_count": 9,
     "metadata": {},
     "output_type": "execute_result"
    }
   ],
   "source": [
    "eras_tour_merged.drop(['Opening acts'], axis=1, inplace=True)\n",
    "eras_tour_merged.head()"
   ]
  },
  {
   "cell_type": "markdown",
   "id": "9635f45a-2b97-4929-8059-a3ccb7dec4f9",
   "metadata": {},
   "source": [
    "_Coldplay_"
   ]
  },
  {
   "cell_type": "code",
   "execution_count": 10,
   "id": "1b5959a9-22fa-4e09-a8d5-5ee525f46a74",
   "metadata": {},
   "outputs": [],
   "source": [
    "c_tour = 'https://en.wikipedia.org/wiki/Music_of_the_Spheres_World_Tour'"
   ]
  },
  {
   "cell_type": "code",
   "execution_count": 11,
   "id": "038a718e-3834-43b5-8aee-f6e7954a9925",
   "metadata": {},
   "outputs": [],
   "source": [
    "response4 = requests.get(c_tour)\n",
    "# response4.status_code\n",
    "coldplay = pd.read_html(StringIO(response4.text))\n",
    "# type(coldplay)"
   ]
  },
  {
   "cell_type": "code",
   "execution_count": 12,
   "id": "2f931ea2-8ccf-419b-9c62-142a9a573481",
   "metadata": {},
   "outputs": [],
   "source": [
    "coldplay_tour_22 = coldplay[2]\n",
    "coldplay_tour_23 = coldplay[3]\n",
    "coldplay_tour_24 = coldplay[4]\n",
    "coldplay_tour_25 = coldplay[5]"
   ]
  },
  {
   "cell_type": "markdown",
   "id": "83a2a07a-ae81-4d09-a53d-8ce6c316d7e9",
   "metadata": {},
   "source": [
    "Adding the year to each date and renaming the column"
   ]
  },
  {
   "cell_type": "code",
   "execution_count": 13,
   "id": "9a610499-0aaa-486e-ba04-398d66ec5cbd",
   "metadata": {},
   "outputs": [],
   "source": [
    "coldplay_tour_22['Date (2022)'] = coldplay_tour_22['Date (2022)'].astype(str) + ' 2022'\n",
    "coldplay_tour_22.rename(columns={'Date (2022)': 'Date'}, inplace=True)\n",
    "\n",
    "coldplay_tour_23['Date (2023)'] = coldplay_tour_23['Date (2023)'].astype(str) + ' 2023'\n",
    "coldplay_tour_23.rename(columns={'Date (2023)': 'Date'}, inplace=True)\n",
    "\n",
    "coldplay_tour_24['Date (2024)'] = coldplay_tour_24['Date (2024)'].astype(str) + ' 2024'\n",
    "coldplay_tour_24.rename(columns={'Date (2024)': 'Date'}, inplace=True)\n",
    "\n",
    "coldplay_tour_25['Date (2025)'] = coldplay_tour_25['Date (2025)'].astype(str) + ' 2025'\n",
    "coldplay_tour_25.rename(columns={'Date (2025)': 'Date'}, inplace=True)"
   ]
  },
  {
   "cell_type": "code",
   "execution_count": 14,
   "id": "2f0a9efe-922a-4381-b983-d5d0615f08aa",
   "metadata": {},
   "outputs": [
    {
     "data": {
      "text/html": [
       "<div>\n",
       "<style scoped>\n",
       "    .dataframe tbody tr th:only-of-type {\n",
       "        vertical-align: middle;\n",
       "    }\n",
       "\n",
       "    .dataframe tbody tr th {\n",
       "        vertical-align: top;\n",
       "    }\n",
       "\n",
       "    .dataframe thead th {\n",
       "        text-align: right;\n",
       "    }\n",
       "</style>\n",
       "<table border=\"1\" class=\"dataframe\">\n",
       "  <thead>\n",
       "    <tr style=\"text-align: right;\">\n",
       "      <th></th>\n",
       "      <th>Date</th>\n",
       "      <th>City</th>\n",
       "      <th>Country</th>\n",
       "      <th>Venue</th>\n",
       "      <th>Attendance</th>\n",
       "      <th>Revenue</th>\n",
       "      <th>Artist</th>\n",
       "    </tr>\n",
       "  </thead>\n",
       "  <tbody>\n",
       "    <tr>\n",
       "      <th>0</th>\n",
       "      <td>18 March 2022</td>\n",
       "      <td>San José</td>\n",
       "      <td>Costa Rica</td>\n",
       "      <td>Estadio Nacional de Costa Rica</td>\n",
       "      <td>86,199 / 86,199</td>\n",
       "      <td>$5,687,127</td>\n",
       "      <td>Coldplay</td>\n",
       "    </tr>\n",
       "    <tr>\n",
       "      <th>1</th>\n",
       "      <td>19 March 2022</td>\n",
       "      <td>San José</td>\n",
       "      <td>Costa Rica</td>\n",
       "      <td>Estadio Nacional de Costa Rica</td>\n",
       "      <td>86,199 / 86,199</td>\n",
       "      <td>$5,687,127</td>\n",
       "      <td>Coldplay</td>\n",
       "    </tr>\n",
       "    <tr>\n",
       "      <th>2</th>\n",
       "      <td>22 March 2022</td>\n",
       "      <td>Santo Domingo</td>\n",
       "      <td>Dominican Republic</td>\n",
       "      <td>Estadio Olímpico Félix Sánchez</td>\n",
       "      <td>30,524 / 30,524</td>\n",
       "      <td>$2,571,873</td>\n",
       "      <td>Coldplay</td>\n",
       "    </tr>\n",
       "    <tr>\n",
       "      <th>3</th>\n",
       "      <td>25 March 2022</td>\n",
       "      <td>Guadalupe[i]</td>\n",
       "      <td>Mexico</td>\n",
       "      <td>Estadio BBVA</td>\n",
       "      <td>112,262 / 112,262</td>\n",
       "      <td>$8,996,432</td>\n",
       "      <td>Coldplay</td>\n",
       "    </tr>\n",
       "    <tr>\n",
       "      <th>4</th>\n",
       "      <td>26 March 2022</td>\n",
       "      <td>Guadalupe[i]</td>\n",
       "      <td>Mexico</td>\n",
       "      <td>Estadio BBVA</td>\n",
       "      <td>112,262 / 112,262</td>\n",
       "      <td>$8,996,432</td>\n",
       "      <td>Coldplay</td>\n",
       "    </tr>\n",
       "  </tbody>\n",
       "</table>\n",
       "</div>"
      ],
      "text/plain": [
       "            Date           City             Country  \\\n",
       "0  18 March 2022       San José          Costa Rica   \n",
       "1  19 March 2022       San José          Costa Rica   \n",
       "2  22 March 2022  Santo Domingo  Dominican Republic   \n",
       "3  25 March 2022   Guadalupe[i]              Mexico   \n",
       "4  26 March 2022   Guadalupe[i]              Mexico   \n",
       "\n",
       "                            Venue         Attendance     Revenue    Artist  \n",
       "0  Estadio Nacional de Costa Rica    86,199 / 86,199  $5,687,127  Coldplay  \n",
       "1  Estadio Nacional de Costa Rica    86,199 / 86,199  $5,687,127  Coldplay  \n",
       "2  Estadio Olímpico Félix Sánchez    30,524 / 30,524  $2,571,873  Coldplay  \n",
       "3                    Estadio BBVA  112,262 / 112,262  $8,996,432  Coldplay  \n",
       "4                    Estadio BBVA  112,262 / 112,262  $8,996,432  Coldplay  "
      ]
     },
     "execution_count": 14,
     "metadata": {},
     "output_type": "execute_result"
    }
   ],
   "source": [
    "coldplay_merged = pd.concat([coldplay_tour_22, coldplay_tour_23, coldplay_tour_24, coldplay_tour_25], axis = 0)\n",
    "\n",
    "coldplay_merged.drop(['Opening acts'], axis=1, inplace=True)\n",
    "coldplay_merged['Artist'] = \"Coldplay\"\n",
    "\n",
    "coldplay_merged.head()"
   ]
  },
  {
   "cell_type": "markdown",
   "id": "92c4523c-56ce-456c-8d42-939dbd9d4098",
   "metadata": {},
   "source": [
    "_Elton John_"
   ]
  },
  {
   "cell_type": "code",
   "execution_count": 15,
   "id": "64506a96-ed9c-4ed9-a043-d973d3c2e0aa",
   "metadata": {},
   "outputs": [],
   "source": [
    "ej = 'https://en.wikipedia.org/wiki/Farewell_Yellow_Brick_Road'\n",
    "response3 = requests.get(ej)\n",
    "# response3.status_code\n",
    "ej_list = pd.read_html(StringIO(response3.text))\n",
    "# type(ej_list)"
   ]
  },
  {
   "cell_type": "markdown",
   "id": "ee7cfd4f-1986-453b-b60e-cdf9dbd91b0c",
   "metadata": {},
   "source": [
    "Because of the formatting of Wikipedia, some of the tours are broken up by leg, and it resulted in weird column titles. I figured out the best way to deal with this was to just manually rename it."
   ]
  },
  {
   "cell_type": "code",
   "execution_count": 16,
   "id": "53c83076-cbed-4cc7-8210-96f90a17acd8",
   "metadata": {},
   "outputs": [
    {
     "data": {
      "text/html": [
       "<div>\n",
       "<style scoped>\n",
       "    .dataframe tbody tr th:only-of-type {\n",
       "        vertical-align: middle;\n",
       "    }\n",
       "\n",
       "    .dataframe tbody tr th {\n",
       "        vertical-align: top;\n",
       "    }\n",
       "\n",
       "    .dataframe thead tr th {\n",
       "        text-align: left;\n",
       "    }\n",
       "</style>\n",
       "<table border=\"1\" class=\"dataframe\">\n",
       "  <thead>\n",
       "    <tr>\n",
       "      <th></th>\n",
       "      <th>Date</th>\n",
       "      <th>City</th>\n",
       "      <th>Country</th>\n",
       "      <th>Venue</th>\n",
       "      <th>Attendance</th>\n",
       "      <th>Revenue</th>\n",
       "    </tr>\n",
       "    <tr>\n",
       "      <th></th>\n",
       "      <th>North America[32][33][34]</th>\n",
       "      <th>North America[32][33][34]</th>\n",
       "      <th>North America[32][33][34]</th>\n",
       "      <th>North America[32][33][34]</th>\n",
       "      <th>North America[32][33][34]</th>\n",
       "      <th>North America[32][33][34]</th>\n",
       "    </tr>\n",
       "  </thead>\n",
       "  <tbody>\n",
       "    <tr>\n",
       "      <th>0</th>\n",
       "      <td>8 September 2018</td>\n",
       "      <td>Allentown</td>\n",
       "      <td>United States</td>\n",
       "      <td>PPL Center</td>\n",
       "      <td>8,983 / 8,983</td>\n",
       "      <td>$1,492,859</td>\n",
       "    </tr>\n",
       "  </tbody>\n",
       "</table>\n",
       "</div>"
      ],
      "text/plain": [
       "                       Date                      City  \\\n",
       "  North America[32][33][34] North America[32][33][34]   \n",
       "0          8 September 2018                 Allentown   \n",
       "\n",
       "                    Country                     Venue  \\\n",
       "  North America[32][33][34] North America[32][33][34]   \n",
       "0             United States                PPL Center   \n",
       "\n",
       "                 Attendance                   Revenue  \n",
       "  North America[32][33][34] North America[32][33][34]  \n",
       "0             8,983 / 8,983                $1,492,859  "
      ]
     },
     "execution_count": 16,
     "metadata": {},
     "output_type": "execute_result"
    }
   ],
   "source": [
    "ej_tours = ej_list[1]\n",
    "ej_tours.head(1)"
   ]
  },
  {
   "cell_type": "code",
   "execution_count": 17,
   "id": "fca3d126-dfb3-41e7-81d9-caeeee4530d7",
   "metadata": {},
   "outputs": [
    {
     "data": {
      "text/html": [
       "<div>\n",
       "<style scoped>\n",
       "    .dataframe tbody tr th:only-of-type {\n",
       "        vertical-align: middle;\n",
       "    }\n",
       "\n",
       "    .dataframe tbody tr th {\n",
       "        vertical-align: top;\n",
       "    }\n",
       "\n",
       "    .dataframe thead th {\n",
       "        text-align: right;\n",
       "    }\n",
       "</style>\n",
       "<table border=\"1\" class=\"dataframe\">\n",
       "  <thead>\n",
       "    <tr style=\"text-align: right;\">\n",
       "      <th></th>\n",
       "      <th>Date</th>\n",
       "      <th>City</th>\n",
       "      <th>Country</th>\n",
       "      <th>Venue</th>\n",
       "      <th>Attendance</th>\n",
       "      <th>Revenue</th>\n",
       "    </tr>\n",
       "  </thead>\n",
       "  <tbody>\n",
       "    <tr>\n",
       "      <th>0</th>\n",
       "      <td>8 September 2018</td>\n",
       "      <td>Allentown</td>\n",
       "      <td>United States</td>\n",
       "      <td>PPL Center</td>\n",
       "      <td>8,983 / 8,983</td>\n",
       "      <td>$1,492,859</td>\n",
       "    </tr>\n",
       "  </tbody>\n",
       "</table>\n",
       "</div>"
      ],
      "text/plain": [
       "               Date       City        Country       Venue     Attendance  \\\n",
       "0  8 September 2018  Allentown  United States  PPL Center  8,983 / 8,983   \n",
       "\n",
       "      Revenue  \n",
       "0  $1,492,859  "
      ]
     },
     "execution_count": 17,
     "metadata": {},
     "output_type": "execute_result"
    }
   ],
   "source": [
    "ej_tours.columns = ['Date', 'City', 'Country', 'Venue', 'Attendance', 'Revenue']\n",
    "ej_tours.head(1)"
   ]
  },
  {
   "cell_type": "code",
   "execution_count": 18,
   "id": "f4c5a1e3-91d1-4bb8-9167-b77ef528e252",
   "metadata": {},
   "outputs": [],
   "source": [
    "ej_tours['Artist'] = \"Elton John\""
   ]
  },
  {
   "cell_type": "markdown",
   "id": "6b3b80cf-1b8f-4236-be3a-f02e01f9bf81",
   "metadata": {},
   "source": [
    "_Ed Sheeran_"
   ]
  },
  {
   "cell_type": "code",
   "execution_count": 19,
   "id": "52925a61-aa09-48b9-832a-216189ea2246",
   "metadata": {},
   "outputs": [],
   "source": [
    "es_tour = 'https://en.wikipedia.org/wiki/%C3%B7_Tour'"
   ]
  },
  {
   "cell_type": "code",
   "execution_count": 20,
   "id": "93f599e2-3ddb-40b2-9a8b-9b0f70a25109",
   "metadata": {},
   "outputs": [],
   "source": [
    "response5 = requests.get(es_tour)\n",
    "# response5.status_code"
   ]
  },
  {
   "cell_type": "code",
   "execution_count": 21,
   "id": "f945f426-c90e-4462-b6d3-cce10be5ebd8",
   "metadata": {},
   "outputs": [],
   "source": [
    "sheeran = pd.read_html(StringIO(response5.text))"
   ]
  },
  {
   "cell_type": "code",
   "execution_count": 22,
   "id": "6e0094a9-aa0c-4796-81f6-428b52751e43",
   "metadata": {},
   "outputs": [],
   "source": [
    "divide_tour_1 = sheeran[1]\n",
    "divide_tour_2 = sheeran[2]\n",
    "\n",
    "# divide_tour_1.head()"
   ]
  },
  {
   "cell_type": "markdown",
   "id": "21a9f363-3427-4fd4-bf9d-93ca26ffa162",
   "metadata": {},
   "source": [
    "Once again, adding the year to the dates and renaming all of the columns"
   ]
  },
  {
   "cell_type": "code",
   "execution_count": 23,
   "id": "ac0cd33f-5453-4b38-9d30-f5408d8de17a",
   "metadata": {},
   "outputs": [],
   "source": [
    "divide_tour_2.columns = ['Date', 'City', 'Country', 'Venue', 'Opening acts', 'Attendance', 'Revenue']\n",
    "\n",
    "divide_tour_1['Dates (2017)'] = divide_tour_1['Dates (2017)'].astype(str) + ' 2017'\n",
    "divide_tour_1.rename(columns={'Dates (2017)': 'Date'}, inplace=True)\n",
    "\n",
    "divide_tour_2['Date'] = divide_tour_2['Date'].astype(str) + ' 2018'\n",
    "\n",
    "# divide_tour_1.head()"
   ]
  },
  {
   "cell_type": "code",
   "execution_count": 24,
   "id": "64e5340a-b41d-46ce-9001-e76a14ae6574",
   "metadata": {},
   "outputs": [],
   "source": [
    "divide_merged = pd.concat([divide_tour_1, divide_tour_2], axis = 0)\n",
    "\n",
    "divide_merged.drop(['Opening acts'], axis=1, inplace=True)\n",
    "divide_merged.drop(['Opening act(s)'], axis=1, inplace=True)\n",
    "divide_merged['Artist'] = \"Ed Sheeran\"\n",
    "\n",
    "#divide_merged.head()"
   ]
  },
  {
   "cell_type": "markdown",
   "id": "35545589-0a76-4f05-8ddc-a4498612e395",
   "metadata": {},
   "source": [
    "_U2_"
   ]
  },
  {
   "cell_type": "code",
   "execution_count": 25,
   "id": "02c648b4-7858-4668-8d6e-38b2f2ad1f17",
   "metadata": {},
   "outputs": [],
   "source": [
    "u2 = 'https://en.wikipedia.org/wiki/U2_360%C2%B0_Tour'"
   ]
  },
  {
   "cell_type": "code",
   "execution_count": 26,
   "id": "6064bb28-c75d-4d56-aeae-ef3e151008bf",
   "metadata": {},
   "outputs": [],
   "source": [
    "response6 = requests.get(u2)\n",
    "# response6.status_code\n",
    "u2_tour = pd.read_html(StringIO(response6.text))"
   ]
  },
  {
   "cell_type": "code",
   "execution_count": 27,
   "id": "6a1c54a1-63d6-45e6-a68e-8a22edb13a55",
   "metadata": {},
   "outputs": [],
   "source": [
    "u2_tour_df = u2_tour[1]\n",
    "# u2_tour_df.head()"
   ]
  },
  {
   "cell_type": "code",
   "execution_count": 28,
   "id": "8009d010-979c-4ccd-88ac-73c045d34ba4",
   "metadata": {},
   "outputs": [],
   "source": [
    "u2_tour_df.columns = ['Date', 'City', 'Country', 'Venue', 'Opening acts', 'Attendance', 'Revenue']\n",
    "\n",
    "u2_tour_df.drop(['Opening acts'], axis=1, inplace=True)\n",
    "u2_tour_df['Artist'] = \"U2\""
   ]
  },
  {
   "cell_type": "markdown",
   "id": "b2335531-f538-4382-92a7-51cfaf210884",
   "metadata": {},
   "source": [
    "_Harry Styles_"
   ]
  },
  {
   "cell_type": "markdown",
   "id": "5096b969-166c-4565-817b-ffac81275aab",
   "metadata": {},
   "source": [
    "As I mentioned, this is the sixth tour on the list, to try and pad out my data without the manual labor added by needing to assign states to the cities of ten tours (more on that later)"
   ]
  },
  {
   "cell_type": "code",
   "execution_count": 29,
   "id": "d9299e0e-d077-421e-ae7d-e7acb8617d03",
   "metadata": {},
   "outputs": [],
   "source": [
    "hs = 'https://en.wikipedia.org/wiki/Love_On_Tour'"
   ]
  },
  {
   "cell_type": "code",
   "execution_count": 30,
   "id": "a5ffb484-5c44-4319-ab21-f894cd548867",
   "metadata": {},
   "outputs": [],
   "source": [
    "response7 = requests.get(hs)\n",
    "# response7.status_code\n",
    "hs_tour = pd.read_html(StringIO(response7.text))"
   ]
  },
  {
   "cell_type": "code",
   "execution_count": 31,
   "id": "c22cef25-643e-4ca6-a511-ca447a0191ef",
   "metadata": {},
   "outputs": [],
   "source": [
    "hs_tour_21 = hs_tour[2]\n",
    "hs_tour_22 = hs_tour[3]\n",
    "hs_tour_23 = hs_tour[4]"
   ]
  },
  {
   "cell_type": "code",
   "execution_count": 32,
   "id": "9f5f32ac-2791-4df7-92eb-80d8692cf9f3",
   "metadata": {},
   "outputs": [],
   "source": [
    "hs_tour_21['Date (2021)'] = hs_tour_21['Date (2021)'].astype(str) + ' 2021'\n",
    "hs_tour_21.rename(columns={'Date (2021)': 'Date'}, inplace=True)\n",
    "\n",
    "hs_tour_22['Date (2022)'] = hs_tour_22['Date (2022)'].astype(str) + ' 2022'\n",
    "hs_tour_22.rename(columns={'Date (2022)': 'Date'}, inplace=True)\n",
    "\n",
    "hs_tour_23['Date (2023)'] = hs_tour_23['Date (2023)'].astype(str) + ' 2023'\n",
    "hs_tour_23.rename(columns={'Date (2023)': 'Date'}, inplace=True)"
   ]
  },
  {
   "cell_type": "code",
   "execution_count": 33,
   "id": "5fff0ee7-5e7a-4554-b912-0cf27ad43816",
   "metadata": {},
   "outputs": [],
   "source": [
    "hs_merged = pd.concat([hs_tour_21, hs_tour_22, hs_tour_23], axis = 0)\n",
    "\n",
    "hs_merged.drop(['Opening acts'], axis=1, inplace=True)\n",
    "hs_merged['Artist'] = \"Harry Styles\""
   ]
  },
  {
   "cell_type": "markdown",
   "id": "e5f38846-c5b3-493e-93ed-b5f84f866e50",
   "metadata": {},
   "source": [
    "_Merged Tours_"
   ]
  },
  {
   "cell_type": "markdown",
   "id": "b220190e-c0a1-4664-bc22-a9dfafb346a9",
   "metadata": {},
   "source": [
    "Finally, we have all of the tours in one dataframe! Here come the last few steps of cleaning the data before I can start the actual analysis."
   ]
  },
  {
   "cell_type": "code",
   "execution_count": 34,
   "id": "94772e53-6f86-4eb2-a020-60faa6b11fc8",
   "metadata": {},
   "outputs": [
    {
     "data": {
      "text/html": [
       "<div>\n",
       "<style scoped>\n",
       "    .dataframe tbody tr th:only-of-type {\n",
       "        vertical-align: middle;\n",
       "    }\n",
       "\n",
       "    .dataframe tbody tr th {\n",
       "        vertical-align: top;\n",
       "    }\n",
       "\n",
       "    .dataframe thead th {\n",
       "        text-align: right;\n",
       "    }\n",
       "</style>\n",
       "<table border=\"1\" class=\"dataframe\">\n",
       "  <thead>\n",
       "    <tr style=\"text-align: right;\">\n",
       "      <th></th>\n",
       "      <th>Date</th>\n",
       "      <th>City</th>\n",
       "      <th>Country</th>\n",
       "      <th>Venue</th>\n",
       "      <th>Attendance</th>\n",
       "      <th>Revenue</th>\n",
       "      <th>Artist</th>\n",
       "    </tr>\n",
       "  </thead>\n",
       "  <tbody>\n",
       "    <tr>\n",
       "      <th>0</th>\n",
       "      <td>16 March 2017</td>\n",
       "      <td>Turin</td>\n",
       "      <td>Italy</td>\n",
       "      <td>Pala Alpitour</td>\n",
       "      <td>23,256 / 23,256</td>\n",
       "      <td>$1,219,480</td>\n",
       "      <td>Ed Sheeran</td>\n",
       "    </tr>\n",
       "    <tr>\n",
       "      <th>1</th>\n",
       "      <td>17 March 2017</td>\n",
       "      <td>Turin</td>\n",
       "      <td>Italy</td>\n",
       "      <td>Pala Alpitour</td>\n",
       "      <td>23,256 / 23,256</td>\n",
       "      <td>$1,219,480</td>\n",
       "      <td>Ed Sheeran</td>\n",
       "    </tr>\n",
       "    <tr>\n",
       "      <th>2</th>\n",
       "      <td>19 March 2017</td>\n",
       "      <td>Zürich</td>\n",
       "      <td>Switzerland</td>\n",
       "      <td>Hallenstadion</td>\n",
       "      <td>14,444 / 14,444</td>\n",
       "      <td>$1,148,585</td>\n",
       "      <td>Ed Sheeran</td>\n",
       "    </tr>\n",
       "    <tr>\n",
       "      <th>3</th>\n",
       "      <td>20 March 2017</td>\n",
       "      <td>Munich</td>\n",
       "      <td>Germany</td>\n",
       "      <td>Olympiahalle</td>\n",
       "      <td>12,076 / 12,108</td>\n",
       "      <td>$919,768</td>\n",
       "      <td>Ed Sheeran</td>\n",
       "    </tr>\n",
       "    <tr>\n",
       "      <th>4</th>\n",
       "      <td>22 March 2017</td>\n",
       "      <td>Mannheim</td>\n",
       "      <td>Germany</td>\n",
       "      <td>SAP Arena</td>\n",
       "      <td>10,843 / 10,848</td>\n",
       "      <td>$740,662</td>\n",
       "      <td>Ed Sheeran</td>\n",
       "    </tr>\n",
       "  </tbody>\n",
       "</table>\n",
       "</div>"
      ],
      "text/plain": [
       "            Date      City      Country          Venue       Attendance  \\\n",
       "0  16 March 2017     Turin        Italy  Pala Alpitour  23,256 / 23,256   \n",
       "1  17 March 2017     Turin        Italy  Pala Alpitour  23,256 / 23,256   \n",
       "2  19 March 2017    Zürich  Switzerland  Hallenstadion  14,444 / 14,444   \n",
       "3  20 March 2017    Munich      Germany   Olympiahalle  12,076 / 12,108   \n",
       "4  22 March 2017  Mannheim      Germany      SAP Arena  10,843 / 10,848   \n",
       "\n",
       "      Revenue      Artist  \n",
       "0  $1,219,480  Ed Sheeran  \n",
       "1  $1,219,480  Ed Sheeran  \n",
       "2  $1,148,585  Ed Sheeran  \n",
       "3    $919,768  Ed Sheeran  \n",
       "4    $740,662  Ed Sheeran  "
      ]
     },
     "execution_count": 34,
     "metadata": {},
     "output_type": "execute_result"
    }
   ],
   "source": [
    "tours_merged_df = pd.concat([divide_merged, coldplay_merged, u2_tour_df, eras_tour_merged, hs_merged, ej_tours])\n",
    "tours_merged_df.head()"
   ]
  },
  {
   "cell_type": "markdown",
   "id": "0b1abc0a-53eb-4a69-b6d2-2040fd4a5f40",
   "metadata": {},
   "source": [
    "Since I'm only familiar with US cities and states, those are the only ones I will analyze. Here I'm deleting all rows that don't have United States as the value in the Country column."
   ]
  },
  {
   "cell_type": "code",
   "execution_count": 35,
   "id": "cb420e12-64a2-468b-a3b8-20cff1bcb037",
   "metadata": {},
   "outputs": [],
   "source": [
    "tours_merged_df = tours_merged_df[tours_merged_df['Country'] == 'United States']"
   ]
  },
  {
   "cell_type": "markdown",
   "id": "36beaf7f-c129-4af8-ae06-f65e194b985d",
   "metadata": {},
   "source": [
    "Some of the cities had citations like [i] so they weren't registering as being the same, so I got rid of all of those."
   ]
  },
  {
   "cell_type": "code",
   "execution_count": 36,
   "id": "6de4ce84-f2d3-4ba8-b0f8-fe8a67199acc",
   "metadata": {},
   "outputs": [],
   "source": [
    "tours_merged_df['City'] = tours_merged_df['City'].str.replace(r'\\[.*?\\]', '', regex=True)"
   ]
  },
  {
   "cell_type": "markdown",
   "id": "0f193719-36c1-4615-bfb6-f65db3db3be1",
   "metadata": {},
   "source": [
    "Again, getting rid of all the extra characters and then converting it to numeric. I might have been able to keep the '$' but I wasn't sure so I just cut it."
   ]
  },
  {
   "cell_type": "code",
   "execution_count": 37,
   "id": "fb3101b9-ead4-4dfd-a307-dde2788d8f47",
   "metadata": {},
   "outputs": [],
   "source": [
    "tours_merged_df['Revenue'] = tours_merged_df['Revenue'].str.replace('$', '')\n",
    "tours_merged_df['Revenue'] = tours_merged_df['Revenue'].str.replace(',', '')\n",
    "tours_merged_df['Revenue'] = tours_merged_df['Revenue'].str.replace('—', '')\n",
    "tours_merged_df['Revenue'] = tours_merged_df['Revenue'].str.replace(r'\\[.*?\\]', '', regex=True)"
   ]
  },
  {
   "cell_type": "code",
   "execution_count": 38,
   "id": "527559bb-2624-44ed-9e68-0a5e3060f0c0",
   "metadata": {},
   "outputs": [],
   "source": [
    "tours_merged_df['Revenue'] = pd.to_numeric(tours_merged_df['Revenue'])"
   ]
  },
  {
   "cell_type": "markdown",
   "id": "94955277-d0d7-424c-8e1d-714114a03c74",
   "metadata": {},
   "source": [
    "Same as the revenue, making it numeric and removing the extra characters."
   ]
  },
  {
   "cell_type": "code",
   "execution_count": 39,
   "id": "08dd562f-7fcb-464e-bfa1-6b3d9657d1d1",
   "metadata": {},
   "outputs": [],
   "source": [
    "tours_merged_df['Attendance'] = tours_merged_df['Attendance'].str.split(' ').str[0]\n",
    "tours_merged_df['Attendance'] = tours_merged_df['Attendance'].str.replace(',', '')\n",
    "tours_merged_df['Attendance'] = tours_merged_df['Attendance'].str.replace('—', '')\n",
    "tours_merged_df['Attendance'] = tours_merged_df['Attendance'].str.replace(r'\\[.*?\\]', '', regex=True)"
   ]
  },
  {
   "cell_type": "code",
   "execution_count": 40,
   "id": "29a9b460-965a-4305-aee2-53e1369f90c6",
   "metadata": {},
   "outputs": [],
   "source": [
    "tours_merged_df['Attendance'] = pd.to_numeric(tours_merged_df['Attendance'])"
   ]
  },
  {
   "cell_type": "markdown",
   "id": "ab8b808c-aa81-4140-a1f3-ff3775c4a419",
   "metadata": {},
   "source": [
    "Here is the big manual part of the data scraping. I was very interested in looking at the states visited, because I felt only having the cities would make it harder to see trends, since each state likely has multiple cities. But since this was not included on the table, I had to do it manually."
   ]
  },
  {
   "cell_type": "markdown",
   "id": "f1418606-331d-4c1b-9675-ad4b7ace5ff9",
   "metadata": {},
   "source": [
    "First, I got all of the unique values in the \"City\" column, to get each city visited on all of the tours."
   ]
  },
  {
   "cell_type": "code",
   "execution_count": 41,
   "id": "77c7d82d-4ea0-4415-b969-5eddb7a837e6",
   "metadata": {},
   "outputs": [],
   "source": [
    "unique_values = tours_merged_df['City'].unique()\n",
    "unique_values = unique_values.tolist()\n",
    "\n",
    "unique_values.sort()\n",
    "\n",
    "# print(unique_values)"
   ]
  },
  {
   "cell_type": "markdown",
   "id": "45c14ea7-6f80-4577-ae63-bc3e0bc3fdbc",
   "metadata": {},
   "source": [
    "Here is where I got worried that there might be venues in Portland, Oregon as well as Portland, Maine, but I guess the city in Maine is not as big as I thought."
   ]
  },
  {
   "cell_type": "code",
   "execution_count": 42,
   "id": "a8ed8f02-6831-4ca1-aac0-625375269875",
   "metadata": {},
   "outputs": [
    {
     "data": {
      "text/html": [
       "<div>\n",
       "<style scoped>\n",
       "    .dataframe tbody tr th:only-of-type {\n",
       "        vertical-align: middle;\n",
       "    }\n",
       "\n",
       "    .dataframe tbody tr th {\n",
       "        vertical-align: top;\n",
       "    }\n",
       "\n",
       "    .dataframe thead th {\n",
       "        text-align: right;\n",
       "    }\n",
       "</style>\n",
       "<table border=\"1\" class=\"dataframe\">\n",
       "  <thead>\n",
       "    <tr style=\"text-align: right;\">\n",
       "      <th></th>\n",
       "      <th>Date</th>\n",
       "      <th>City</th>\n",
       "      <th>Country</th>\n",
       "      <th>Venue</th>\n",
       "      <th>Attendance</th>\n",
       "      <th>Revenue</th>\n",
       "      <th>Artist</th>\n",
       "    </tr>\n",
       "  </thead>\n",
       "  <tbody>\n",
       "    <tr>\n",
       "      <th>67</th>\n",
       "      <td>30 July 2017</td>\n",
       "      <td>Portland</td>\n",
       "      <td>United States</td>\n",
       "      <td>Moda Center</td>\n",
       "      <td>13420</td>\n",
       "      <td>1074959</td>\n",
       "      <td>Ed Sheeran</td>\n",
       "    </tr>\n",
       "    <tr>\n",
       "      <th>31</th>\n",
       "      <td>8 November 2021</td>\n",
       "      <td>Portland</td>\n",
       "      <td>United States</td>\n",
       "      <td>Moda Center</td>\n",
       "      <td>17890</td>\n",
       "      <td>2125697</td>\n",
       "      <td>Harry Styles</td>\n",
       "    </tr>\n",
       "    <tr>\n",
       "      <th>43</th>\n",
       "      <td>12 January 2019</td>\n",
       "      <td>Portland</td>\n",
       "      <td>United States</td>\n",
       "      <td>Moda Center</td>\n",
       "      <td>14584</td>\n",
       "      <td>1843608</td>\n",
       "      <td>Elton John</td>\n",
       "    </tr>\n",
       "  </tbody>\n",
       "</table>\n",
       "</div>"
      ],
      "text/plain": [
       "               Date      City        Country        Venue  Attendance  \\\n",
       "67     30 July 2017  Portland  United States  Moda Center       13420   \n",
       "31  8 November 2021  Portland  United States  Moda Center       17890   \n",
       "43  12 January 2019  Portland  United States  Moda Center       14584   \n",
       "\n",
       "    Revenue        Artist  \n",
       "67  1074959    Ed Sheeran  \n",
       "31  2125697  Harry Styles  \n",
       "43  1843608    Elton John  "
      ]
     },
     "execution_count": 42,
     "metadata": {},
     "output_type": "execute_result"
    }
   ],
   "source": [
    "tours_merged_df.loc[tours_merged_df['City'] == 'Portland']"
   ]
  },
  {
   "cell_type": "markdown",
   "id": "70c89a1c-d622-4bd0-b6c2-1a209d5fa015",
   "metadata": {},
   "source": [
    "I copied this list of cities into a Google doc, and set out on manually matching each city to a state in a dictionary format. Most of the cities I knew only had one state associated (i.e. Hollywood, CA) and I knew the state immediately, but for the handful I wasn't sure about I would plug the city into the line above, here and then Google the venue to confirm the state."
   ]
  },
  {
   "cell_type": "markdown",
   "id": "0a469af7-670c-44c1-a0cd-16f56443f223",
   "metadata": {},
   "source": [
    "Building the dictionary honestly only took about 20-30 minutes of active work since I knew most of the information off-hand, but it was definitely only this easy because I limited my analysis to only six tours. Many of the tours have overlapping cities, but I added Love on Tour later and had to go back and add new cities. This added ~5 cities not previously covered, so picture that work times every new tour added to the project."
   ]
  },
  {
   "cell_type": "code",
   "execution_count": 43,
   "id": "b84ff56e-ffcc-44f7-9299-7d212c90a0ef",
   "metadata": {},
   "outputs": [],
   "source": [
    "cities_dictionary = {'Albany' : 'New York','Allentown' : 'Pennsylvania','Anaheim' : 'California','Arlington' : 'Texas','Atlanta' : 'Georgia','Austin' : 'Texas', 'Baltimore' : 'Maryland', 'Birmingham' : 'Alabama', 'Boise' : 'Idaho', 'Boston' : 'Massachusetts', 'Brooklyn' : 'New York', 'Buffalo' : 'New York', 'Charleston' : 'North Carolina', 'Charlotte' : 'North Carolina', 'Charlottesville': 'Virginia', 'Chicago' : 'Illinois', 'Cincinnati' : 'Ohio', 'Cleveland' : 'Ohio', 'Columbia' : 'South Carolina', 'Columbus': 'Ohio', 'Dallas' : 'Texas', 'Denver' : 'Colorado', 'Des Moines' : 'Iowa', 'Detroit' : 'Michigan', 'Duluth' : 'Georgia', 'East Lansing' : 'Michigan', 'East Rutherford' : 'New Jersey', 'Elmont' : 'New York', 'El Paso' : 'Texas', 'Fargo' : 'North Dakota', 'Foxborough' : 'Massachussets', 'Fresno' : 'California', 'Glendale' : 'California', 'Grand Rapids' : 'Michigan', 'Greensboro' : 'North Carolina', 'Hartford' : 'Connecticut', 'Hershey' : 'Pennsylvania', 'Hollywood' : 'California', 'Houston' : 'Texas', 'Indianapolis' : 'Indiana', 'Inglewood' : 'California', 'Jacksonville' : 'Florida', 'Kansas City' : 'Missouri', 'Knoxville' : 'Tennessee', 'Landover' : 'Maryland', 'Las Vegas' : 'Nevada', 'Lexington' : 'Kentucky', 'Lincoln' : 'Nebraska', 'Los Angeles' : 'California', 'Louisville' : 'Kentucky', 'Madison' : 'Wisconsin', 'Memphis' : 'Tennessee', 'Miami' : 'Florida', 'Miami Gardens' : 'Florida', 'Milwaukee' : 'Wisconsin', 'Minneapolis' : 'Minnesota', 'Nashville' : 'Tennessee', 'New Orleans' : 'Louisiana', 'New York City' : 'New York', 'Newark' : 'New Jersey', 'Norman' : 'Oklahoma', 'North Charleston' : 'South Carolina', 'North Little Rock' : 'Arkansas', 'Oakland' : 'California', 'Oklahoma City' : 'Oklahoma', 'Omaha' : 'Nebraska', 'Orlando' : 'Florida', 'Paradise' : 'Nevada', 'Pasadena' : 'California', 'Philadelphia' : 'Pennsylvania', 'Phoenix' : 'Arizona', 'Pittsburgh' : 'Pennsylvania', 'Portland' : 'Oregon', 'Raleigh' : 'North Carolina', 'Rosemont' : 'Illinois', 'Sacramento' : 'California', 'Saint Paul' : 'Minnesota', 'Salt Lake City' : 'Utah', 'San Antonio' : 'Texas', 'San Diego' : 'California', 'San Francisco' : 'California', 'San Jose' : 'California', 'Santa Clara' : 'California', 'Seattle' : 'Washington', 'St. Louis' : 'Missouri', 'Stanford' : 'California', 'Sunrise' : 'Florida', 'Syracuse' : 'New York', 'Tacoma' : 'Washington', 'Tampa' : 'Florida', 'Thousand Palms' : 'California', 'Tulsa' : 'Oklahoma', 'Uncasville': 'Connecticut', 'Uniondale' : 'New York', 'University Park' : 'Pennsylvania', 'Washington, D.C.' : 'Washington, D.C.', 'Whitney' : 'Nevada'}"
   ]
  },
  {
   "cell_type": "markdown",
   "id": "62514022-736e-498f-b2ad-1f3c06c0fb1b",
   "metadata": {},
   "source": [
    "Defining the function for assigning each city a state."
   ]
  },
  {
   "cell_type": "code",
   "execution_count": 44,
   "id": "32778ca8-de5f-4964-b8c6-b367b9e0f14a",
   "metadata": {},
   "outputs": [],
   "source": [
    "def set_value(row_number, assigned_value):\n",
    "    return assigned_value[row_number]"
   ]
  },
  {
   "cell_type": "markdown",
   "id": "7d2e85c5-a5d2-4845-a1c1-c4ada6dc98ed",
   "metadata": {},
   "source": [
    "Applying the dictionary to the dataframe in a new column, and now I have the states attached!"
   ]
  },
  {
   "cell_type": "code",
   "execution_count": 45,
   "id": "2391bf45-87de-492f-a9c0-4563ddd8aa60",
   "metadata": {},
   "outputs": [
    {
     "data": {
      "text/html": [
       "<div>\n",
       "<style scoped>\n",
       "    .dataframe tbody tr th:only-of-type {\n",
       "        vertical-align: middle;\n",
       "    }\n",
       "\n",
       "    .dataframe tbody tr th {\n",
       "        vertical-align: top;\n",
       "    }\n",
       "\n",
       "    .dataframe thead th {\n",
       "        text-align: right;\n",
       "    }\n",
       "</style>\n",
       "<table border=\"1\" class=\"dataframe\">\n",
       "  <thead>\n",
       "    <tr style=\"text-align: right;\">\n",
       "      <th></th>\n",
       "      <th>Date</th>\n",
       "      <th>City</th>\n",
       "      <th>Country</th>\n",
       "      <th>Venue</th>\n",
       "      <th>Attendance</th>\n",
       "      <th>Revenue</th>\n",
       "      <th>Artist</th>\n",
       "      <th>State</th>\n",
       "    </tr>\n",
       "  </thead>\n",
       "  <tbody>\n",
       "    <tr>\n",
       "      <th>49</th>\n",
       "      <td>29 June 2017</td>\n",
       "      <td>Kansas City</td>\n",
       "      <td>United States</td>\n",
       "      <td>Sprint Center</td>\n",
       "      <td>13382</td>\n",
       "      <td>1217313</td>\n",
       "      <td>Ed Sheeran</td>\n",
       "      <td>Missouri</td>\n",
       "    </tr>\n",
       "    <tr>\n",
       "      <th>50</th>\n",
       "      <td>30 June 2017</td>\n",
       "      <td>Des Moines</td>\n",
       "      <td>United States</td>\n",
       "      <td>Wells Fargo Arena</td>\n",
       "      <td>13375</td>\n",
       "      <td>1078939</td>\n",
       "      <td>Ed Sheeran</td>\n",
       "      <td>Iowa</td>\n",
       "    </tr>\n",
       "    <tr>\n",
       "      <th>51</th>\n",
       "      <td>1 July 2017</td>\n",
       "      <td>Saint Paul</td>\n",
       "      <td>United States</td>\n",
       "      <td>Xcel Energy Center</td>\n",
       "      <td>14938</td>\n",
       "      <td>1375063</td>\n",
       "      <td>Ed Sheeran</td>\n",
       "      <td>Minnesota</td>\n",
       "    </tr>\n",
       "    <tr>\n",
       "      <th>54</th>\n",
       "      <td>9 July 2017</td>\n",
       "      <td>Buffalo</td>\n",
       "      <td>United States</td>\n",
       "      <td>KeyBank Center</td>\n",
       "      <td>14305</td>\n",
       "      <td>1167095</td>\n",
       "      <td>Ed Sheeran</td>\n",
       "      <td>New York</td>\n",
       "    </tr>\n",
       "    <tr>\n",
       "      <th>55</th>\n",
       "      <td>11 July 2017</td>\n",
       "      <td>Philadelphia</td>\n",
       "      <td>United States</td>\n",
       "      <td>Wells Fargo Center</td>\n",
       "      <td>28922</td>\n",
       "      <td>2630260</td>\n",
       "      <td>Ed Sheeran</td>\n",
       "      <td>Pennsylvania</td>\n",
       "    </tr>\n",
       "  </tbody>\n",
       "</table>\n",
       "</div>"
      ],
      "text/plain": [
       "            Date          City        Country               Venue  Attendance  \\\n",
       "49  29 June 2017   Kansas City  United States       Sprint Center       13382   \n",
       "50  30 June 2017    Des Moines  United States   Wells Fargo Arena       13375   \n",
       "51   1 July 2017    Saint Paul  United States  Xcel Energy Center       14938   \n",
       "54   9 July 2017       Buffalo  United States      KeyBank Center       14305   \n",
       "55  11 July 2017  Philadelphia  United States  Wells Fargo Center       28922   \n",
       "\n",
       "    Revenue      Artist         State  \n",
       "49  1217313  Ed Sheeran      Missouri  \n",
       "50  1078939  Ed Sheeran          Iowa  \n",
       "51  1375063  Ed Sheeran     Minnesota  \n",
       "54  1167095  Ed Sheeran      New York  \n",
       "55  2630260  Ed Sheeran  Pennsylvania  "
      ]
     },
     "execution_count": 45,
     "metadata": {},
     "output_type": "execute_result"
    }
   ],
   "source": [
    "tours_merged_df['State'] = tours_merged_df['City'].apply(set_value, args=(cities_dictionary, ))\n",
    "tours_merged_df.head()"
   ]
  },
  {
   "cell_type": "markdown",
   "id": "b811c1eb-ea86-4c6b-8ab3-63a3dcf56d08",
   "metadata": {},
   "source": [
    "Here is where I start to clean the data specifically for visualization."
   ]
  },
  {
   "cell_type": "markdown",
   "id": "743212c6-a75d-41f5-ab4c-61ebaf118df3",
   "metadata": {},
   "source": [
    "This creates a dataframe that counts the instances of each state appearing in the dataframe, which is the number of times the state was visited by each artist."
   ]
  },
  {
   "cell_type": "code",
   "execution_count": 46,
   "id": "3746180f-c38b-48e0-af60-83bda6378ba3",
   "metadata": {},
   "outputs": [
    {
     "data": {
      "text/html": [
       "<div>\n",
       "<style scoped>\n",
       "    .dataframe tbody tr th:only-of-type {\n",
       "        vertical-align: middle;\n",
       "    }\n",
       "\n",
       "    .dataframe tbody tr th {\n",
       "        vertical-align: top;\n",
       "    }\n",
       "\n",
       "    .dataframe thead th {\n",
       "        text-align: right;\n",
       "    }\n",
       "</style>\n",
       "<table border=\"1\" class=\"dataframe\">\n",
       "  <thead>\n",
       "    <tr style=\"text-align: right;\">\n",
       "      <th></th>\n",
       "      <th>State</th>\n",
       "      <th>State Num</th>\n",
       "    </tr>\n",
       "  </thead>\n",
       "  <tbody>\n",
       "    <tr>\n",
       "      <th>0</th>\n",
       "      <td>California</td>\n",
       "      <td>79</td>\n",
       "    </tr>\n",
       "    <tr>\n",
       "      <th>1</th>\n",
       "      <td>New York</td>\n",
       "      <td>44</td>\n",
       "    </tr>\n",
       "    <tr>\n",
       "      <th>2</th>\n",
       "      <td>Texas</td>\n",
       "      <td>37</td>\n",
       "    </tr>\n",
       "  </tbody>\n",
       "</table>\n",
       "</div>"
      ],
      "text/plain": [
       "        State  State Num\n",
       "0  California         79\n",
       "1    New York         44\n",
       "2       Texas         37"
      ]
     },
     "execution_count": 46,
     "metadata": {},
     "output_type": "execute_result"
    }
   ],
   "source": [
    "state_count_df = tours_merged_df['State'].value_counts().rename_axis('State').reset_index(name='State Num')\n",
    "state_count_df.head(3)"
   ]
  },
  {
   "cell_type": "markdown",
   "id": "b4c54cce-2ffb-4b5b-8d70-a1fd5fe12402",
   "metadata": {},
   "source": [
    "This creates a dataframe from the dictionary, listing the city alongside the state. I then use this to count the number of times that each state appears in the dataframe (i.e. the number of cities there are in each state)"
   ]
  },
  {
   "cell_type": "code",
   "execution_count": 47,
   "id": "32a7cf8a-cdd9-491d-90b6-e33e91e07473",
   "metadata": {},
   "outputs": [
    {
     "data": {
      "text/html": [
       "<div>\n",
       "<style scoped>\n",
       "    .dataframe tbody tr th:only-of-type {\n",
       "        vertical-align: middle;\n",
       "    }\n",
       "\n",
       "    .dataframe tbody tr th {\n",
       "        vertical-align: top;\n",
       "    }\n",
       "\n",
       "    .dataframe thead th {\n",
       "        text-align: right;\n",
       "    }\n",
       "</style>\n",
       "<table border=\"1\" class=\"dataframe\">\n",
       "  <thead>\n",
       "    <tr style=\"text-align: right;\">\n",
       "      <th></th>\n",
       "      <th>City</th>\n",
       "      <th>State</th>\n",
       "    </tr>\n",
       "  </thead>\n",
       "  <tbody>\n",
       "    <tr>\n",
       "      <th>0</th>\n",
       "      <td>Albany</td>\n",
       "      <td>New York</td>\n",
       "    </tr>\n",
       "    <tr>\n",
       "      <th>1</th>\n",
       "      <td>Allentown</td>\n",
       "      <td>Pennsylvania</td>\n",
       "    </tr>\n",
       "    <tr>\n",
       "      <th>2</th>\n",
       "      <td>Anaheim</td>\n",
       "      <td>California</td>\n",
       "    </tr>\n",
       "  </tbody>\n",
       "</table>\n",
       "</div>"
      ],
      "text/plain": [
       "        City         State\n",
       "0     Albany      New York\n",
       "1  Allentown  Pennsylvania\n",
       "2    Anaheim    California"
      ]
     },
     "execution_count": 47,
     "metadata": {},
     "output_type": "execute_result"
    }
   ],
   "source": [
    "unique_cities = pd.DataFrame.from_dict(cities_dictionary, orient='index', columns=['State'])\n",
    "unique_cities = unique_cities.reset_index(names='City')\n",
    "\n",
    "unique_cities.head(3)"
   ]
  },
  {
   "cell_type": "code",
   "execution_count": 48,
   "id": "102baa3f-cf75-40c5-9062-bcd92be48870",
   "metadata": {},
   "outputs": [],
   "source": [
    "num_cities_count_df = unique_cities['State'].value_counts().rename_axis('State').reset_index(name='Cities Num')\n",
    "# num_cities_count_df"
   ]
  },
  {
   "cell_type": "markdown",
   "id": "0ed7ab5d-9f9f-4501-8d22-ab5cdcb0f5a2",
   "metadata": {},
   "source": [
    "The next two blocks of code get the revenue by state and the total number of attendees per state."
   ]
  },
  {
   "cell_type": "code",
   "execution_count": 49,
   "id": "6067be79-3fba-42f8-86b1-712d8c264c46",
   "metadata": {},
   "outputs": [],
   "source": [
    "state_rev = tours_merged_df.groupby('State')['Revenue'].sum()\n",
    "state_rev_df = state_rev.rename_axis('State').reset_index(name='Revenue')\n",
    "state_rev_df = state_rev_df.sort_values(by='Revenue', ascending = False)"
   ]
  },
  {
   "cell_type": "code",
   "execution_count": 50,
   "id": "ea17cb1b-ac34-4a5d-8e33-3bd93197d61e",
   "metadata": {},
   "outputs": [],
   "source": [
    "state_attendance = tours_merged_df.groupby('State')['Attendance'].sum()\n",
    "state_att_df = state_attendance.rename_axis('State').reset_index(name='Attendance')\n",
    "state_att_df = state_att_df.sort_values(by='Attendance', ascending = False)\n",
    "# state_att_df.head()"
   ]
  },
  {
   "cell_type": "markdown",
   "id": "921b4bfa-3b1d-4ee0-80c8-79e538543ff2",
   "metadata": {},
   "source": [
    "Merging all four dataframes into one dataframe, which I can then use for all of my analysis!"
   ]
  },
  {
   "cell_type": "code",
   "execution_count": 51,
   "id": "f54e224d-e9ad-48b6-8bb3-a680eb3c533a",
   "metadata": {},
   "outputs": [],
   "source": [
    "analysis_df = pd.merge(pd.merge(pd.merge(state_count_df, num_cities_count_df, how = 'inner'), state_att_df, how = 'inner'), state_rev_df, how = 'inner')\n",
    "# cities_states_merged"
   ]
  },
  {
   "cell_type": "markdown",
   "id": "457ab279-ee0b-494d-84f2-07adaf8a948d",
   "metadata": {},
   "source": [
    "## Analysis"
   ]
  },
  {
   "cell_type": "markdown",
   "id": "659b1dff-78b0-4a9d-bf6a-8856684bc5d2",
   "metadata": {},
   "source": [
    "Starting out, we have a rather large chart that shows the number of times each state was visited. I Felt this was important to include in it's entirety because it provides a kind of \"baseline\" for the charts that come after: to get a sense of what states might be lower, and to familiarize yourself with the states that are going to be appearing a lot. Plus, having it on such a large scale really drives home how many times California was visited: almost twice as many times as the state below (which makes sense, because California's state population is more than twice as much as New York's). "
   ]
  },
  {
   "cell_type": "code",
   "execution_count": 52,
   "id": "6cd0ffa8-b8a3-4831-bf9c-4304101b462a",
   "metadata": {},
   "outputs": [
    {
     "data": {
      "text/plain": [
       "Text(0.5, 0.98, 'Times each state was visited')"
      ]
     },
     "execution_count": 52,
     "metadata": {},
     "output_type": "execute_result"
    },
    {
     "data": {
      "image/png": "[encoded data removed]",
      "text/plain": [
       "<Figure size 1000x600 with 1 Axes>"
      ]
     },
     "metadata": {},
     "output_type": "display_data"
    }
   ],
   "source": [
    "fig1, ax1 = plt.subplots(figsize = (10,6), layout = 'constrained')\n",
    "ax1.barh(analysis_df['State'], analysis_df['State Num'], color ='red')\n",
    "\n",
    "fig1.supylabel('# of visits')\n",
    "fig1.suptitle('Times each state was visited')"
   ]
  },
  {
   "cell_type": "markdown",
   "id": "41e5d685-da22-483f-8371-c722332c07a6",
   "metadata": {},
   "source": [
    "From here on out, I'll (mostly) just be using the upper sections of the data."
   ]
  },
  {
   "cell_type": "markdown",
   "id": "17ba11b5-63fc-4770-899e-31e040ec7303",
   "metadata": {},
   "source": [
    "Here I have the previous chart, overlayed with the chart about the number of cities visited in each state. There's a general trend of more cities meaning more visits, which is what I expected."
   ]
  },
  {
   "cell_type": "code",
   "execution_count": 53,
   "id": "acc7a184-d583-465e-92e4-70b0ebc476a6",
   "metadata": {},
   "outputs": [
    {
     "data": {
      "text/plain": [
       "Text(0, 0.5, 'States')"
      ]
     },
     "execution_count": 53,
     "metadata": {},
     "output_type": "execute_result"
    },
    {
     "data": {
      "image/png": "[encoded data removed]",
      "text/plain": [
       "<Figure size 640x480 with 1 Axes>"
      ]
     },
     "metadata": {},
     "output_type": "display_data"
    }
   ],
   "source": [
    "fig2, ax2 = plt.subplots()\n",
    "g1 = ax2.barh(analysis_df['State'].head(15), analysis_df['State Num'].head(15), color = 'red', label = \"Times states were visited\")\n",
    "g2 = ax2.barh(analysis_df['State'].head(15), analysis_df['Cities Num'].head(15), alpha = 0.5, color = 'blue', label = \"Cities visited per state\")\n",
    "\n",
    "ax2.legend(handles = [g1, g2])\n",
    "ax2.set_title(\"State Visits Vs. Cities per State\")\n",
    "ax2.set_xlabel(\"Instances\")\n",
    "ax2.set_ylabel(\"States\")"
   ]
  },
  {
   "cell_type": "markdown",
   "id": "51226909-f347-4efb-aa14-ab66969e488d",
   "metadata": {},
   "source": [
    "Here is that same table, this time arranged as a scatterplot. This makes it a lot easier to see how extreme the outlier California is. It's not quite linear, but you can see where the average lies."
   ]
  },
  {
   "cell_type": "markdown",
   "id": "62a044b5-5a2d-4495-8674-c3295c79159c",
   "metadata": {},
   "source": [
    "This chart, because it includes all of the data, makes it easy to see the large amount of variance in overall state visits versus cities visited. Though there is only one city visited, artists could go to the state anywhere between 1-10 times. There's a large amount of variance here, and it would be worth looking into what cities are on the upper end of this scale, and seeing whether this correlates with a higher revenue. This chart makes the loose correlation a lot easier to see than the bar chart."
   ]
  },
  {
   "cell_type": "code",
   "execution_count": 55,
   "id": "793f149c-4ad5-499b-b525-1731b2442314",
   "metadata": {},
   "outputs": [
    {
     "data": {
      "image/png": "[encoded data removed]",
      "text/plain": [
       "<Figure size 640x480 with 1 Axes>"
      ]
     },
     "metadata": {},
     "output_type": "display_data"
    }
   ],
   "source": [
    "fig3, ax3 = plt.subplots()\n",
    "ax3.scatter(analysis_df['Cities Num'], analysis_df['State Num'], color = 'yellowgreen', alpha = 0.3, label = \"Times states were visited\") \n",
    "ax3.set_title(\"State Visits Vs. Cities per State\")\n",
    "ax3.set_xlabel(\"Cities per State\")\n",
    "ax3.set_ylabel(\"State Visits\")\n",
    "\n",
    "analysis_df[['Cities Num', 'State Num', 'State']].head(5).apply(lambda x: ax3.text(*x),axis=1)\n",
    "plt.show()"
   ]
  },
  {
   "cell_type": "markdown",
   "id": "6053876f-273e-4d14-a831-e6d3c17a2868",
   "metadata": {},
   "source": [
    "This chart compares the attendance vs. the revenue. I think it's interesting how much closer California and New York are in this set. Plus, the three below them are different from the ones at the top of every other chart. But, they are still high enough on the other charts for this to not be a very shocking jump."
   ]
  },
  {
   "cell_type": "code",
   "execution_count": 58,
   "id": "df6fe9b3-ce7b-4d57-b4cf-81f3ccb80333",
   "metadata": {},
   "outputs": [
    {
     "data": {
      "image/png": "[encoded data removed]",
      "text/plain": [
       "<Figure size 640x480 with 1 Axes>"
      ]
     },
     "metadata": {},
     "output_type": "display_data"
    }
   ],
   "source": [
    "fig4, ax4 = plt.subplots()\n",
    "ax4.scatter(analysis_df['Revenue'], analysis_df['Attendance'], alpha = 0.2, color = 'olive')\n",
    "\n",
    "ax4.set_xlabel('Revenue (in billions)')\n",
    "ax4.set_ylabel('Attendance (in millions)')\n",
    "ax4.set_title ('Attendance vs. Revenue')\n",
    "\n",
    "analysis_df[['Revenue', 'Attendance', 'State']].head(5).apply(lambda x: ax4.text(*x),axis=1)\n",
    "plt.show()"
   ]
  },
  {
   "cell_type": "markdown",
   "id": "548f87c2-9bb3-46c6-a6fd-8d4a694774b4",
   "metadata": {},
   "source": [
    "This all builds up to my last table. There's a clear correlation, but a lot more variance than I was expecting. What jumps out at me is how low revenue is for Texas, around the same as Illinois, even though Texas has many more cities. Referring to the first chart, Texas is 3rd in overall state visits compared to Illinois's 6th place, making it even more interesting. In terms of what could be causing that difference, I'm not sure. Two ideas are that larger cities (i.e. Chicago) may charge more for tickets. Another idea would be that Texas could have larger expenses, but the tables don't distinguish whether the income is net or gross. I'm operating under the assumption that it's net, so I don't have a clear idea of why the revenue could vary this much."
   ]
  },
  {
   "cell_type": "markdown",
   "id": "a115f872-3c52-41c1-9351-483e8db8791d",
   "metadata": {},
   "source": [
    "But, this really shows the differences in the margins between states. Texas and Florida have the same number of cities, but there is a much higher profit associated with a visit to Texas."
   ]
  },
  {
   "cell_type": "code",
   "execution_count": 102,
   "id": "e04e0887-9880-4853-a41a-a82595974410",
   "metadata": {},
   "outputs": [
    {
     "data": {
      "image/png": "[encoded data removed]",
      "text/plain": [
       "<Figure size 2000x500 with 2 Axes>"
      ]
     },
     "metadata": {},
     "output_type": "display_data"
    }
   ],
   "source": [
    "fig, ax5 = plt.subplots(figsize = (20, 5))\n",
    "\n",
    "# Create the first bar plot\n",
    "ax5.bar(analysis_df['State'].head(15), analysis_df['Cities Num'].head(15), color='blue', alpha = 0.5)\n",
    "ax5.set_ylabel('Cities per State')\n",
    "ax5.tick_params(axis='y', labelcolor='blue')\n",
    "\n",
    "\n",
    "ax6 = ax5.twinx()\n",
    "\n",
    "# Create the second bar plot\n",
    "ax6.bar(analysis_df['State'].head(15), analysis_df['Revenue'].head(15), color='deeppink', alpha = 0.5)\n",
    "ax6.set_ylabel('Revenue (Billions)')\n",
    "ax6.tick_params(axis='y', labelcolor='deeppink')\n",
    "\n",
    "ax5.set_title ('Cities per State vs. Revenue')\n",
    "\n",
    "plt.show()"
   ]
  },
  {
   "cell_type": "markdown",
   "id": "2a07d230-ae17-410f-a991-47a04d3d4984",
   "metadata": {},
   "source": [
    "It also really surprised me how far New York's revenue is compared to the cities. I thought this might be because of the amount of times that New York City would be visited, so I created this chart to rule out that possibility. But this chart shows that no, even though New York has a much lower number of visits than California, it has a much higher revenue than California. This was really surprising! My first thought was about Madison Square Garden, and how that is the \"ultimate\" venue to a lot of artists, so that might call for a higher ticket price, but I don't think that would bridge the entire gap."
   ]
  },
  {
   "cell_type": "markdown",
   "id": "a6e60d83-9100-4a80-83fe-5a476538caff",
   "metadata": {},
   "source": [
    "While my hypothesis was about the cities specifically, I feel like this chart is easier to draw conclusions from and better illustrates the variance I am trying to showcase."
   ]
  },
  {
   "cell_type": "markdown",
   "id": "1f1b9d30-b12a-4723-a60d-87400bb28f7d",
   "metadata": {},
   "source": [
    "Similarly, this chart can be used to draw conclusions about profit margin. Massachussets and Missouri were visited almost the same number of times, but Massachussets had a much higher revenue. This could cause an event planner to choose scheduling a concert in Massachussets instead, because it shows the profit per show is much greater."
   ]
  },
  {
   "cell_type": "code",
   "execution_count": 103,
   "id": "a876d93a-4828-4012-b5f0-aedad62382e1",
   "metadata": {},
   "outputs": [
    {
     "data": {
      "image/png": "[encoded data removed]",
      "text/plain": [
       "<Figure size 2000x500 with 2 Axes>"
      ]
     },
     "metadata": {},
     "output_type": "display_data"
    }
   ],
   "source": [
    "fig, ax7 = plt.subplots(figsize = (20, 5))\n",
    "\n",
    "h1 = ax7.bar(analysis_df['State'].head(15), analysis_df['State Num'].head(15), color='orange', alpha = 0.5)\n",
    "ax7.set_ylabel('Visits per State')\n",
    "ax7.tick_params(axis='y', labelcolor='orange')\n",
    "\n",
    "\n",
    "ax8 = ax7.twinx()\n",
    "\n",
    "h2 = ax8.bar(analysis_df['State'].head(15), analysis_df['Revenue'].head(15), color='deeppink', alpha = 0.5)\n",
    "ax8.set_ylabel('Revenue (Billions)')\n",
    "ax8.tick_params(axis='y', labelcolor='deeppink')\n",
    "\n",
    "ax7.set_title ('Visits per State vs. Revenue')\n",
    "\n",
    "plt.show()"
   ]
  },
  {
   "cell_type": "markdown",
   "id": "c3266d55-0e50-400a-ae8c-f27b1414e734",
   "metadata": {},
   "source": [
    "## Conclusion"
   ]
  },
  {
   "cell_type": "markdown",
   "id": "e91744d7-0bbe-4ce8-ab47-152d2e3a4da0",
   "metadata": {},
   "source": [
    "The results were pretty much as I expected. California and New York topped all of the charts, and while the ~10 or so states underneath them changed, they were roughly the same. But I think this data provides a really interesting foundation to move forward with."
   ]
  },
  {
   "cell_type": "markdown",
   "id": "20eb59d0-f455-4c9f-a93e-705a560a0b8c",
   "metadata": {},
   "source": [
    "I expected New York and California to dominate in all of the graphs, but I was surprised at just how ahead they were of the other states. When fans are disappointed that an artist is not coming to them, a gut reaction is to say \"It's *always* California!\" But this report shows that it truly *is* always California, and fans might be justified in feeling that way. While the profit of California is very high, it also has a slightly higher margin than most other states, justifying why it's visited so consistently. But, there are other states visited less that have a similarly high margin, which could give a reason to visit those states more often."
   ]
  },
  {
   "cell_type": "markdown",
   "id": "2075a7dd-78b8-4e9f-95cd-3801a7b364d0",
   "metadata": {},
   "source": [
    "One limitation I found was the severe lack of financial data for concerts that was not kept behind a paywall. All of my data comes from Wikipedia: it cites the original Pollstar data I wanted to use, but was paywalled. Another limiation was the amount of manual data entry I had to complete in order to get the states attached, limiting the amount of tours I could scrape for data."
   ]
  },
  {
   "cell_type": "markdown",
   "id": "07320680-c963-4d13-ab61-15e9f24d80db",
   "metadata": {},
   "source": [
    "Another potential concern was the lack of attendance and revenue data for the Eras Tour. On a larger dataset, it may not matter as much, but with only five tours to pull from I feel it had the possiblity to warp the findings. But because the eras tour was so \"iconic\", I found it hard to justify removing it from the dataset entirely."
   ]
  },
  {
   "cell_type": "markdown",
   "id": "239eb2a4-3fa0-4aae-82c4-9c5b87d16b93",
   "metadata": {},
   "source": [
    "I considered working with the venue names, but decided against it. I figured an artist would choose a tour based on the states or cities, and the venue would be decided based on the contract offered, capacity, technical capabilites, timing, etc. But the variance in the revenue vs. the cities per state makes me curious about what could be the cause for that variance, for New York especially. A next step for me would be to dig into the average revenue per venue, since cities can have multiple venues, and see if there are any outliers in that data."
   ]
  },
  {
   "cell_type": "markdown",
   "id": "0d29430c-d485-4387-8dd7-1a0cb960eb2b",
   "metadata": {},
   "source": [
    "I am not sure what could be causing the wide variance between profitability among states with the same amount of shows. This was really interesting to me, because I was expecting a similar margin among each state. This is something that I would want to look into more, but it might require the context of industry knowledge alongside more financial data to make sense."
   ]
  },
  {
   "cell_type": "markdown",
   "id": "848d3051-026c-4c13-bacb-1b94df3168dc",
   "metadata": {},
   "source": [
    "This data is a long way from being something that tour managers could use to make decisions, but I think it's on it's way to becoming an interesting visualization for fans. Tour managers have not only more data to work with, but more of an idea of how the industry works. But these findings seem to confirm a lot of complaints that fans have about the variety in locations visited on tour, and could start a conversation about how to bridge fan expectations while still keeping a tour profitable."
   ]
  }
 ],
 "metadata": {
  "kernelspec": {
   "display_name": "Python 3 (ipykernel)",
   "language": "python",
   "name": "python3"
  },
  "language_info": {
   "codemirror_mode": {
    "name": "ipython",
    "version": 3
   },
   "file_extension": ".py",
   "mimetype": "text/x-python",
   "name": "python",
   "nbconvert_exporter": "python",
   "pygments_lexer": "ipython3",
   "version": "3.12.4"
  }
 },
 "nbformat": 4,
 "nbformat_minor": 5
}
